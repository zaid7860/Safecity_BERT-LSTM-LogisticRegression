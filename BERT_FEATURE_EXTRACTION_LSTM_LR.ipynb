{
  "nbformat": 4,
  "nbformat_minor": 0,
  "metadata": {
    "colab": {
      "name": "BERT-FEATURE-EXTRACTION-LSTM-LR.ipynb",
      "provenance": [],
      "collapsed_sections": []
    },
    "kernelspec": {
      "name": "python3",
      "display_name": "Python 3"
    },
    "accelerator": "GPU",
    "widgets": {
      "application/vnd.jupyter.widget-state+json": {
        "216bc4db0a414e3d8bc35327b1e83431": {
          "model_module": "@jupyter-widgets/controls",
          "model_name": "HBoxModel",
          "state": {
            "_view_name": "HBoxView",
            "_dom_classes": [],
            "_model_name": "HBoxModel",
            "_view_module": "@jupyter-widgets/controls",
            "_model_module_version": "1.5.0",
            "_view_count": null,
            "_view_module_version": "1.5.0",
            "box_style": "",
            "layout": "IPY_MODEL_e1e3572784a24e54a7d1c7cdce125da4",
            "_model_module": "@jupyter-widgets/controls",
            "children": [
              "IPY_MODEL_d4dad43fec8e47f38098c4165606ead9",
              "IPY_MODEL_92eef1c019004e6da9c34dc5d74e1d28"
            ]
          }
        },
        "e1e3572784a24e54a7d1c7cdce125da4": {
          "model_module": "@jupyter-widgets/base",
          "model_name": "LayoutModel",
          "state": {
            "_view_name": "LayoutView",
            "grid_template_rows": null,
            "right": null,
            "justify_content": null,
            "_view_module": "@jupyter-widgets/base",
            "overflow": null,
            "_model_module_version": "1.2.0",
            "_view_count": null,
            "flex_flow": null,
            "width": null,
            "min_width": null,
            "border": null,
            "align_items": null,
            "bottom": null,
            "_model_module": "@jupyter-widgets/base",
            "top": null,
            "grid_column": null,
            "overflow_y": null,
            "overflow_x": null,
            "grid_auto_flow": null,
            "grid_area": null,
            "grid_template_columns": null,
            "flex": null,
            "_model_name": "LayoutModel",
            "justify_items": null,
            "grid_row": null,
            "max_height": null,
            "align_content": null,
            "visibility": null,
            "align_self": null,
            "height": null,
            "min_height": null,
            "padding": null,
            "grid_auto_rows": null,
            "grid_gap": null,
            "max_width": null,
            "order": null,
            "_view_module_version": "1.2.0",
            "grid_template_areas": null,
            "object_position": null,
            "object_fit": null,
            "grid_auto_columns": null,
            "margin": null,
            "display": null,
            "left": null
          }
        },
        "d4dad43fec8e47f38098c4165606ead9": {
          "model_module": "@jupyter-widgets/controls",
          "model_name": "FloatProgressModel",
          "state": {
            "_view_name": "ProgressView",
            "style": "IPY_MODEL_eff02cd748e9429183080f7f3185dcb7",
            "_dom_classes": [],
            "description": "Downloading: 100%",
            "_model_name": "FloatProgressModel",
            "bar_style": "success",
            "max": 442,
            "_view_module": "@jupyter-widgets/controls",
            "_model_module_version": "1.5.0",
            "value": 442,
            "_view_count": null,
            "_view_module_version": "1.5.0",
            "orientation": "horizontal",
            "min": 0,
            "description_tooltip": null,
            "_model_module": "@jupyter-widgets/controls",
            "layout": "IPY_MODEL_9dd9d89bb51c45d0bb32946277518e56"
          }
        },
        "92eef1c019004e6da9c34dc5d74e1d28": {
          "model_module": "@jupyter-widgets/controls",
          "model_name": "HTMLModel",
          "state": {
            "_view_name": "HTMLView",
            "style": "IPY_MODEL_b82d94e745ed479ba9b656a50b515b42",
            "_dom_classes": [],
            "description": "",
            "_model_name": "HTMLModel",
            "placeholder": "​",
            "_view_module": "@jupyter-widgets/controls",
            "_model_module_version": "1.5.0",
            "value": " 442/442 [00:00&lt;00:00, 1.70kB/s]",
            "_view_count": null,
            "_view_module_version": "1.5.0",
            "description_tooltip": null,
            "_model_module": "@jupyter-widgets/controls",
            "layout": "IPY_MODEL_12300e954a3046febd154d128d639f07"
          }
        },
        "eff02cd748e9429183080f7f3185dcb7": {
          "model_module": "@jupyter-widgets/controls",
          "model_name": "ProgressStyleModel",
          "state": {
            "_view_name": "StyleView",
            "_model_name": "ProgressStyleModel",
            "description_width": "initial",
            "_view_module": "@jupyter-widgets/base",
            "_model_module_version": "1.5.0",
            "_view_count": null,
            "_view_module_version": "1.2.0",
            "bar_color": null,
            "_model_module": "@jupyter-widgets/controls"
          }
        },
        "9dd9d89bb51c45d0bb32946277518e56": {
          "model_module": "@jupyter-widgets/base",
          "model_name": "LayoutModel",
          "state": {
            "_view_name": "LayoutView",
            "grid_template_rows": null,
            "right": null,
            "justify_content": null,
            "_view_module": "@jupyter-widgets/base",
            "overflow": null,
            "_model_module_version": "1.2.0",
            "_view_count": null,
            "flex_flow": null,
            "width": null,
            "min_width": null,
            "border": null,
            "align_items": null,
            "bottom": null,
            "_model_module": "@jupyter-widgets/base",
            "top": null,
            "grid_column": null,
            "overflow_y": null,
            "overflow_x": null,
            "grid_auto_flow": null,
            "grid_area": null,
            "grid_template_columns": null,
            "flex": null,
            "_model_name": "LayoutModel",
            "justify_items": null,
            "grid_row": null,
            "max_height": null,
            "align_content": null,
            "visibility": null,
            "align_self": null,
            "height": null,
            "min_height": null,
            "padding": null,
            "grid_auto_rows": null,
            "grid_gap": null,
            "max_width": null,
            "order": null,
            "_view_module_version": "1.2.0",
            "grid_template_areas": null,
            "object_position": null,
            "object_fit": null,
            "grid_auto_columns": null,
            "margin": null,
            "display": null,
            "left": null
          }
        },
        "b82d94e745ed479ba9b656a50b515b42": {
          "model_module": "@jupyter-widgets/controls",
          "model_name": "DescriptionStyleModel",
          "state": {
            "_view_name": "StyleView",
            "_model_name": "DescriptionStyleModel",
            "description_width": "",
            "_view_module": "@jupyter-widgets/base",
            "_model_module_version": "1.5.0",
            "_view_count": null,
            "_view_module_version": "1.2.0",
            "_model_module": "@jupyter-widgets/controls"
          }
        },
        "12300e954a3046febd154d128d639f07": {
          "model_module": "@jupyter-widgets/base",
          "model_name": "LayoutModel",
          "state": {
            "_view_name": "LayoutView",
            "grid_template_rows": null,
            "right": null,
            "justify_content": null,
            "_view_module": "@jupyter-widgets/base",
            "overflow": null,
            "_model_module_version": "1.2.0",
            "_view_count": null,
            "flex_flow": null,
            "width": null,
            "min_width": null,
            "border": null,
            "align_items": null,
            "bottom": null,
            "_model_module": "@jupyter-widgets/base",
            "top": null,
            "grid_column": null,
            "overflow_y": null,
            "overflow_x": null,
            "grid_auto_flow": null,
            "grid_area": null,
            "grid_template_columns": null,
            "flex": null,
            "_model_name": "LayoutModel",
            "justify_items": null,
            "grid_row": null,
            "max_height": null,
            "align_content": null,
            "visibility": null,
            "align_self": null,
            "height": null,
            "min_height": null,
            "padding": null,
            "grid_auto_rows": null,
            "grid_gap": null,
            "max_width": null,
            "order": null,
            "_view_module_version": "1.2.0",
            "grid_template_areas": null,
            "object_position": null,
            "object_fit": null,
            "grid_auto_columns": null,
            "margin": null,
            "display": null,
            "left": null
          }
        },
        "89101bdd3caa424c9f8e44a1e6155f54": {
          "model_module": "@jupyter-widgets/controls",
          "model_name": "HBoxModel",
          "state": {
            "_view_name": "HBoxView",
            "_dom_classes": [],
            "_model_name": "HBoxModel",
            "_view_module": "@jupyter-widgets/controls",
            "_model_module_version": "1.5.0",
            "_view_count": null,
            "_view_module_version": "1.5.0",
            "box_style": "",
            "layout": "IPY_MODEL_d69c4906711442eeac99fda42deb8164",
            "_model_module": "@jupyter-widgets/controls",
            "children": [
              "IPY_MODEL_6f39d7bd3d4240cfabc9d0a7b2605888",
              "IPY_MODEL_8b25bcd105134500b2c360edee099bce"
            ]
          }
        },
        "d69c4906711442eeac99fda42deb8164": {
          "model_module": "@jupyter-widgets/base",
          "model_name": "LayoutModel",
          "state": {
            "_view_name": "LayoutView",
            "grid_template_rows": null,
            "right": null,
            "justify_content": null,
            "_view_module": "@jupyter-widgets/base",
            "overflow": null,
            "_model_module_version": "1.2.0",
            "_view_count": null,
            "flex_flow": null,
            "width": null,
            "min_width": null,
            "border": null,
            "align_items": null,
            "bottom": null,
            "_model_module": "@jupyter-widgets/base",
            "top": null,
            "grid_column": null,
            "overflow_y": null,
            "overflow_x": null,
            "grid_auto_flow": null,
            "grid_area": null,
            "grid_template_columns": null,
            "flex": null,
            "_model_name": "LayoutModel",
            "justify_items": null,
            "grid_row": null,
            "max_height": null,
            "align_content": null,
            "visibility": null,
            "align_self": null,
            "height": null,
            "min_height": null,
            "padding": null,
            "grid_auto_rows": null,
            "grid_gap": null,
            "max_width": null,
            "order": null,
            "_view_module_version": "1.2.0",
            "grid_template_areas": null,
            "object_position": null,
            "object_fit": null,
            "grid_auto_columns": null,
            "margin": null,
            "display": null,
            "left": null
          }
        },
        "6f39d7bd3d4240cfabc9d0a7b2605888": {
          "model_module": "@jupyter-widgets/controls",
          "model_name": "FloatProgressModel",
          "state": {
            "_view_name": "ProgressView",
            "style": "IPY_MODEL_1e6c798abde844d9b402a6a7f4376c63",
            "_dom_classes": [],
            "description": "Downloading: 100%",
            "_model_name": "FloatProgressModel",
            "bar_style": "success",
            "max": 267967963,
            "_view_module": "@jupyter-widgets/controls",
            "_model_module_version": "1.5.0",
            "value": 267967963,
            "_view_count": null,
            "_view_module_version": "1.5.0",
            "orientation": "horizontal",
            "min": 0,
            "description_tooltip": null,
            "_model_module": "@jupyter-widgets/controls",
            "layout": "IPY_MODEL_5482d0ba9f564a5799042f4d1ccb066c"
          }
        },
        "8b25bcd105134500b2c360edee099bce": {
          "model_module": "@jupyter-widgets/controls",
          "model_name": "HTMLModel",
          "state": {
            "_view_name": "HTMLView",
            "style": "IPY_MODEL_b9b6b232a2af4be29027ea19a40a282a",
            "_dom_classes": [],
            "description": "",
            "_model_name": "HTMLModel",
            "placeholder": "​",
            "_view_module": "@jupyter-widgets/controls",
            "_model_module_version": "1.5.0",
            "value": " 268M/268M [00:04&lt;00:00, 55.1MB/s]",
            "_view_count": null,
            "_view_module_version": "1.5.0",
            "description_tooltip": null,
            "_model_module": "@jupyter-widgets/controls",
            "layout": "IPY_MODEL_08542589c6dc4d96b5c79b429a417836"
          }
        },
        "1e6c798abde844d9b402a6a7f4376c63": {
          "model_module": "@jupyter-widgets/controls",
          "model_name": "ProgressStyleModel",
          "state": {
            "_view_name": "StyleView",
            "_model_name": "ProgressStyleModel",
            "description_width": "initial",
            "_view_module": "@jupyter-widgets/base",
            "_model_module_version": "1.5.0",
            "_view_count": null,
            "_view_module_version": "1.2.0",
            "bar_color": null,
            "_model_module": "@jupyter-widgets/controls"
          }
        },
        "5482d0ba9f564a5799042f4d1ccb066c": {
          "model_module": "@jupyter-widgets/base",
          "model_name": "LayoutModel",
          "state": {
            "_view_name": "LayoutView",
            "grid_template_rows": null,
            "right": null,
            "justify_content": null,
            "_view_module": "@jupyter-widgets/base",
            "overflow": null,
            "_model_module_version": "1.2.0",
            "_view_count": null,
            "flex_flow": null,
            "width": null,
            "min_width": null,
            "border": null,
            "align_items": null,
            "bottom": null,
            "_model_module": "@jupyter-widgets/base",
            "top": null,
            "grid_column": null,
            "overflow_y": null,
            "overflow_x": null,
            "grid_auto_flow": null,
            "grid_area": null,
            "grid_template_columns": null,
            "flex": null,
            "_model_name": "LayoutModel",
            "justify_items": null,
            "grid_row": null,
            "max_height": null,
            "align_content": null,
            "visibility": null,
            "align_self": null,
            "height": null,
            "min_height": null,
            "padding": null,
            "grid_auto_rows": null,
            "grid_gap": null,
            "max_width": null,
            "order": null,
            "_view_module_version": "1.2.0",
            "grid_template_areas": null,
            "object_position": null,
            "object_fit": null,
            "grid_auto_columns": null,
            "margin": null,
            "display": null,
            "left": null
          }
        },
        "b9b6b232a2af4be29027ea19a40a282a": {
          "model_module": "@jupyter-widgets/controls",
          "model_name": "DescriptionStyleModel",
          "state": {
            "_view_name": "StyleView",
            "_model_name": "DescriptionStyleModel",
            "description_width": "",
            "_view_module": "@jupyter-widgets/base",
            "_model_module_version": "1.5.0",
            "_view_count": null,
            "_view_module_version": "1.2.0",
            "_model_module": "@jupyter-widgets/controls"
          }
        },
        "08542589c6dc4d96b5c79b429a417836": {
          "model_module": "@jupyter-widgets/base",
          "model_name": "LayoutModel",
          "state": {
            "_view_name": "LayoutView",
            "grid_template_rows": null,
            "right": null,
            "justify_content": null,
            "_view_module": "@jupyter-widgets/base",
            "overflow": null,
            "_model_module_version": "1.2.0",
            "_view_count": null,
            "flex_flow": null,
            "width": null,
            "min_width": null,
            "border": null,
            "align_items": null,
            "bottom": null,
            "_model_module": "@jupyter-widgets/base",
            "top": null,
            "grid_column": null,
            "overflow_y": null,
            "overflow_x": null,
            "grid_auto_flow": null,
            "grid_area": null,
            "grid_template_columns": null,
            "flex": null,
            "_model_name": "LayoutModel",
            "justify_items": null,
            "grid_row": null,
            "max_height": null,
            "align_content": null,
            "visibility": null,
            "align_self": null,
            "height": null,
            "min_height": null,
            "padding": null,
            "grid_auto_rows": null,
            "grid_gap": null,
            "max_width": null,
            "order": null,
            "_view_module_version": "1.2.0",
            "grid_template_areas": null,
            "object_position": null,
            "object_fit": null,
            "grid_auto_columns": null,
            "margin": null,
            "display": null,
            "left": null
          }
        },
        "ac7f10bb06804bdb98a72352c8719e8d": {
          "model_module": "@jupyter-widgets/controls",
          "model_name": "HBoxModel",
          "state": {
            "_view_name": "HBoxView",
            "_dom_classes": [],
            "_model_name": "HBoxModel",
            "_view_module": "@jupyter-widgets/controls",
            "_model_module_version": "1.5.0",
            "_view_count": null,
            "_view_module_version": "1.5.0",
            "box_style": "",
            "layout": "IPY_MODEL_707779d493d34cc9a8a6537f9d8c5618",
            "_model_module": "@jupyter-widgets/controls",
            "children": [
              "IPY_MODEL_0d4c1715d4194291961ef2360d271cc8",
              "IPY_MODEL_321a89d0e91a4d108417fe0fdb5a1a7a"
            ]
          }
        },
        "707779d493d34cc9a8a6537f9d8c5618": {
          "model_module": "@jupyter-widgets/base",
          "model_name": "LayoutModel",
          "state": {
            "_view_name": "LayoutView",
            "grid_template_rows": null,
            "right": null,
            "justify_content": null,
            "_view_module": "@jupyter-widgets/base",
            "overflow": null,
            "_model_module_version": "1.2.0",
            "_view_count": null,
            "flex_flow": null,
            "width": null,
            "min_width": null,
            "border": null,
            "align_items": null,
            "bottom": null,
            "_model_module": "@jupyter-widgets/base",
            "top": null,
            "grid_column": null,
            "overflow_y": null,
            "overflow_x": null,
            "grid_auto_flow": null,
            "grid_area": null,
            "grid_template_columns": null,
            "flex": null,
            "_model_name": "LayoutModel",
            "justify_items": null,
            "grid_row": null,
            "max_height": null,
            "align_content": null,
            "visibility": null,
            "align_self": null,
            "height": null,
            "min_height": null,
            "padding": null,
            "grid_auto_rows": null,
            "grid_gap": null,
            "max_width": null,
            "order": null,
            "_view_module_version": "1.2.0",
            "grid_template_areas": null,
            "object_position": null,
            "object_fit": null,
            "grid_auto_columns": null,
            "margin": null,
            "display": null,
            "left": null
          }
        },
        "0d4c1715d4194291961ef2360d271cc8": {
          "model_module": "@jupyter-widgets/controls",
          "model_name": "FloatProgressModel",
          "state": {
            "_view_name": "ProgressView",
            "style": "IPY_MODEL_1ea297f240db42a3bf0484eca091cf17",
            "_dom_classes": [],
            "description": "Downloading: 100%",
            "_model_name": "FloatProgressModel",
            "bar_style": "success",
            "max": 231508,
            "_view_module": "@jupyter-widgets/controls",
            "_model_module_version": "1.5.0",
            "value": 231508,
            "_view_count": null,
            "_view_module_version": "1.5.0",
            "orientation": "horizontal",
            "min": 0,
            "description_tooltip": null,
            "_model_module": "@jupyter-widgets/controls",
            "layout": "IPY_MODEL_b97b90e60b194a1c82e1ee453a2ab2f8"
          }
        },
        "321a89d0e91a4d108417fe0fdb5a1a7a": {
          "model_module": "@jupyter-widgets/controls",
          "model_name": "HTMLModel",
          "state": {
            "_view_name": "HTMLView",
            "style": "IPY_MODEL_54b038920afb458fbc7bd2588ec22c4b",
            "_dom_classes": [],
            "description": "",
            "_model_name": "HTMLModel",
            "placeholder": "​",
            "_view_module": "@jupyter-widgets/controls",
            "_model_module_version": "1.5.0",
            "value": " 232k/232k [01:41&lt;00:00, 2.29kB/s]",
            "_view_count": null,
            "_view_module_version": "1.5.0",
            "description_tooltip": null,
            "_model_module": "@jupyter-widgets/controls",
            "layout": "IPY_MODEL_6cafe2eac5824c419dbf16690b3988e0"
          }
        },
        "1ea297f240db42a3bf0484eca091cf17": {
          "model_module": "@jupyter-widgets/controls",
          "model_name": "ProgressStyleModel",
          "state": {
            "_view_name": "StyleView",
            "_model_name": "ProgressStyleModel",
            "description_width": "initial",
            "_view_module": "@jupyter-widgets/base",
            "_model_module_version": "1.5.0",
            "_view_count": null,
            "_view_module_version": "1.2.0",
            "bar_color": null,
            "_model_module": "@jupyter-widgets/controls"
          }
        },
        "b97b90e60b194a1c82e1ee453a2ab2f8": {
          "model_module": "@jupyter-widgets/base",
          "model_name": "LayoutModel",
          "state": {
            "_view_name": "LayoutView",
            "grid_template_rows": null,
            "right": null,
            "justify_content": null,
            "_view_module": "@jupyter-widgets/base",
            "overflow": null,
            "_model_module_version": "1.2.0",
            "_view_count": null,
            "flex_flow": null,
            "width": null,
            "min_width": null,
            "border": null,
            "align_items": null,
            "bottom": null,
            "_model_module": "@jupyter-widgets/base",
            "top": null,
            "grid_column": null,
            "overflow_y": null,
            "overflow_x": null,
            "grid_auto_flow": null,
            "grid_area": null,
            "grid_template_columns": null,
            "flex": null,
            "_model_name": "LayoutModel",
            "justify_items": null,
            "grid_row": null,
            "max_height": null,
            "align_content": null,
            "visibility": null,
            "align_self": null,
            "height": null,
            "min_height": null,
            "padding": null,
            "grid_auto_rows": null,
            "grid_gap": null,
            "max_width": null,
            "order": null,
            "_view_module_version": "1.2.0",
            "grid_template_areas": null,
            "object_position": null,
            "object_fit": null,
            "grid_auto_columns": null,
            "margin": null,
            "display": null,
            "left": null
          }
        },
        "54b038920afb458fbc7bd2588ec22c4b": {
          "model_module": "@jupyter-widgets/controls",
          "model_name": "DescriptionStyleModel",
          "state": {
            "_view_name": "StyleView",
            "_model_name": "DescriptionStyleModel",
            "description_width": "",
            "_view_module": "@jupyter-widgets/base",
            "_model_module_version": "1.5.0",
            "_view_count": null,
            "_view_module_version": "1.2.0",
            "_model_module": "@jupyter-widgets/controls"
          }
        },
        "6cafe2eac5824c419dbf16690b3988e0": {
          "model_module": "@jupyter-widgets/base",
          "model_name": "LayoutModel",
          "state": {
            "_view_name": "LayoutView",
            "grid_template_rows": null,
            "right": null,
            "justify_content": null,
            "_view_module": "@jupyter-widgets/base",
            "overflow": null,
            "_model_module_version": "1.2.0",
            "_view_count": null,
            "flex_flow": null,
            "width": null,
            "min_width": null,
            "border": null,
            "align_items": null,
            "bottom": null,
            "_model_module": "@jupyter-widgets/base",
            "top": null,
            "grid_column": null,
            "overflow_y": null,
            "overflow_x": null,
            "grid_auto_flow": null,
            "grid_area": null,
            "grid_template_columns": null,
            "flex": null,
            "_model_name": "LayoutModel",
            "justify_items": null,
            "grid_row": null,
            "max_height": null,
            "align_content": null,
            "visibility": null,
            "align_self": null,
            "height": null,
            "min_height": null,
            "padding": null,
            "grid_auto_rows": null,
            "grid_gap": null,
            "max_width": null,
            "order": null,
            "_view_module_version": "1.2.0",
            "grid_template_areas": null,
            "object_position": null,
            "object_fit": null,
            "grid_auto_columns": null,
            "margin": null,
            "display": null,
            "left": null
          }
        },
        "b4cb2e4c912f4d6b8cdddc28338d6ae3": {
          "model_module": "@jupyter-widgets/controls",
          "model_name": "HBoxModel",
          "state": {
            "_view_name": "HBoxView",
            "_dom_classes": [],
            "_model_name": "HBoxModel",
            "_view_module": "@jupyter-widgets/controls",
            "_model_module_version": "1.5.0",
            "_view_count": null,
            "_view_module_version": "1.5.0",
            "box_style": "",
            "layout": "IPY_MODEL_9e42250ecdae408e9aef539fdb4c1440",
            "_model_module": "@jupyter-widgets/controls",
            "children": [
              "IPY_MODEL_8776b423fc434c9cb7127388b888acd3",
              "IPY_MODEL_70335bff78a441ffb02035484762eb47"
            ]
          }
        },
        "9e42250ecdae408e9aef539fdb4c1440": {
          "model_module": "@jupyter-widgets/base",
          "model_name": "LayoutModel",
          "state": {
            "_view_name": "LayoutView",
            "grid_template_rows": null,
            "right": null,
            "justify_content": null,
            "_view_module": "@jupyter-widgets/base",
            "overflow": null,
            "_model_module_version": "1.2.0",
            "_view_count": null,
            "flex_flow": null,
            "width": null,
            "min_width": null,
            "border": null,
            "align_items": null,
            "bottom": null,
            "_model_module": "@jupyter-widgets/base",
            "top": null,
            "grid_column": null,
            "overflow_y": null,
            "overflow_x": null,
            "grid_auto_flow": null,
            "grid_area": null,
            "grid_template_columns": null,
            "flex": null,
            "_model_name": "LayoutModel",
            "justify_items": null,
            "grid_row": null,
            "max_height": null,
            "align_content": null,
            "visibility": null,
            "align_self": null,
            "height": null,
            "min_height": null,
            "padding": null,
            "grid_auto_rows": null,
            "grid_gap": null,
            "max_width": null,
            "order": null,
            "_view_module_version": "1.2.0",
            "grid_template_areas": null,
            "object_position": null,
            "object_fit": null,
            "grid_auto_columns": null,
            "margin": null,
            "display": null,
            "left": null
          }
        },
        "8776b423fc434c9cb7127388b888acd3": {
          "model_module": "@jupyter-widgets/controls",
          "model_name": "FloatProgressModel",
          "state": {
            "_view_name": "ProgressView",
            "style": "IPY_MODEL_76eae4dff3304e0e855503ef3ad09679",
            "_dom_classes": [],
            "description": "Downloading: 100%",
            "_model_name": "FloatProgressModel",
            "bar_style": "success",
            "max": 466062,
            "_view_module": "@jupyter-widgets/controls",
            "_model_module_version": "1.5.0",
            "value": 466062,
            "_view_count": null,
            "_view_module_version": "1.5.0",
            "orientation": "horizontal",
            "min": 0,
            "description_tooltip": null,
            "_model_module": "@jupyter-widgets/controls",
            "layout": "IPY_MODEL_18ac665b1a7c461f884242b8108d12b6"
          }
        },
        "70335bff78a441ffb02035484762eb47": {
          "model_module": "@jupyter-widgets/controls",
          "model_name": "HTMLModel",
          "state": {
            "_view_name": "HTMLView",
            "style": "IPY_MODEL_a7d723707d7840569823f5642351c24b",
            "_dom_classes": [],
            "description": "",
            "_model_name": "HTMLModel",
            "placeholder": "​",
            "_view_module": "@jupyter-widgets/controls",
            "_model_module_version": "1.5.0",
            "value": " 466k/466k [00:22&lt;00:00, 20.9kB/s]",
            "_view_count": null,
            "_view_module_version": "1.5.0",
            "description_tooltip": null,
            "_model_module": "@jupyter-widgets/controls",
            "layout": "IPY_MODEL_ac7e68e17d2a44d48cca8588addf536c"
          }
        },
        "76eae4dff3304e0e855503ef3ad09679": {
          "model_module": "@jupyter-widgets/controls",
          "model_name": "ProgressStyleModel",
          "state": {
            "_view_name": "StyleView",
            "_model_name": "ProgressStyleModel",
            "description_width": "initial",
            "_view_module": "@jupyter-widgets/base",
            "_model_module_version": "1.5.0",
            "_view_count": null,
            "_view_module_version": "1.2.0",
            "bar_color": null,
            "_model_module": "@jupyter-widgets/controls"
          }
        },
        "18ac665b1a7c461f884242b8108d12b6": {
          "model_module": "@jupyter-widgets/base",
          "model_name": "LayoutModel",
          "state": {
            "_view_name": "LayoutView",
            "grid_template_rows": null,
            "right": null,
            "justify_content": null,
            "_view_module": "@jupyter-widgets/base",
            "overflow": null,
            "_model_module_version": "1.2.0",
            "_view_count": null,
            "flex_flow": null,
            "width": null,
            "min_width": null,
            "border": null,
            "align_items": null,
            "bottom": null,
            "_model_module": "@jupyter-widgets/base",
            "top": null,
            "grid_column": null,
            "overflow_y": null,
            "overflow_x": null,
            "grid_auto_flow": null,
            "grid_area": null,
            "grid_template_columns": null,
            "flex": null,
            "_model_name": "LayoutModel",
            "justify_items": null,
            "grid_row": null,
            "max_height": null,
            "align_content": null,
            "visibility": null,
            "align_self": null,
            "height": null,
            "min_height": null,
            "padding": null,
            "grid_auto_rows": null,
            "grid_gap": null,
            "max_width": null,
            "order": null,
            "_view_module_version": "1.2.0",
            "grid_template_areas": null,
            "object_position": null,
            "object_fit": null,
            "grid_auto_columns": null,
            "margin": null,
            "display": null,
            "left": null
          }
        },
        "a7d723707d7840569823f5642351c24b": {
          "model_module": "@jupyter-widgets/controls",
          "model_name": "DescriptionStyleModel",
          "state": {
            "_view_name": "StyleView",
            "_model_name": "DescriptionStyleModel",
            "description_width": "",
            "_view_module": "@jupyter-widgets/base",
            "_model_module_version": "1.5.0",
            "_view_count": null,
            "_view_module_version": "1.2.0",
            "_model_module": "@jupyter-widgets/controls"
          }
        },
        "ac7e68e17d2a44d48cca8588addf536c": {
          "model_module": "@jupyter-widgets/base",
          "model_name": "LayoutModel",
          "state": {
            "_view_name": "LayoutView",
            "grid_template_rows": null,
            "right": null,
            "justify_content": null,
            "_view_module": "@jupyter-widgets/base",
            "overflow": null,
            "_model_module_version": "1.2.0",
            "_view_count": null,
            "flex_flow": null,
            "width": null,
            "min_width": null,
            "border": null,
            "align_items": null,
            "bottom": null,
            "_model_module": "@jupyter-widgets/base",
            "top": null,
            "grid_column": null,
            "overflow_y": null,
            "overflow_x": null,
            "grid_auto_flow": null,
            "grid_area": null,
            "grid_template_columns": null,
            "flex": null,
            "_model_name": "LayoutModel",
            "justify_items": null,
            "grid_row": null,
            "max_height": null,
            "align_content": null,
            "visibility": null,
            "align_self": null,
            "height": null,
            "min_height": null,
            "padding": null,
            "grid_auto_rows": null,
            "grid_gap": null,
            "max_width": null,
            "order": null,
            "_view_module_version": "1.2.0",
            "grid_template_areas": null,
            "object_position": null,
            "object_fit": null,
            "grid_auto_columns": null,
            "margin": null,
            "display": null,
            "left": null
          }
        }
      }
    }
  },
  "cells": [
    {
      "cell_type": "code",
      "metadata": {
        "colab": {
          "base_uri": "https://localhost:8080/"
        },
        "id": "ztKzP6MWTQzT",
        "outputId": "ff0928f3-4c55-4e90-8f53-76bbcb9160bf"
      },
      "source": [
        "pip install transformers"
      ],
      "execution_count": 1,
      "outputs": [
        {
          "output_type": "stream",
          "text": [
            "Collecting transformers\n",
            "\u001b[?25l  Downloading https://files.pythonhosted.org/packages/f9/54/5ca07ec9569d2f232f3166de5457b63943882f7950ddfcc887732fc7fb23/transformers-4.3.3-py3-none-any.whl (1.9MB)\n",
            "\u001b[K     |████████████████████████████████| 1.9MB 8.5MB/s \n",
            "\u001b[?25hRequirement already satisfied: importlib-metadata; python_version < \"3.8\" in /usr/local/lib/python3.7/dist-packages (from transformers) (3.7.0)\n",
            "Collecting sacremoses\n",
            "\u001b[?25l  Downloading https://files.pythonhosted.org/packages/7d/34/09d19aff26edcc8eb2a01bed8e98f13a1537005d31e95233fd48216eed10/sacremoses-0.0.43.tar.gz (883kB)\n",
            "\u001b[K     |████████████████████████████████| 890kB 54.8MB/s \n",
            "\u001b[?25hRequirement already satisfied: packaging in /usr/local/lib/python3.7/dist-packages (from transformers) (20.9)\n",
            "Requirement already satisfied: filelock in /usr/local/lib/python3.7/dist-packages (from transformers) (3.0.12)\n",
            "Requirement already satisfied: numpy>=1.17 in /usr/local/lib/python3.7/dist-packages (from transformers) (1.19.5)\n",
            "Requirement already satisfied: requests in /usr/local/lib/python3.7/dist-packages (from transformers) (2.23.0)\n",
            "Collecting tokenizers<0.11,>=0.10.1\n",
            "\u001b[?25l  Downloading https://files.pythonhosted.org/packages/71/23/2ddc317b2121117bf34dd00f5b0de194158f2a44ee2bf5e47c7166878a97/tokenizers-0.10.1-cp37-cp37m-manylinux2010_x86_64.whl (3.2MB)\n",
            "\u001b[K     |████████████████████████████████| 3.2MB 54.2MB/s \n",
            "\u001b[?25hRequirement already satisfied: regex!=2019.12.17 in /usr/local/lib/python3.7/dist-packages (from transformers) (2019.12.20)\n",
            "Requirement already satisfied: tqdm>=4.27 in /usr/local/lib/python3.7/dist-packages (from transformers) (4.41.1)\n",
            "Requirement already satisfied: zipp>=0.5 in /usr/local/lib/python3.7/dist-packages (from importlib-metadata; python_version < \"3.8\"->transformers) (3.4.1)\n",
            "Requirement already satisfied: typing-extensions>=3.6.4; python_version < \"3.8\" in /usr/local/lib/python3.7/dist-packages (from importlib-metadata; python_version < \"3.8\"->transformers) (3.7.4.3)\n",
            "Requirement already satisfied: six in /usr/local/lib/python3.7/dist-packages (from sacremoses->transformers) (1.15.0)\n",
            "Requirement already satisfied: click in /usr/local/lib/python3.7/dist-packages (from sacremoses->transformers) (7.1.2)\n",
            "Requirement already satisfied: joblib in /usr/local/lib/python3.7/dist-packages (from sacremoses->transformers) (1.0.1)\n",
            "Requirement already satisfied: pyparsing>=2.0.2 in /usr/local/lib/python3.7/dist-packages (from packaging->transformers) (2.4.7)\n",
            "Requirement already satisfied: chardet<4,>=3.0.2 in /usr/local/lib/python3.7/dist-packages (from requests->transformers) (3.0.4)\n",
            "Requirement already satisfied: certifi>=2017.4.17 in /usr/local/lib/python3.7/dist-packages (from requests->transformers) (2020.12.5)\n",
            "Requirement already satisfied: urllib3!=1.25.0,!=1.25.1,<1.26,>=1.21.1 in /usr/local/lib/python3.7/dist-packages (from requests->transformers) (1.24.3)\n",
            "Requirement already satisfied: idna<3,>=2.5 in /usr/local/lib/python3.7/dist-packages (from requests->transformers) (2.10)\n",
            "Building wheels for collected packages: sacremoses\n",
            "  Building wheel for sacremoses (setup.py) ... \u001b[?25l\u001b[?25hdone\n",
            "  Created wheel for sacremoses: filename=sacremoses-0.0.43-cp37-none-any.whl size=893262 sha256=d58de3aa4e468400577f891cc5b8bb5537600d7e8b48093828a80278a5dae231\n",
            "  Stored in directory: /root/.cache/pip/wheels/29/3c/fd/7ce5c3f0666dab31a50123635e6fb5e19ceb42ce38d4e58f45\n",
            "Successfully built sacremoses\n",
            "Installing collected packages: sacremoses, tokenizers, transformers\n",
            "Successfully installed sacremoses-0.0.43 tokenizers-0.10.1 transformers-4.3.3\n"
          ],
          "name": "stdout"
        }
      ]
    },
    {
      "cell_type": "markdown",
      "metadata": {
        "id": "u0vd1JzNulmb"
      },
      "source": [
        "# Importing Transformers pipeline"
      ]
    },
    {
      "cell_type": "code",
      "metadata": {
        "id": "-n7wGCvlFZhy"
      },
      "source": [
        "import pandas as pd\n",
        "from transformers import pipeline"
      ],
      "execution_count": 2,
      "outputs": []
    },
    {
      "cell_type": "markdown",
      "metadata": {
        "id": "kkioFnRIurLY"
      },
      "source": [
        "# Loading Date"
      ]
    },
    {
      "cell_type": "code",
      "metadata": {
        "id": "xVmTiPqsFnCx"
      },
      "source": [
        "train_df =  pd.read_csv('/content/drive/MyDrive/data/train 2.csv',names=['Description','Commenting','Staring','Touching'],skiprows=1)\n",
        "test_df=pd.read_csv('/content/drive/MyDrive/data/test 2.csv',names=['Description','Commenting','Staring','Touching'],skiprows=1)\n",
        "\n",
        "dev_df=pd.read_csv('/content/drive/MyDrive/data/dev.csv',names=['Description','Commenting','Staring','Touching'],skiprows=1)"
      ],
      "execution_count": 170,
      "outputs": []
    },
    {
      "cell_type": "code",
      "metadata": {
        "id": "TlKNWHH2waLt"
      },
      "source": [
        ""
      ],
      "execution_count": 172,
      "outputs": []
    },
    {
      "cell_type": "code",
      "metadata": {
        "colab": {
          "base_uri": "https://localhost:8080/",
          "height": 419
        },
        "id": "DOgQxubxFqXo",
        "outputId": "24f4e9cd-02e5-487c-c252-bddace992855"
      },
      "source": [
        "train_df"
      ],
      "execution_count": 5,
      "outputs": [
        {
          "output_type": "execute_result",
          "data": {
            "text/html": [
              "<div>\n",
              "<style scoped>\n",
              "    .dataframe tbody tr th:only-of-type {\n",
              "        vertical-align: middle;\n",
              "    }\n",
              "\n",
              "    .dataframe tbody tr th {\n",
              "        vertical-align: top;\n",
              "    }\n",
              "\n",
              "    .dataframe thead th {\n",
              "        text-align: right;\n",
              "    }\n",
              "</style>\n",
              "<table border=\"1\" class=\"dataframe\">\n",
              "  <thead>\n",
              "    <tr style=\"text-align: right;\">\n",
              "      <th></th>\n",
              "      <th>Description</th>\n",
              "      <th>Commenting</th>\n",
              "      <th>Staring</th>\n",
              "      <th>Touching</th>\n",
              "    </tr>\n",
              "  </thead>\n",
              "  <tbody>\n",
              "    <tr>\n",
              "      <th>0</th>\n",
              "      <td>Was walking along crowded street, holding mums...</td>\n",
              "      <td>0</td>\n",
              "      <td>0</td>\n",
              "      <td>1</td>\n",
              "    </tr>\n",
              "    <tr>\n",
              "      <th>1</th>\n",
              "      <td>This incident took place in the evening.I was ...</td>\n",
              "      <td>0</td>\n",
              "      <td>1</td>\n",
              "      <td>0</td>\n",
              "    </tr>\n",
              "    <tr>\n",
              "      <th>2</th>\n",
              "      <td>I WAS WAITING FOR THE BUS. A MAN CAME ON A BIK...</td>\n",
              "      <td>1</td>\n",
              "      <td>0</td>\n",
              "      <td>0</td>\n",
              "    </tr>\n",
              "    <tr>\n",
              "      <th>3</th>\n",
              "      <td>Incident happened inside the train</td>\n",
              "      <td>0</td>\n",
              "      <td>0</td>\n",
              "      <td>0</td>\n",
              "    </tr>\n",
              "    <tr>\n",
              "      <th>4</th>\n",
              "      <td>I witnessed an incident when a chain was bruta...</td>\n",
              "      <td>0</td>\n",
              "      <td>0</td>\n",
              "      <td>0</td>\n",
              "    </tr>\n",
              "    <tr>\n",
              "      <th>...</th>\n",
              "      <td>...</td>\n",
              "      <td>...</td>\n",
              "      <td>...</td>\n",
              "      <td>...</td>\n",
              "    </tr>\n",
              "    <tr>\n",
              "      <th>7196</th>\n",
              "      <td>There was this person near a construction site...</td>\n",
              "      <td>0</td>\n",
              "      <td>1</td>\n",
              "      <td>0</td>\n",
              "    </tr>\n",
              "    <tr>\n",
              "      <th>7197</th>\n",
              "      <td>He threatened me by making inappropriate conve...</td>\n",
              "      <td>1</td>\n",
              "      <td>0</td>\n",
              "      <td>0</td>\n",
              "    </tr>\n",
              "    <tr>\n",
              "      <th>7198</th>\n",
              "      <td>happened during morning at university metro st...</td>\n",
              "      <td>1</td>\n",
              "      <td>0</td>\n",
              "      <td>0</td>\n",
              "    </tr>\n",
              "    <tr>\n",
              "      <th>7199</th>\n",
              "      <td>one day my aunt was returniec frm office .. sh...</td>\n",
              "      <td>0</td>\n",
              "      <td>0</td>\n",
              "      <td>0</td>\n",
              "    </tr>\n",
              "    <tr>\n",
              "      <th>7200</th>\n",
              "      <td>was victim of sxual assault RAPE</td>\n",
              "      <td>0</td>\n",
              "      <td>0</td>\n",
              "      <td>0</td>\n",
              "    </tr>\n",
              "  </tbody>\n",
              "</table>\n",
              "<p>7201 rows × 4 columns</p>\n",
              "</div>"
            ],
            "text/plain": [
              "                                            Description  ...  Touching\n",
              "0     Was walking along crowded street, holding mums...  ...         1\n",
              "1     This incident took place in the evening.I was ...  ...         0\n",
              "2     I WAS WAITING FOR THE BUS. A MAN CAME ON A BIK...  ...         0\n",
              "3                    Incident happened inside the train  ...         0\n",
              "4     I witnessed an incident when a chain was bruta...  ...         0\n",
              "...                                                 ...  ...       ...\n",
              "7196  There was this person near a construction site...  ...         0\n",
              "7197  He threatened me by making inappropriate conve...  ...         0\n",
              "7198  happened during morning at university metro st...  ...         0\n",
              "7199  one day my aunt was returniec frm office .. sh...  ...         0\n",
              "7200                   was victim of sxual assault RAPE  ...         0\n",
              "\n",
              "[7201 rows x 4 columns]"
            ]
          },
          "metadata": {
            "tags": []
          },
          "execution_count": 5
        }
      ]
    },
    {
      "cell_type": "code",
      "metadata": {
        "colab": {
          "base_uri": "https://localhost:8080/",
          "height": 54
        },
        "id": "y86WShBwMeFf",
        "outputId": "2690cb23-ca01-4390-d87c-5824e845b06c"
      },
      "source": [
        "train_df['Description'][0]"
      ],
      "execution_count": null,
      "outputs": [
        {
          "output_type": "execute_result",
          "data": {
            "application/vnd.google.colaboratory.intrinsic+json": {
              "type": "string"
            },
            "text/plain": [
              "'Was walking along crowded street, holding mums hand, when an elderly man groped butt, I turned to look at h7m and he looked away, and did it again after a while.I was 12 yrs old then.'"
            ]
          },
          "metadata": {
            "tags": []
          },
          "execution_count": 7
        }
      ]
    },
    {
      "cell_type": "markdown",
      "metadata": {
        "id": "L_F70ehnuuen"
      },
      "source": [
        "# Code to tokenize and extract features from bert  ,\n",
        "##  output we need is only from [CLS] , which exracts the whole sentence and base bert output will be *768dim vec* which we are converting into np.array for ease of operation"
      ]
    },
    {
      "cell_type": "code",
      "metadata": {
        "colab": {
          "base_uri": "https://localhost:8080/",
          "height": 213,
          "referenced_widgets": [
            "216bc4db0a414e3d8bc35327b1e83431",
            "e1e3572784a24e54a7d1c7cdce125da4",
            "d4dad43fec8e47f38098c4165606ead9",
            "92eef1c019004e6da9c34dc5d74e1d28",
            "eff02cd748e9429183080f7f3185dcb7",
            "9dd9d89bb51c45d0bb32946277518e56",
            "b82d94e745ed479ba9b656a50b515b42",
            "12300e954a3046febd154d128d639f07",
            "89101bdd3caa424c9f8e44a1e6155f54",
            "d69c4906711442eeac99fda42deb8164",
            "6f39d7bd3d4240cfabc9d0a7b2605888",
            "8b25bcd105134500b2c360edee099bce",
            "1e6c798abde844d9b402a6a7f4376c63",
            "5482d0ba9f564a5799042f4d1ccb066c",
            "b9b6b232a2af4be29027ea19a40a282a",
            "08542589c6dc4d96b5c79b429a417836",
            "ac7f10bb06804bdb98a72352c8719e8d",
            "707779d493d34cc9a8a6537f9d8c5618",
            "0d4c1715d4194291961ef2360d271cc8",
            "321a89d0e91a4d108417fe0fdb5a1a7a",
            "1ea297f240db42a3bf0484eca091cf17",
            "b97b90e60b194a1c82e1ee453a2ab2f8",
            "54b038920afb458fbc7bd2588ec22c4b",
            "6cafe2eac5824c419dbf16690b3988e0",
            "b4cb2e4c912f4d6b8cdddc28338d6ae3",
            "9e42250ecdae408e9aef539fdb4c1440",
            "8776b423fc434c9cb7127388b888acd3",
            "70335bff78a441ffb02035484762eb47",
            "76eae4dff3304e0e855503ef3ad09679",
            "18ac665b1a7c461f884242b8108d12b6",
            "a7d723707d7840569823f5642351c24b",
            "ac7e68e17d2a44d48cca8588addf536c"
          ]
        },
        "id": "H-3oZo97Ivh7",
        "outputId": "66816d8d-10c5-4611-d237-2e9739f56892"
      },
      "source": [
        "import numpy as np\n",
        "from transformers import AutoTokenizer, AutoModel, pipeline\n",
        "\n",
        "\n",
        "model = AutoModel.from_pretrained('distilbert-base-uncased')\n",
        "tokenizer = AutoTokenizer.from_pretrained('distilbert-base-uncased')\n",
        "    \n",
        "nlp = pipeline('feature-extraction', model=model, tokenizer=tokenizer,)\n",
        "def convertion(string):\n",
        "    \n",
        "    output = nlp(string)\n",
        "    output = np.array(output)\n",
        "    output = output[:,0,:]\n",
        "    #output = np.array(output)\n",
        "    #output=output[:,0,:]\n",
        "\n",
        " \n",
        "    return np.array(output)\n",
        "\n",
        "\n",
        "import numpy as np\n",
        "\n",
        "\n",
        "#model = AutoModel.from_pretrained('distilbert-base-uncased')\n",
        "#tokenizer = AutoTokenizer.from_pretrained('distilbert-base-uncased')\n",
        "#nlp = pipeline('feature-extraction', model=model, tokenizer=tokenizer\n"
      ],
      "execution_count": 200,
      "outputs": [
        {
          "output_type": "display_data",
          "data": {
            "application/vnd.jupyter.widget-view+json": {
              "model_id": "216bc4db0a414e3d8bc35327b1e83431",
              "version_minor": 0,
              "version_major": 2
            },
            "text/plain": [
              "HBox(children=(FloatProgress(value=0.0, description='Downloading', max=442.0, style=ProgressStyle(description_…"
            ]
          },
          "metadata": {
            "tags": []
          }
        },
        {
          "output_type": "stream",
          "text": [
            "\n"
          ],
          "name": "stdout"
        },
        {
          "output_type": "display_data",
          "data": {
            "application/vnd.jupyter.widget-view+json": {
              "model_id": "89101bdd3caa424c9f8e44a1e6155f54",
              "version_minor": 0,
              "version_major": 2
            },
            "text/plain": [
              "HBox(children=(FloatProgress(value=0.0, description='Downloading', max=267967963.0, style=ProgressStyle(descri…"
            ]
          },
          "metadata": {
            "tags": []
          }
        },
        {
          "output_type": "stream",
          "text": [
            "\n"
          ],
          "name": "stdout"
        },
        {
          "output_type": "display_data",
          "data": {
            "application/vnd.jupyter.widget-view+json": {
              "model_id": "ac7f10bb06804bdb98a72352c8719e8d",
              "version_minor": 0,
              "version_major": 2
            },
            "text/plain": [
              "HBox(children=(FloatProgress(value=0.0, description='Downloading', max=231508.0, style=ProgressStyle(descripti…"
            ]
          },
          "metadata": {
            "tags": []
          }
        },
        {
          "output_type": "stream",
          "text": [
            "\n"
          ],
          "name": "stdout"
        },
        {
          "output_type": "display_data",
          "data": {
            "application/vnd.jupyter.widget-view+json": {
              "model_id": "b4cb2e4c912f4d6b8cdddc28338d6ae3",
              "version_minor": 0,
              "version_major": 2
            },
            "text/plain": [
              "HBox(children=(FloatProgress(value=0.0, description='Downloading', max=466062.0, style=ProgressStyle(descripti…"
            ]
          },
          "metadata": {
            "tags": []
          }
        },
        {
          "output_type": "stream",
          "text": [
            "\n"
          ],
          "name": "stdout"
        }
      ]
    },
    {
      "cell_type": "code",
      "metadata": {
        "colab": {
          "base_uri": "https://localhost:8080/"
        },
        "id": "iJUV97TXIyn2",
        "outputId": "62daf8e3-3481-44b8-ffde-b3b769f33a96"
      },
      "source": [
        "p1=convertion('how are you')\n",
        "#print(type(p))\n",
        "#p1 = np.array(p1)\n",
        "p1.shape\n",
        "#np.array(p1).shape"
      ],
      "execution_count": null,
      "outputs": [
        {
          "output_type": "execute_result",
          "data": {
            "text/plain": [
              "(1, 768)"
            ]
          },
          "metadata": {
            "tags": []
          },
          "execution_count": 9
        }
      ]
    },
    {
      "cell_type": "markdown",
      "metadata": {
        "id": "7jJ4G9YGvXho"
      },
      "source": [
        "# Loop to iterate in data and saving output vector corresponding to sentence in train_vec"
      ]
    },
    {
      "cell_type": "code",
      "metadata": {
        "colab": {
          "base_uri": "https://localhost:8080/"
        },
        "id": "akbZsUFrJUpe",
        "outputId": "ed81f0e7-5ac4-4bc1-ccf3-75bf961aae26"
      },
      "source": [
        "from tqdm import tqdm\n",
        "sent =[]\n",
        "train_vec=[]\n",
        "for i in tqdm((train_df['Description'].values)):\n",
        "    text = i[:512]\n",
        "    train_vec.append(convertion(text))\n"
      ],
      "execution_count": 335,
      "outputs": [
        {
          "output_type": "stream",
          "text": [
            "100%|██████████| 7201/7201 [07:09<00:00, 16.76it/s]\n"
          ],
          "name": "stderr"
        }
      ]
    },
    {
      "cell_type": "code",
      "metadata": {
        "colab": {
          "base_uri": "https://localhost:8080/"
        },
        "id": "U-IcVmJvc-mb",
        "outputId": "65203d9b-f0f3-4f7c-f21d-0f80d5baee82"
      },
      "source": [
        "train_vec=np.array(train_vec)\n",
        "\n",
        "train_vec.shape"
      ],
      "execution_count": 336,
      "outputs": [
        {
          "output_type": "execute_result",
          "data": {
            "text/plain": [
              "(7201, 1, 768)"
            ]
          },
          "metadata": {
            "tags": []
          },
          "execution_count": 336
        }
      ]
    },
    {
      "cell_type": "code",
      "metadata": {
        "id": "jRNyF0e63MHS"
      },
      "source": [
        "x_train=train_vec"
      ],
      "execution_count": 203,
      "outputs": []
    },
    {
      "cell_type": "code",
      "metadata": {
        "id": "sV7k10s0d0R9"
      },
      "source": [
        "train_vec=train_vec.reshape(7201,768)"
      ],
      "execution_count": 204,
      "outputs": []
    },
    {
      "cell_type": "code",
      "metadata": {
        "colab": {
          "base_uri": "https://localhost:8080/"
        },
        "id": "c0UcUH5reYcV",
        "outputId": "efe51d5a-4566-436d-9b13-cb633dd76d1d"
      },
      "source": [
        "train_vec.shape"
      ],
      "execution_count": 205,
      "outputs": [
        {
          "output_type": "execute_result",
          "data": {
            "text/plain": [
              "(7201, 768)"
            ]
          },
          "metadata": {
            "tags": []
          },
          "execution_count": 205
        }
      ]
    },
    {
      "cell_type": "markdown",
      "metadata": {
        "id": "0NWpy2TSvjsB"
      },
      "source": [
        "## Same for DEV data"
      ]
    },
    {
      "cell_type": "code",
      "metadata": {
        "colab": {
          "base_uri": "https://localhost:8080/"
        },
        "id": "RF08G6zmPSMV",
        "outputId": "fea804d8-39be-4e00-95f1-d3095c559d96"
      },
      "source": [
        "from tqdm import tqdm\n",
        "\n",
        "test_vec=[]\n",
        "for i in tqdm(dev_df['Description']):\n",
        "    text = i[:512]\n",
        "    test_vec.append(convertion(text))"
      ],
      "execution_count": 337,
      "outputs": [
        {
          "output_type": "stream",
          "text": [
            "100%|██████████| 990/990 [00:41<00:00, 23.69it/s]\n"
          ],
          "name": "stderr"
        }
      ]
    },
    {
      "cell_type": "code",
      "metadata": {
        "colab": {
          "base_uri": "https://localhost:8080/"
        },
        "id": "uZM_8v_gPZqk",
        "outputId": "c43fc493-ab46-486f-d2ab-fe2d9df85854"
      },
      "source": [
        "test_vec=np.array(test_vec)\n",
        "\n",
        "test_vec.shape"
      ],
      "execution_count": 338,
      "outputs": [
        {
          "output_type": "execute_result",
          "data": {
            "text/plain": [
              "(990, 1, 768)"
            ]
          },
          "metadata": {
            "tags": []
          },
          "execution_count": 338
        }
      ]
    },
    {
      "cell_type": "code",
      "metadata": {
        "id": "esjY5CKgevdl"
      },
      "source": [
        "test_vec=test_vec.reshape(990,768)"
      ],
      "execution_count": 209,
      "outputs": []
    },
    {
      "cell_type": "code",
      "metadata": {
        "colab": {
          "base_uri": "https://localhost:8080/"
        },
        "id": "FSkdV07tPfnl",
        "outputId": "1b8c70ab-e8bb-49ba-9142-9713bb114ec5"
      },
      "source": [
        "test_vec.shape"
      ],
      "execution_count": 210,
      "outputs": [
        {
          "output_type": "execute_result",
          "data": {
            "text/plain": [
              "(990, 768)"
            ]
          },
          "metadata": {
            "tags": []
          },
          "execution_count": 210
        }
      ]
    },
    {
      "cell_type": "markdown",
      "metadata": {
        "id": "aGjPsZDlEwmf"
      },
      "source": [
        "# Preparing data for evaluation of model"
      ]
    },
    {
      "cell_type": "code",
      "metadata": {
        "colab": {
          "base_uri": "https://localhost:8080/"
        },
        "id": "10bhPHVxEwDr",
        "outputId": "900bdcde-856e-4a7a-966e-7807b5c92c49"
      },
      "source": [
        "eval_vec=[]\n",
        "for i in tqdm(test_df['Description']):\n",
        "    text = i[:512]\n",
        "    eval_vec.append(convertion(text))"
      ],
      "execution_count": 339,
      "outputs": [
        {
          "output_type": "stream",
          "text": [
            "100%|██████████| 1701/1701 [01:39<00:00, 17.02it/s]\n"
          ],
          "name": "stderr"
        }
      ]
    },
    {
      "cell_type": "code",
      "metadata": {
        "colab": {
          "base_uri": "https://localhost:8080/"
        },
        "id": "XcOJpj92Evnr",
        "outputId": "c3b29f8f-925b-442a-8243-b019f22b2320"
      },
      "source": [
        "eval_vec=np.array(eval_vec)\n",
        "\n",
        "eval_vec.shape"
      ],
      "execution_count": 340,
      "outputs": [
        {
          "output_type": "execute_result",
          "data": {
            "text/plain": [
              "(1701, 1, 768)"
            ]
          },
          "metadata": {
            "tags": []
          },
          "execution_count": 340
        }
      ]
    },
    {
      "cell_type": "code",
      "metadata": {
        "colab": {
          "base_uri": "https://localhost:8080/"
        },
        "id": "Z5xUH4VlFBzD",
        "outputId": "56b1f40f-baa5-42bd-bc57-613ff7bdf171"
      },
      "source": [
        "eval_vec=eval_vec.reshape(1701,768)\n",
        "eval_vec.shape"
      ],
      "execution_count": 214,
      "outputs": [
        {
          "output_type": "execute_result",
          "data": {
            "text/plain": [
              "(1701, 768)"
            ]
          },
          "metadata": {
            "tags": []
          },
          "execution_count": 214
        }
      ]
    },
    {
      "cell_type": "markdown",
      "metadata": {
        "id": "Zl8rOqLLvnpp"
      },
      "source": [
        "# Logestic Regression "
      ]
    },
    {
      "cell_type": "code",
      "metadata": {
        "id": "9uNXFD2tYbw9"
      },
      "source": [
        "from sklearn.linear_model import LogisticRegression\n"
      ],
      "execution_count": 220,
      "outputs": []
    },
    {
      "cell_type": "code",
      "metadata": {
        "id": "x9o0HcjAnsZj"
      },
      "source": [
        "\n",
        "y_train=train_df['Commenting']\n",
        "\n",
        "\n",
        "y_test=dev_df['Commenting']\n",
        "\n",
        "y_eval=test_df['Commenting']"
      ],
      "execution_count": 229,
      "outputs": []
    },
    {
      "cell_type": "code",
      "metadata": {
        "colab": {
          "base_uri": "https://localhost:8080/"
        },
        "id": "RM7Z0bflraN2",
        "outputId": "9a3122eb-fa4b-48db-8ccf-b670ac2e67b8"
      },
      "source": [
        "y_test.shape"
      ],
      "execution_count": 217,
      "outputs": [
        {
          "output_type": "execute_result",
          "data": {
            "text/plain": [
              "(1701,)"
            ]
          },
          "metadata": {
            "tags": []
          },
          "execution_count": 217
        }
      ]
    },
    {
      "cell_type": "code",
      "metadata": {
        "id": "d_SCCPGFo5Ax"
      },
      "source": [
        "features=train_vec"
      ],
      "execution_count": 218,
      "outputs": []
    },
    {
      "cell_type": "code",
      "metadata": {
        "colab": {
          "base_uri": "https://localhost:8080/"
        },
        "id": "lPaA8PXWbopx",
        "outputId": "f6b4846d-fa60-4000-a45a-5d5d38a0fd20"
      },
      "source": [
        "lr_clf = LogisticRegression()\n",
        "lr_clf.fit(features, y_train)"
      ],
      "execution_count": 221,
      "outputs": [
        {
          "output_type": "stream",
          "text": [
            "/usr/local/lib/python3.7/dist-packages/sklearn/linear_model/_logistic.py:940: ConvergenceWarning: lbfgs failed to converge (status=1):\n",
            "STOP: TOTAL NO. of ITERATIONS REACHED LIMIT.\n",
            "\n",
            "Increase the number of iterations (max_iter) or scale the data as shown in:\n",
            "    https://scikit-learn.org/stable/modules/preprocessing.html\n",
            "Please also refer to the documentation for alternative solver options:\n",
            "    https://scikit-learn.org/stable/modules/linear_model.html#logistic-regression\n",
            "  extra_warning_msg=_LOGISTIC_SOLVER_CONVERGENCE_MSG)\n"
          ],
          "name": "stderr"
        },
        {
          "output_type": "execute_result",
          "data": {
            "text/plain": [
              "LogisticRegression(C=1.0, class_weight=None, dual=False, fit_intercept=True,\n",
              "                   intercept_scaling=1, l1_ratio=None, max_iter=100,\n",
              "                   multi_class='auto', n_jobs=None, penalty='l2',\n",
              "                   random_state=None, solver='lbfgs', tol=0.0001, verbose=0,\n",
              "                   warm_start=False)"
            ]
          },
          "metadata": {
            "tags": []
          },
          "execution_count": 221
        }
      ]
    },
    {
      "cell_type": "code",
      "metadata": {
        "colab": {
          "base_uri": "https://localhost:8080/"
        },
        "id": "8iparZlWbqbX",
        "outputId": "1ba9c8a1-174b-4b73-f38b-92d36c954fb3"
      },
      "source": [
        "y_pred0 = lr_clf.predict(test_vec)\n",
        "print('Accuracy of logistic regression classifier on test set: {:.2f}'.format(lr_clf.score(test_vec,y_test )))"
      ],
      "execution_count": 230,
      "outputs": [
        {
          "output_type": "stream",
          "text": [
            "Accuracy of logistic regression classifier on test set: 0.74\n"
          ],
          "name": "stdout"
        }
      ]
    },
    {
      "cell_type": "markdown",
      "metadata": {
        "id": "xTS1D7eIGUpJ"
      },
      "source": [
        ""
      ]
    },
    {
      "cell_type": "code",
      "metadata": {
        "colab": {
          "base_uri": "https://localhost:8080/"
        },
        "id": "ZO8aWzBRipHp",
        "outputId": "3f53ecc4-3731-4825-973b-315d9ae4c5e9"
      },
      "source": [
        "from sklearn.metrics import accuracy_score\n",
        "accuracy_score(y_test, y_pred0)"
      ],
      "execution_count": 231,
      "outputs": [
        {
          "output_type": "execute_result",
          "data": {
            "text/plain": [
              "0.7393939393939394"
            ]
          },
          "metadata": {
            "tags": []
          },
          "execution_count": 231
        }
      ]
    },
    {
      "cell_type": "code",
      "metadata": {
        "colab": {
          "base_uri": "https://localhost:8080/",
          "height": 282
        },
        "id": "a49yMcvHiDoh",
        "outputId": "57a9685f-f4a4-43ec-d88a-29d9ed7ce2d1"
      },
      "source": [
        "from sklearn.metrics import confusion_matrix\n",
        "from seaborn import heatmap\n",
        "cm=confusion_matrix = confusion_matrix(y_test, y_pred0)\n",
        "\n",
        "print(heatmap(cm,annot=True))\n"
      ],
      "execution_count": 232,
      "outputs": [
        {
          "output_type": "stream",
          "text": [
            "AxesSubplot(0.125,0.125;0.62x0.755)\n"
          ],
          "name": "stdout"
        },
        {
          "output_type": "display_data",
          "data": {
            "image/png": "[encoded data removed]",
            "text/plain": [
              "<Figure size 432x288 with 2 Axes>"
            ]
          },
          "metadata": {
            "tags": [],
            "needs_background": "light"
          }
        }
      ]
    },
    {
      "cell_type": "code",
      "metadata": {
        "colab": {
          "base_uri": "https://localhost:8080/"
        },
        "id": "psmTMaeIGH2X",
        "outputId": "cd2efe1b-435f-4fa7-9601-140f3e642b60"
      },
      "source": [
        "lr_clf.score(eval_vec,y_eval)"
      ],
      "execution_count": 233,
      "outputs": [
        {
          "output_type": "execute_result",
          "data": {
            "text/plain": [
              "0.7836566725455615"
            ]
          },
          "metadata": {
            "tags": []
          },
          "execution_count": 233
        }
      ]
    },
    {
      "cell_type": "markdown",
      "metadata": {
        "id": "yYzTp6KRoFFk"
      },
      "source": [
        "# How Good is this model as compared to that of Random Model"
      ]
    },
    {
      "cell_type": "code",
      "metadata": {
        "colab": {
          "base_uri": "https://localhost:8080/"
        },
        "id": "Ej5Rv2VCGcYf",
        "outputId": "f10c9800-eaab-4b4a-aea2-284b333608d9"
      },
      "source": [
        "from sklearn.dummy import DummyClassifier\n",
        "from sklearn.model_selection import cross_val_score\n",
        "\n",
        "clf = DummyClassifier()\n",
        "\n",
        "scores = cross_val_score(clf, eval_vec, y_eval)\n",
        "print(\"Dummy classifier score: %0.3f (+/- %0.2f)\" % (scores.mean(), scores.std() * 2))"
      ],
      "execution_count": 235,
      "outputs": [
        {
          "output_type": "stream",
          "text": [
            "Dummy classifier score: 0.541 (+/- 0.03)\n"
          ],
          "name": "stdout"
        },
        {
          "output_type": "stream",
          "text": [
            "/usr/local/lib/python3.7/dist-packages/sklearn/dummy.py:132: FutureWarning: The default value of strategy will change from stratified to prior in 0.24.\n",
            "  \"stratified to prior in 0.24.\", FutureWarning)\n"
          ],
          "name": "stderr"
        }
      ]
    },
    {
      "cell_type": "markdown",
      "metadata": {
        "id": "nEp3S3euXH8z"
      },
      "source": [
        "# **Lets Try SVM for the same task.**\n",
        "\n",
        "\n",
        "\n"
      ]
    },
    {
      "cell_type": "code",
      "metadata": {
        "id": "ir7UB3nDXEWb"
      },
      "source": [
        "from sklearn import svm\n"
      ],
      "execution_count": 236,
      "outputs": []
    },
    {
      "cell_type": "code",
      "metadata": {
        "colab": {
          "base_uri": "https://localhost:8080/"
        },
        "id": "evjVE0cvXmd0",
        "outputId": "8545eb63-1577-420a-b068-33e85b07af74"
      },
      "source": [
        "clf = svm.SVC()\n",
        "clf.fit(features, y_train)\n"
      ],
      "execution_count": 237,
      "outputs": [
        {
          "output_type": "execute_result",
          "data": {
            "text/plain": [
              "SVC(C=1.0, break_ties=False, cache_size=200, class_weight=None, coef0=0.0,\n",
              "    decision_function_shape='ovr', degree=3, gamma='scale', kernel='rbf',\n",
              "    max_iter=-1, probability=False, random_state=None, shrinking=True,\n",
              "    tol=0.001, verbose=False)"
            ]
          },
          "metadata": {
            "tags": []
          },
          "execution_count": 237
        }
      ]
    },
    {
      "cell_type": "code",
      "metadata": {
        "colab": {
          "base_uri": "https://localhost:8080/"
        },
        "id": "P43JuLY5XwZL",
        "outputId": "c15f0d11-8037-44b4-bb33-bd04c01adc2a"
      },
      "source": [
        "y_pred1 = clf.predict(test_vec)\n",
        "accuracy_score(y_test, y_pred1)"
      ],
      "execution_count": 238,
      "outputs": [
        {
          "output_type": "execute_result",
          "data": {
            "text/plain": [
              "0.7444444444444445"
            ]
          },
          "metadata": {
            "tags": []
          },
          "execution_count": 238
        }
      ]
    },
    {
      "cell_type": "code",
      "metadata": {
        "colab": {
          "base_uri": "https://localhost:8080/",
          "height": 282
        },
        "id": "y2Hc4fdCkgwG",
        "outputId": "e6402a6e-c8cd-48c8-d793-d7d543359496"
      },
      "source": [
        "from sklearn.metrics import confusion_matrix\n",
        "cm=confusion_matrix = confusion_matrix(y_test, y_pred1)\n",
        "\n",
        "print(heatmap(cm,annot=True))"
      ],
      "execution_count": 239,
      "outputs": [
        {
          "output_type": "stream",
          "text": [
            "AxesSubplot(0.125,0.125;0.62x0.755)\n"
          ],
          "name": "stdout"
        },
        {
          "output_type": "display_data",
          "data": {
            "image/png": "[encoded data removed]",
            "text/plain": [
              "<Figure size 432x288 with 2 Axes>"
            ]
          },
          "metadata": {
            "tags": [],
            "needs_background": "light"
          }
        }
      ]
    },
    {
      "cell_type": "code",
      "metadata": {
        "colab": {
          "base_uri": "https://localhost:8080/"
        },
        "id": "5LKUMo5yHPJT",
        "outputId": "7a93c340-4a90-4d3a-8e8b-c7df3e20465d"
      },
      "source": [
        "clf.score(eval_vec,y_eval)"
      ],
      "execution_count": 240,
      "outputs": [
        {
          "output_type": "execute_result",
          "data": {
            "text/plain": [
              "0.783068783068783"
            ]
          },
          "metadata": {
            "tags": []
          },
          "execution_count": 240
        }
      ]
    },
    {
      "cell_type": "markdown",
      "metadata": {
        "id": "kT8fvEaKv1nI"
      },
      "source": [
        "# XGBOOST"
      ]
    },
    {
      "cell_type": "code",
      "metadata": {
        "id": "rpd8WWXUZLe1"
      },
      "source": [
        "from xgboost import XGBClassifier\n"
      ],
      "execution_count": 241,
      "outputs": []
    },
    {
      "cell_type": "code",
      "metadata": {
        "colab": {
          "base_uri": "https://localhost:8080/"
        },
        "id": "lZmr5A6_Zojj",
        "outputId": "d9476f71-1e30-45e0-a486-5d6e511fe8bd"
      },
      "source": [
        "\n",
        "# fit model  training data\n",
        "xgb = XGBClassifier()\n",
        "xgb.fit(features, y_train)"
      ],
      "execution_count": 242,
      "outputs": [
        {
          "output_type": "execute_result",
          "data": {
            "text/plain": [
              "XGBClassifier(base_score=0.5, booster='gbtree', colsample_bylevel=1,\n",
              "              colsample_bynode=1, colsample_bytree=1, gamma=0,\n",
              "              learning_rate=0.1, max_delta_step=0, max_depth=3,\n",
              "              min_child_weight=1, missing=None, n_estimators=100, n_jobs=1,\n",
              "              nthread=None, objective='binary:logistic', random_state=0,\n",
              "              reg_alpha=0, reg_lambda=1, scale_pos_weight=1, seed=None,\n",
              "              silent=None, subsample=1, verbosity=1)"
            ]
          },
          "metadata": {
            "tags": []
          },
          "execution_count": 242
        }
      ]
    },
    {
      "cell_type": "code",
      "metadata": {
        "colab": {
          "base_uri": "https://localhost:8080/"
        },
        "id": "YPi8mJy7aWzy",
        "outputId": "0b9a0525-f20f-4e42-e321-30f44c4332b8"
      },
      "source": [
        "\n",
        "# make predictions for test data\n",
        "y_pred2 = xgb.predict(test_vec)\n",
        "accuracy_score(y_test, y_pred2)"
      ],
      "execution_count": 243,
      "outputs": [
        {
          "output_type": "execute_result",
          "data": {
            "text/plain": [
              "0.696969696969697"
            ]
          },
          "metadata": {
            "tags": []
          },
          "execution_count": 243
        }
      ]
    },
    {
      "cell_type": "code",
      "metadata": {
        "colab": {
          "base_uri": "https://localhost:8080/"
        },
        "id": "kkM4Z1osHiJg",
        "outputId": "abeb55f2-bd54-46c9-bdea-9a09d9a08223"
      },
      "source": [
        "xgb.score(eval_vec,y_eval\n",
        "          )"
      ],
      "execution_count": 244,
      "outputs": [
        {
          "output_type": "execute_result",
          "data": {
            "text/plain": [
              "0.7536743092298648"
            ]
          },
          "metadata": {
            "tags": []
          },
          "execution_count": 244
        }
      ]
    },
    {
      "cell_type": "markdown",
      "metadata": {
        "id": "cbs27MSmv7JH"
      },
      "source": [
        "# Much waited --- *DEEP LEARNING*\n",
        "\n",
        "\n"
      ]
    },
    {
      "cell_type": "code",
      "metadata": {
        "id": "GWMDpToZacJ6"
      },
      "source": [
        "import tensorflow as tf\n",
        "from tensorflow.keras.layers import Bidirectional,LSTM,Flatten,GlobalAveragePooling1D\n",
        "from tensorflow.keras.regularizers import L2\n",
        "from keras.layers import TimeDistributed\n",
        "\n",
        "#input_shape=(7201,768,1)\n",
        "\n",
        "model1 = tf.keras.Sequential([\n",
        "   Flatten(),\n",
        "\n",
        "    tf.keras.layers.Dense(768, activation='relu',kernel_regularizer=L2(0.0001),kernel_initializer='glorot_uniform'),\n",
        "    #Dropout(0.8),\n",
        "    tf.keras.layers.Dense(512, activation='relu',kernel_regularizer=L2(0.0001),kernel_initializer='glorot_uniform'),\n",
        "\n",
        "    tf.keras.layers.Dense(256, activation='relu',kernel_regularizer=L2(0.001),kernel_initializer='glorot_uniform'),\n",
        "    #Dropout(0.5),\n",
        "\n",
        "    tf.keras.layers.Dense(128, activation='relu',kernel_regularizer=L2(0.0001),kernel_initializer='glorot_uniform'),\n",
        "      tf.keras.layers.Dense(64, activation='relu',kernel_regularizer=L2(0.0001),kernel_initializer='glorot_uniform'),\n",
        "    tf.keras.layers.Dense(32, activation='relu',kernel_regularizer=L2(0.0001),kernel_initializer='glorot_uniform'),\n",
        "\n",
        "    tf.keras.layers.Dense(16, activation='relu',kernel_regularizer=L2(0.001),kernel_initializer='glorot_uniform'),\n",
        "\n",
        "   # Dropout(0.5),\n",
        "    tf.keras.layers.Dense(1, activation='sigmoid',kernel_regularizer=L2(0.0001),kernel_initializer='glorot_uniform')\n",
        "])\n",
        "#model1.build(input_shape=(1,7201,768))\n",
        "#model1.summary()\n",
        "\n"
      ],
      "execution_count": 608,
      "outputs": []
    },
    {
      "cell_type": "code",
      "metadata": {
        "id": "Oz2LrI7-lSsc"
      },
      "source": [
        "model1.compile(optimizer='adam',\n",
        "              loss= 'binary_crossentropy',\n",
        "              metrics=['accuracy'])"
      ],
      "execution_count": 609,
      "outputs": []
    },
    {
      "cell_type": "markdown",
      "metadata": {
        "id": "S4i2q5wDmETt"
      },
      "source": [
        "**Our TrainX and Train is in shape(7201,768) and (1701,768) \n",
        "but LSTM accepts 3D tensor SO lets convert....**"
      ]
    },
    {
      "cell_type": "code",
      "metadata": {
        "colab": {
          "base_uri": "https://localhost:8080/"
        },
        "id": "QnIJXYy5mDuJ",
        "outputId": "b23109ce-9d14-4558-a3f7-41749b11ea99"
      },
      "source": [
        "#print(train_vec.shape)\n",
        "train_vec1 = train_vec.reshape(7201 ,768)\n",
        "print(train_vec1.shape)\n",
        "\n",
        "test_vec1 = test_vec.reshape(990,768)\n",
        "print(test_vec1.shape)\n",
        "\n",
        "\n"
      ],
      "execution_count": 547,
      "outputs": [
        {
          "output_type": "stream",
          "text": [
            "(7201, 768)\n",
            "(990, 768)\n"
          ],
          "name": "stdout"
        }
      ]
    },
    {
      "cell_type": "code",
      "metadata": {
        "id": "mAcHTZtywbCo"
      },
      "source": [
        "my_callbacks = [\n",
        "    tf.keras.callbacks.EarlyStopping(patience=50)\n",
        "]"
      ],
      "execution_count": 463,
      "outputs": []
    },
    {
      "cell_type": "markdown",
      "metadata": {
        "id": "L7MVUFlTlVDw"
      },
      "source": [
        "**We are using original 3d vector given by bert 7201,1,768 and 909,1,768 as LSTM accepts 3d tensor unline ML models**\n",
        "\n",
        "---\n",
        "\n",
        "\n",
        "\n",
        "---\n",
        "\n"
      ]
    },
    {
      "cell_type": "code",
      "metadata": {
        "colab": {
          "base_uri": "https://localhost:8080/"
        },
        "id": "wotIZ0GQl7W7",
        "outputId": "9c29ceb1-3233-4e34-d89f-ce64fb34edc4"
      },
      "source": [
        "history1=model1.fit(train_vec, y_train, epochs=500,batch_size=32,validation_data=(test_vec,  y_test),steps_per_epoch=20,validation_steps=5\n",
        "                    ,callbacks=my_callbacks)"
      ],
      "execution_count": 610,
      "outputs": [
        {
          "output_type": "stream",
          "text": [
            "Epoch 1/500\n",
            "20/20 [==============================] - 1s 15ms/step - loss: 1.1646 - accuracy: 0.5340 - val_loss: 1.0089 - val_accuracy: 0.6500\n",
            "Epoch 2/500\n",
            "20/20 [==============================] - 0s 6ms/step - loss: 0.9682 - accuracy: 0.6199 - val_loss: 0.8776 - val_accuracy: 0.6562\n",
            "Epoch 3/500\n",
            "20/20 [==============================] - 0s 5ms/step - loss: 0.8790 - accuracy: 0.6214 - val_loss: 0.7932 - val_accuracy: 0.6687\n",
            "Epoch 4/500\n",
            "20/20 [==============================] - 0s 5ms/step - loss: 0.7553 - accuracy: 0.7028 - val_loss: 0.7573 - val_accuracy: 0.6875\n",
            "Epoch 5/500\n",
            "20/20 [==============================] - 0s 5ms/step - loss: 0.7747 - accuracy: 0.6595 - val_loss: 0.7435 - val_accuracy: 0.6875\n",
            "Epoch 6/500\n",
            "20/20 [==============================] - 0s 5ms/step - loss: 0.6875 - accuracy: 0.7274 - val_loss: 0.6882 - val_accuracy: 0.7500\n",
            "Epoch 7/500\n",
            "20/20 [==============================] - 0s 5ms/step - loss: 0.6756 - accuracy: 0.7559 - val_loss: 0.6513 - val_accuracy: 0.7563\n",
            "Epoch 8/500\n",
            "20/20 [==============================] - 0s 5ms/step - loss: 0.6532 - accuracy: 0.7294 - val_loss: 0.7253 - val_accuracy: 0.6875\n",
            "Epoch 9/500\n",
            "20/20 [==============================] - 0s 6ms/step - loss: 0.6887 - accuracy: 0.7014 - val_loss: 0.6703 - val_accuracy: 0.7188\n",
            "Epoch 10/500\n",
            "20/20 [==============================] - 0s 6ms/step - loss: 0.6492 - accuracy: 0.7551 - val_loss: 0.6377 - val_accuracy: 0.7375\n",
            "Epoch 11/500\n",
            "20/20 [==============================] - 0s 6ms/step - loss: 0.6452 - accuracy: 0.7103 - val_loss: 0.6064 - val_accuracy: 0.7563\n",
            "Epoch 12/500\n",
            "20/20 [==============================] - 0s 5ms/step - loss: 0.6938 - accuracy: 0.7127 - val_loss: 0.6386 - val_accuracy: 0.7312\n",
            "Epoch 13/500\n",
            "20/20 [==============================] - 0s 5ms/step - loss: 0.6671 - accuracy: 0.7179 - val_loss: 0.6201 - val_accuracy: 0.7188\n",
            "Epoch 14/500\n",
            "20/20 [==============================] - 0s 5ms/step - loss: 0.6257 - accuracy: 0.7225 - val_loss: 0.6688 - val_accuracy: 0.6875\n",
            "Epoch 15/500\n",
            "20/20 [==============================] - 0s 5ms/step - loss: 0.6073 - accuracy: 0.7625 - val_loss: 0.6718 - val_accuracy: 0.7250\n",
            "Epoch 16/500\n",
            "20/20 [==============================] - 0s 5ms/step - loss: 0.6012 - accuracy: 0.7398 - val_loss: 0.7019 - val_accuracy: 0.6938\n",
            "Epoch 17/500\n",
            "20/20 [==============================] - 0s 6ms/step - loss: 0.6330 - accuracy: 0.7339 - val_loss: 0.6000 - val_accuracy: 0.7500\n",
            "Epoch 18/500\n",
            "20/20 [==============================] - 0s 5ms/step - loss: 0.6028 - accuracy: 0.7462 - val_loss: 0.5819 - val_accuracy: 0.7750\n",
            "Epoch 19/500\n",
            "20/20 [==============================] - 0s 5ms/step - loss: 0.6132 - accuracy: 0.7221 - val_loss: 0.5817 - val_accuracy: 0.7563\n",
            "Epoch 20/500\n",
            "20/20 [==============================] - 0s 6ms/step - loss: 0.6312 - accuracy: 0.7202 - val_loss: 0.5622 - val_accuracy: 0.7812\n",
            "Epoch 21/500\n",
            "20/20 [==============================] - 0s 6ms/step - loss: 0.6004 - accuracy: 0.7212 - val_loss: 0.5800 - val_accuracy: 0.7625\n",
            "Epoch 22/500\n",
            "20/20 [==============================] - 0s 5ms/step - loss: 0.5880 - accuracy: 0.7537 - val_loss: 0.6242 - val_accuracy: 0.7437\n",
            "Epoch 23/500\n",
            "20/20 [==============================] - 0s 5ms/step - loss: 0.5967 - accuracy: 0.7267 - val_loss: 0.6306 - val_accuracy: 0.6875\n",
            "Epoch 24/500\n",
            "20/20 [==============================] - 0s 5ms/step - loss: 0.5899 - accuracy: 0.7491 - val_loss: 0.5844 - val_accuracy: 0.7437\n",
            "Epoch 25/500\n",
            "20/20 [==============================] - 0s 5ms/step - loss: 0.5486 - accuracy: 0.7764 - val_loss: 0.5863 - val_accuracy: 0.7812\n",
            "Epoch 26/500\n",
            "20/20 [==============================] - 0s 5ms/step - loss: 0.5564 - accuracy: 0.7674 - val_loss: 0.5683 - val_accuracy: 0.7625\n",
            "Epoch 27/500\n",
            "20/20 [==============================] - 0s 5ms/step - loss: 0.5596 - accuracy: 0.7873 - val_loss: 0.5646 - val_accuracy: 0.7500\n",
            "Epoch 28/500\n",
            "20/20 [==============================] - 0s 5ms/step - loss: 0.5250 - accuracy: 0.7717 - val_loss: 0.5584 - val_accuracy: 0.7563\n",
            "Epoch 29/500\n",
            "20/20 [==============================] - 0s 6ms/step - loss: 0.5782 - accuracy: 0.7416 - val_loss: 0.6213 - val_accuracy: 0.7125\n",
            "Epoch 30/500\n",
            "20/20 [==============================] - 0s 5ms/step - loss: 0.5858 - accuracy: 0.7328 - val_loss: 0.5841 - val_accuracy: 0.7312\n",
            "Epoch 31/500\n",
            "20/20 [==============================] - 0s 5ms/step - loss: 0.5525 - accuracy: 0.7543 - val_loss: 0.6161 - val_accuracy: 0.6938\n",
            "Epoch 32/500\n",
            "20/20 [==============================] - 0s 5ms/step - loss: 0.6422 - accuracy: 0.7109 - val_loss: 0.6006 - val_accuracy: 0.7250\n",
            "Epoch 33/500\n",
            "20/20 [==============================] - 0s 6ms/step - loss: 0.5508 - accuracy: 0.7802 - val_loss: 0.6042 - val_accuracy: 0.7250\n",
            "Epoch 34/500\n",
            "20/20 [==============================] - 0s 5ms/step - loss: 0.5765 - accuracy: 0.7491 - val_loss: 0.6105 - val_accuracy: 0.7312\n",
            "Epoch 35/500\n",
            "20/20 [==============================] - 0s 5ms/step - loss: 0.5071 - accuracy: 0.7895 - val_loss: 0.5682 - val_accuracy: 0.7688\n",
            "Epoch 36/500\n",
            "20/20 [==============================] - 0s 5ms/step - loss: 0.5743 - accuracy: 0.7392 - val_loss: 0.6000 - val_accuracy: 0.7125\n",
            "Epoch 37/500\n",
            "20/20 [==============================] - 0s 6ms/step - loss: 0.5536 - accuracy: 0.7570 - val_loss: 0.5560 - val_accuracy: 0.7437\n",
            "Epoch 38/500\n",
            "20/20 [==============================] - 0s 5ms/step - loss: 0.5185 - accuracy: 0.7899 - val_loss: 0.5660 - val_accuracy: 0.7750\n",
            "Epoch 39/500\n",
            "20/20 [==============================] - 0s 5ms/step - loss: 0.5441 - accuracy: 0.7832 - val_loss: 0.5634 - val_accuracy: 0.7625\n",
            "Epoch 40/500\n",
            "20/20 [==============================] - 0s 5ms/step - loss: 0.5673 - accuracy: 0.7632 - val_loss: 0.5780 - val_accuracy: 0.7312\n",
            "Epoch 41/500\n",
            "20/20 [==============================] - 0s 5ms/step - loss: 0.5305 - accuracy: 0.7759 - val_loss: 0.5999 - val_accuracy: 0.7250\n",
            "Epoch 42/500\n",
            "20/20 [==============================] - 0s 5ms/step - loss: 0.4924 - accuracy: 0.8019 - val_loss: 0.6071 - val_accuracy: 0.7563\n",
            "Epoch 43/500\n",
            "20/20 [==============================] - 0s 6ms/step - loss: 0.5201 - accuracy: 0.7805 - val_loss: 0.5465 - val_accuracy: 0.7937\n",
            "Epoch 44/500\n",
            "20/20 [==============================] - 0s 5ms/step - loss: 0.5683 - accuracy: 0.7546 - val_loss: 0.5500 - val_accuracy: 0.7937\n",
            "Epoch 45/500\n",
            "20/20 [==============================] - 0s 6ms/step - loss: 0.5006 - accuracy: 0.7841 - val_loss: 0.5498 - val_accuracy: 0.7688\n",
            "Epoch 46/500\n",
            "20/20 [==============================] - 0s 5ms/step - loss: 0.5810 - accuracy: 0.7448 - val_loss: 0.6051 - val_accuracy: 0.7000\n",
            "Epoch 47/500\n",
            "20/20 [==============================] - 0s 5ms/step - loss: 0.5632 - accuracy: 0.7398 - val_loss: 0.5631 - val_accuracy: 0.7875\n",
            "Epoch 48/500\n",
            "20/20 [==============================] - 0s 6ms/step - loss: 0.5424 - accuracy: 0.7585 - val_loss: 0.5956 - val_accuracy: 0.7437\n",
            "Epoch 49/500\n",
            "20/20 [==============================] - 0s 5ms/step - loss: 0.5048 - accuracy: 0.8147 - val_loss: 0.6446 - val_accuracy: 0.6875\n",
            "Epoch 50/500\n",
            "20/20 [==============================] - 0s 6ms/step - loss: 0.5245 - accuracy: 0.7882 - val_loss: 0.6154 - val_accuracy: 0.7188\n",
            "Epoch 51/500\n",
            "20/20 [==============================] - 0s 5ms/step - loss: 0.6078 - accuracy: 0.7246 - val_loss: 0.5641 - val_accuracy: 0.7500\n",
            "Epoch 52/500\n",
            "20/20 [==============================] - 0s 5ms/step - loss: 0.5298 - accuracy: 0.7529 - val_loss: 0.5666 - val_accuracy: 0.7750\n",
            "Epoch 53/500\n",
            "20/20 [==============================] - 0s 5ms/step - loss: 0.4500 - accuracy: 0.8011 - val_loss: 0.5553 - val_accuracy: 0.7750\n",
            "Epoch 54/500\n",
            "20/20 [==============================] - 0s 5ms/step - loss: 0.5388 - accuracy: 0.7723 - val_loss: 0.5563 - val_accuracy: 0.7563\n",
            "Epoch 55/500\n",
            "20/20 [==============================] - 0s 7ms/step - loss: 0.5578 - accuracy: 0.7481 - val_loss: 0.5694 - val_accuracy: 0.7437\n",
            "Epoch 56/500\n",
            "20/20 [==============================] - 0s 6ms/step - loss: 0.5572 - accuracy: 0.7417 - val_loss: 0.5751 - val_accuracy: 0.7312\n",
            "Epoch 57/500\n",
            "20/20 [==============================] - 0s 7ms/step - loss: 0.5390 - accuracy: 0.7943 - val_loss: 0.5798 - val_accuracy: 0.7312\n",
            "Epoch 58/500\n",
            "20/20 [==============================] - 0s 6ms/step - loss: 0.4862 - accuracy: 0.7875 - val_loss: 0.5646 - val_accuracy: 0.7375\n",
            "Epoch 59/500\n",
            "20/20 [==============================] - 0s 5ms/step - loss: 0.5100 - accuracy: 0.7921 - val_loss: 0.5494 - val_accuracy: 0.7750\n",
            "Epoch 60/500\n",
            "20/20 [==============================] - 0s 5ms/step - loss: 0.4976 - accuracy: 0.7927 - val_loss: 0.6069 - val_accuracy: 0.7250\n",
            "Epoch 61/500\n",
            "20/20 [==============================] - 0s 6ms/step - loss: 0.5039 - accuracy: 0.7942 - val_loss: 0.5547 - val_accuracy: 0.7437\n",
            "Epoch 62/500\n",
            "20/20 [==============================] - 0s 6ms/step - loss: 0.5768 - accuracy: 0.7343 - val_loss: 0.5621 - val_accuracy: 0.7625\n",
            "Epoch 63/500\n",
            "20/20 [==============================] - 0s 5ms/step - loss: 0.5201 - accuracy: 0.8045 - val_loss: 0.5971 - val_accuracy: 0.7375\n",
            "Epoch 64/500\n",
            "20/20 [==============================] - 0s 6ms/step - loss: 0.4920 - accuracy: 0.8033 - val_loss: 0.5637 - val_accuracy: 0.7375\n",
            "Epoch 65/500\n",
            "20/20 [==============================] - 0s 6ms/step - loss: 0.5279 - accuracy: 0.7697 - val_loss: 0.5592 - val_accuracy: 0.7750\n",
            "Epoch 66/500\n",
            "20/20 [==============================] - 0s 5ms/step - loss: 0.5323 - accuracy: 0.7825 - val_loss: 0.5676 - val_accuracy: 0.7500\n",
            "Epoch 67/500\n",
            "20/20 [==============================] - 0s 5ms/step - loss: 0.5498 - accuracy: 0.7426 - val_loss: 0.5468 - val_accuracy: 0.7563\n",
            "Epoch 68/500\n",
            "20/20 [==============================] - 0s 5ms/step - loss: 0.4754 - accuracy: 0.7973 - val_loss: 0.6904 - val_accuracy: 0.6125\n",
            "Epoch 69/500\n",
            "20/20 [==============================] - 0s 5ms/step - loss: 0.5906 - accuracy: 0.6951 - val_loss: 0.5563 - val_accuracy: 0.7625\n",
            "Epoch 70/500\n",
            "20/20 [==============================] - 0s 5ms/step - loss: 0.5462 - accuracy: 0.7817 - val_loss: 0.5614 - val_accuracy: 0.7625\n",
            "Epoch 71/500\n",
            "20/20 [==============================] - 0s 6ms/step - loss: 0.5121 - accuracy: 0.7711 - val_loss: 0.5702 - val_accuracy: 0.7625\n",
            "Epoch 72/500\n",
            "20/20 [==============================] - 0s 6ms/step - loss: 0.4841 - accuracy: 0.7845 - val_loss: 0.5730 - val_accuracy: 0.7563\n",
            "Epoch 73/500\n",
            "20/20 [==============================] - 0s 5ms/step - loss: 0.5542 - accuracy: 0.7652 - val_loss: 0.5463 - val_accuracy: 0.7750\n",
            "Epoch 74/500\n",
            "20/20 [==============================] - 0s 6ms/step - loss: 0.4500 - accuracy: 0.8347 - val_loss: 0.5667 - val_accuracy: 0.7500\n",
            "Epoch 75/500\n",
            "20/20 [==============================] - 0s 5ms/step - loss: 0.5049 - accuracy: 0.7876 - val_loss: 0.5401 - val_accuracy: 0.7875\n",
            "Epoch 76/500\n",
            "20/20 [==============================] - 0s 5ms/step - loss: 0.5387 - accuracy: 0.7814 - val_loss: 0.5416 - val_accuracy: 0.7812\n",
            "Epoch 77/500\n",
            "20/20 [==============================] - 0s 5ms/step - loss: 0.5384 - accuracy: 0.7584 - val_loss: 0.5727 - val_accuracy: 0.7312\n",
            "Epoch 78/500\n",
            "20/20 [==============================] - 0s 5ms/step - loss: 0.5449 - accuracy: 0.7504 - val_loss: 0.5781 - val_accuracy: 0.7188\n",
            "Epoch 79/500\n",
            "20/20 [==============================] - 0s 6ms/step - loss: 0.4843 - accuracy: 0.7813 - val_loss: 0.5847 - val_accuracy: 0.7375\n",
            "Epoch 80/500\n",
            "20/20 [==============================] - 0s 6ms/step - loss: 0.5401 - accuracy: 0.7392 - val_loss: 0.5732 - val_accuracy: 0.7750\n",
            "Epoch 81/500\n",
            "20/20 [==============================] - 0s 7ms/step - loss: 0.5573 - accuracy: 0.7412 - val_loss: 0.5565 - val_accuracy: 0.7563\n",
            "Epoch 82/500\n",
            "20/20 [==============================] - 0s 7ms/step - loss: 0.4576 - accuracy: 0.8157 - val_loss: 0.6440 - val_accuracy: 0.7000\n",
            "Epoch 83/500\n",
            "20/20 [==============================] - 0s 7ms/step - loss: 0.5554 - accuracy: 0.7621 - val_loss: 0.5500 - val_accuracy: 0.7875\n",
            "Epoch 84/500\n",
            "20/20 [==============================] - 0s 6ms/step - loss: 0.4877 - accuracy: 0.7949 - val_loss: 0.5731 - val_accuracy: 0.7750\n",
            "Epoch 85/500\n",
            "20/20 [==============================] - 0s 6ms/step - loss: 0.4891 - accuracy: 0.7895 - val_loss: 0.6201 - val_accuracy: 0.7250\n",
            "Epoch 86/500\n",
            "20/20 [==============================] - 0s 5ms/step - loss: 0.4940 - accuracy: 0.8062 - val_loss: 0.6359 - val_accuracy: 0.6812\n",
            "Epoch 87/500\n",
            "20/20 [==============================] - 0s 5ms/step - loss: 0.5423 - accuracy: 0.7479 - val_loss: 0.7105 - val_accuracy: 0.7000\n",
            "Epoch 88/500\n",
            "20/20 [==============================] - 0s 5ms/step - loss: 0.4842 - accuracy: 0.7908 - val_loss: 0.6004 - val_accuracy: 0.7250\n",
            "Epoch 89/500\n",
            "20/20 [==============================] - 0s 6ms/step - loss: 0.5207 - accuracy: 0.7573 - val_loss: 0.5926 - val_accuracy: 0.7188\n",
            "Epoch 90/500\n",
            "20/20 [==============================] - 0s 5ms/step - loss: 0.5098 - accuracy: 0.7739 - val_loss: 0.5655 - val_accuracy: 0.7688\n",
            "Epoch 91/500\n",
            "20/20 [==============================] - 0s 6ms/step - loss: 0.4584 - accuracy: 0.8212 - val_loss: 0.5874 - val_accuracy: 0.7563\n",
            "Epoch 92/500\n",
            "20/20 [==============================] - 0s 6ms/step - loss: 0.5316 - accuracy: 0.7740 - val_loss: 0.5852 - val_accuracy: 0.7312\n",
            "Epoch 93/500\n",
            "20/20 [==============================] - 0s 6ms/step - loss: 0.4991 - accuracy: 0.7778 - val_loss: 0.5774 - val_accuracy: 0.7812\n",
            "Epoch 94/500\n",
            "20/20 [==============================] - 0s 6ms/step - loss: 0.4707 - accuracy: 0.8119 - val_loss: 0.5749 - val_accuracy: 0.7750\n",
            "Epoch 95/500\n",
            "20/20 [==============================] - 0s 5ms/step - loss: 0.4759 - accuracy: 0.8019 - val_loss: 0.6492 - val_accuracy: 0.7125\n",
            "Epoch 96/500\n",
            "20/20 [==============================] - 0s 6ms/step - loss: 0.4880 - accuracy: 0.8056 - val_loss: 0.5762 - val_accuracy: 0.7625\n",
            "Epoch 97/500\n",
            "20/20 [==============================] - 0s 6ms/step - loss: 0.5502 - accuracy: 0.7532 - val_loss: 0.5719 - val_accuracy: 0.7625\n",
            "Epoch 98/500\n",
            "20/20 [==============================] - 0s 5ms/step - loss: 0.5178 - accuracy: 0.7668 - val_loss: 0.5672 - val_accuracy: 0.7625\n",
            "Epoch 99/500\n",
            "20/20 [==============================] - 0s 6ms/step - loss: 0.5837 - accuracy: 0.7521 - val_loss: 0.5740 - val_accuracy: 0.7437\n",
            "Epoch 100/500\n",
            "20/20 [==============================] - 0s 7ms/step - loss: 0.4700 - accuracy: 0.8088 - val_loss: 0.5761 - val_accuracy: 0.7625\n",
            "Epoch 101/500\n",
            "20/20 [==============================] - 0s 7ms/step - loss: 0.5006 - accuracy: 0.7739 - val_loss: 0.5568 - val_accuracy: 0.7937\n",
            "Epoch 102/500\n",
            "20/20 [==============================] - 0s 7ms/step - loss: 0.4691 - accuracy: 0.8140 - val_loss: 0.5745 - val_accuracy: 0.7812\n",
            "Epoch 103/500\n",
            "20/20 [==============================] - 0s 7ms/step - loss: 0.5335 - accuracy: 0.7811 - val_loss: 0.5864 - val_accuracy: 0.7125\n",
            "Epoch 104/500\n",
            "20/20 [==============================] - 0s 6ms/step - loss: 0.4910 - accuracy: 0.8054 - val_loss: 0.5496 - val_accuracy: 0.7688\n",
            "Epoch 105/500\n",
            "20/20 [==============================] - 0s 6ms/step - loss: 0.4712 - accuracy: 0.8191 - val_loss: 0.5676 - val_accuracy: 0.7563\n",
            "Epoch 106/500\n",
            "20/20 [==============================] - 0s 5ms/step - loss: 0.4807 - accuracy: 0.7991 - val_loss: 0.5703 - val_accuracy: 0.7625\n",
            "Epoch 107/500\n",
            "20/20 [==============================] - 0s 5ms/step - loss: 0.5124 - accuracy: 0.7868 - val_loss: 0.5838 - val_accuracy: 0.7312\n",
            "Epoch 108/500\n",
            "20/20 [==============================] - 0s 6ms/step - loss: 0.5059 - accuracy: 0.8101 - val_loss: 0.5635 - val_accuracy: 0.7812\n",
            "Epoch 109/500\n",
            "20/20 [==============================] - 0s 5ms/step - loss: 0.5521 - accuracy: 0.7476 - val_loss: 0.5867 - val_accuracy: 0.7250\n",
            "Epoch 110/500\n",
            "20/20 [==============================] - 0s 5ms/step - loss: 0.5230 - accuracy: 0.7711 - val_loss: 0.6011 - val_accuracy: 0.7500\n",
            "Epoch 111/500\n",
            "20/20 [==============================] - 0s 5ms/step - loss: 0.4891 - accuracy: 0.8013 - val_loss: 0.5610 - val_accuracy: 0.7375\n",
            "Epoch 112/500\n",
            "20/20 [==============================] - 0s 5ms/step - loss: 0.4836 - accuracy: 0.8087 - val_loss: 0.5710 - val_accuracy: 0.7688\n",
            "Epoch 113/500\n",
            "20/20 [==============================] - 0s 6ms/step - loss: 0.5112 - accuracy: 0.7794 - val_loss: 0.5693 - val_accuracy: 0.7625\n",
            "Epoch 114/500\n",
            "20/20 [==============================] - 0s 6ms/step - loss: 0.4652 - accuracy: 0.8026 - val_loss: 0.6119 - val_accuracy: 0.7375\n",
            "Epoch 115/500\n",
            "20/20 [==============================] - 0s 6ms/step - loss: 0.5024 - accuracy: 0.8034 - val_loss: 0.5695 - val_accuracy: 0.7625\n",
            "Epoch 116/500\n",
            "20/20 [==============================] - 0s 6ms/step - loss: 0.4812 - accuracy: 0.7907 - val_loss: 0.5805 - val_accuracy: 0.7500\n",
            "Epoch 117/500\n",
            "20/20 [==============================] - 0s 6ms/step - loss: 0.4995 - accuracy: 0.7966 - val_loss: 0.5677 - val_accuracy: 0.7625\n",
            "Epoch 118/500\n",
            "20/20 [==============================] - 0s 6ms/step - loss: 0.5049 - accuracy: 0.7808 - val_loss: 0.5840 - val_accuracy: 0.7312\n",
            "Epoch 119/500\n",
            "20/20 [==============================] - 0s 6ms/step - loss: 0.4513 - accuracy: 0.8280 - val_loss: 0.5801 - val_accuracy: 0.7625\n",
            "Epoch 120/500\n",
            "20/20 [==============================] - 0s 5ms/step - loss: 0.4958 - accuracy: 0.7938 - val_loss: 0.5757 - val_accuracy: 0.7437\n",
            "Epoch 121/500\n",
            "20/20 [==============================] - 0s 5ms/step - loss: 0.4995 - accuracy: 0.7897 - val_loss: 0.5816 - val_accuracy: 0.7625\n",
            "Epoch 122/500\n",
            "20/20 [==============================] - 0s 6ms/step - loss: 0.5250 - accuracy: 0.7699 - val_loss: 0.5813 - val_accuracy: 0.7500\n",
            "Epoch 123/500\n",
            "20/20 [==============================] - 0s 6ms/step - loss: 0.4753 - accuracy: 0.8127 - val_loss: 0.5912 - val_accuracy: 0.7500\n",
            "Epoch 124/500\n",
            "20/20 [==============================] - 0s 6ms/step - loss: 0.4941 - accuracy: 0.7914 - val_loss: 0.6036 - val_accuracy: 0.7500\n",
            "Epoch 125/500\n",
            "20/20 [==============================] - 0s 7ms/step - loss: 0.5307 - accuracy: 0.7823 - val_loss: 0.5625 - val_accuracy: 0.7563\n"
          ],
          "name": "stdout"
        }
      ]
    },
    {
      "cell_type": "code",
      "metadata": {
        "colab": {
          "base_uri": "https://localhost:8080/"
        },
        "id": "3N2UBGt3NUeg",
        "outputId": "319278d8-edd4-4ca2-97e6-ce1ad0471fbb"
      },
      "source": [
        "eval_vec=eval_vec.reshape(1701,1,768)\n",
        "model1.evaluate(eval_vec,y_eval)\n",
        "\n"
      ],
      "execution_count": 611,
      "outputs": [
        {
          "output_type": "stream",
          "text": [
            "54/54 [==============================] - 0s 2ms/step - loss: 0.5049 - accuracy: 0.7907\n"
          ],
          "name": "stdout"
        },
        {
          "output_type": "execute_result",
          "data": {
            "text/plain": [
              "[0.5048751831054688, 0.7907113432884216]"
            ]
          },
          "metadata": {
            "tags": []
          },
          "execution_count": 611
        }
      ]
    },
    {
      "cell_type": "code",
      "metadata": {
        "id": "3hZCHtDC0j4z"
      },
      "source": [
        "\n",
        "import matplotlib.pyplot  as plt\n",
        "def plot_graphs(history, string):\n",
        "  plt.plot(history.history[string])\n",
        "  plt.plot(history.history['val_'+string])\n",
        "  plt.xlabel(\"Epochs\")\n",
        "  plt.ylabel(string)\n",
        "  plt.legend([string, 'val_'+string])\n",
        "  plt.show()\n"
      ],
      "execution_count": 304,
      "outputs": []
    },
    {
      "cell_type": "code",
      "metadata": {
        "colab": {
          "base_uri": "https://localhost:8080/",
          "height": 279
        },
        "id": "_WkxO_Fa3Ppb",
        "outputId": "321ce8ef-b088-47ef-9c7a-a5a453a14058"
      },
      "source": [
        "plot_graphs(history1, \"accuracy\")\n"
      ],
      "execution_count": 606,
      "outputs": [
        {
          "output_type": "display_data",
          "data": {
            "image/png": "[encoded data removed]",
            "text/plain": [
              "<Figure size 432x288 with 1 Axes>"
            ]
          },
          "metadata": {
            "tags": [],
            "needs_background": "light"
          }
        }
      ]
    },
    {
      "cell_type": "code",
      "metadata": {
        "colab": {
          "base_uri": "https://localhost:8080/",
          "height": 279
        },
        "id": "P5u09dcXmFTE",
        "outputId": "ac2ca989-b595-49c3-9f28-33897605dc5b"
      },
      "source": [
        "plot_graphs(history1, \"loss\")\n",
        "\n"
      ],
      "execution_count": 607,
      "outputs": [
        {
          "output_type": "display_data",
          "data": {
            "image/png": "[encoded data removed]",
            "text/plain": [
              "<Figure size 432x288 with 1 Axes>"
            ]
          },
          "metadata": {
            "tags": [],
            "needs_background": "light"
          }
        }
      ]
    },
    {
      "cell_type": "markdown",
      "metadata": {
        "id": "EcFsNZdkOfzx"
      },
      "source": [
        "# **LSTM**"
      ]
    },
    {
      "cell_type": "markdown",
      "metadata": {
        "id": "teoGgESbOuNm"
      },
      "source": [
        "**Text Preprocessing**"
      ]
    },
    {
      "cell_type": "code",
      "metadata": {
        "id": "sUG4HMNAuWX-"
      },
      "source": [
        "from nltk.stem.porter import PorterStemmer\n",
        "\n",
        "import re\n",
        "import string\n",
        "from nltk.corpus import stopwords\n",
        "from nltk.stem import PorterStemmer\n",
        "from nltk.stem.wordnet import WordNetLemmatizer\n",
        "from bs4 import BeautifulSoup"
      ],
      "execution_count": 4,
      "outputs": []
    },
    {
      "cell_type": "code",
      "metadata": {
        "id": "hoPmk4gzOzpN"
      },
      "source": [
        "import re\n",
        "\n",
        "def decontracted(phrase):\n",
        "    # specific\n",
        "    phrase = re.sub(r\"won't\", \"will not\", phrase)\n",
        "    phrase = re.sub(r\"can\\'t\", \"can not\", phrase)\n",
        "\n",
        "    # general\n",
        "    phrase = re.sub(r\"n\\'t\", \" not\", phrase)\n",
        "    phrase = re.sub(r\"\\'re\", \" are\", phrase)\n",
        "    phrase = re.sub(r\"\\'s\", \" is\", phrase)\n",
        "    phrase = re.sub(r\"\\'d\", \" would\", phrase)\n",
        "    phrase = re.sub(r\"\\'ll\", \" will\", phrase)\n",
        "    phrase = re.sub(r\"\\'t\", \" not\", phrase)\n",
        "    phrase = re.sub(r\"\\'ve\", \" have\", phrase)\n",
        "    phrase = re.sub(r\"\\'m\", \" am\", phrase)\n",
        "    return phrase"
      ],
      "execution_count": 5,
      "outputs": []
    },
    {
      "cell_type": "code",
      "metadata": {
        "id": "u1nWXubMO19F"
      },
      "source": [
        "stopwords= set(['br', 'the', 'i', 'me', 'my', 'myself', 'we', 'our', 'ours', 'ourselves', 'you', \"you're\", \"you've\",\\\n",
        "            \"you'll\", \"you'd\", 'your', 'yours', 'yourself', 'yourselves', 'he', 'him', 'his', 'himself', \\\n",
        "            'she', \"she's\", 'her', 'hers', 'herself', 'it', \"it's\", 'its', 'itself', 'they', 'them', 'their',\\\n",
        "            'theirs', 'themselves', 'what', 'which', 'who', 'whom', 'this', 'that', \"that'll\", 'these', 'those', \\\n",
        "            'am', 'is', 'are', 'was', 'were', 'be', 'been', 'being', 'have', 'has', 'had', 'having', 'do', 'does', \\\n",
        "            'did', 'doing', 'a', 'an', 'the', 'and', 'but', 'if', 'or', 'because', 'as', 'until', 'while', 'of', \\\n",
        "            'at', 'by', 'for', 'with', 'about', 'against', 'between', 'into', 'through', 'during', 'before', 'after',\\\n",
        "            'above', 'below', 'to', 'from', 'up', 'down', 'in', 'out', 'on', 'off', 'over', 'under', 'again', 'further',\\\n",
        "            'then', 'once', 'here', 'there', 'when', 'where', 'why', 'how', 'all', 'any', 'both', 'each', 'few', 'more',\\\n",
        "            'most', 'other', 'some', 'such', 'only', 'own', 'same', 'so', 'than', 'too', 'very', \\\n",
        "            's', 't', 'can', 'will', 'just', 'don', \"don't\", 'should', \"should've\", 'now', 'd', 'll', 'm', 'o', 're', \\\n",
        "            've', 'y', 'ain', 'aren', \"aren't\", 'couldn', \"couldn't\", 'didn', \"didn't\", 'doesn', \"doesn't\", 'hadn',\\\n",
        "            \"hadn't\", 'hasn', \"hasn't\", 'haven', \"haven't\", 'isn', \"isn't\", 'ma', 'mightn', \"mightn't\", 'mustn',\\\n",
        "            \"mustn't\", 'needn', \"needn't\", 'shan', \"shan't\", 'shouldn', \"shouldn't\", 'wasn', \"wasn't\", 'weren', \"weren't\", \\\n",
        "            'won', \"won't\", 'wouldn', \"wouldn't\"])"
      ],
      "execution_count": 6,
      "outputs": []
    },
    {
      "cell_type": "code",
      "metadata": {
        "colab": {
          "base_uri": "https://localhost:8080/"
        },
        "id": "iAQm62NuO5KE",
        "outputId": "6092cbff-aadd-41f8-d42e-e259c6779a64"
      },
      "source": [
        "from tqdm import tqdm\n",
        "preprocessed_text = []\n",
        "# tqdm is for printing the status bar\n",
        "for sentance in tqdm(train_df['Description'].values):\n",
        "    sentance = re.sub(r\"http\\S+\", \"\", sentance)\n",
        "    sentance = BeautifulSoup(sentance, 'lxml').get_text()\n",
        "    sentance = decontracted(sentance)\n",
        "    sentance = re.sub(\"\\S*\\d\\S*\", \"\", sentance).strip()\n",
        "    sentance = re.sub('[^A-Za-z]+', ' ', sentance)\n",
        "    sentance = ' '.join(e.lower() for e in sentance.split() if e.lower() not in stopwords)\n",
        "    preprocessed_text.append(sentance.strip())"
      ],
      "execution_count": 7,
      "outputs": [
        {
          "output_type": "stream",
          "text": [
            " 46%|████▌     | 3284/7201 [00:00<00:00, 4729.18it/s]/usr/local/lib/python3.7/dist-packages/bs4/__init__.py:273: UserWarning: \"b'..'\" looks like a filename, not markup. You should probably open this file and pass the filehandle into Beautiful Soup.\n",
            "  ' Beautiful Soup.' % markup)\n",
            "100%|██████████| 7201/7201 [00:01<00:00, 4695.65it/s]\n"
          ],
          "name": "stderr"
        }
      ]
    },
    {
      "cell_type": "code",
      "metadata": {
        "id": "pCV9QxZ1PEU2"
      },
      "source": [
        "train_df['Description']=preprocessed_text"
      ],
      "execution_count": 8,
      "outputs": []
    },
    {
      "cell_type": "code",
      "metadata": {
        "colab": {
          "base_uri": "https://localhost:8080/",
          "height": 419
        },
        "id": "z1B1yLV6PNKs",
        "outputId": "1f312058-bb5e-4596-9a1a-034550c57faa"
      },
      "source": [
        "train_df"
      ],
      "execution_count": 9,
      "outputs": [
        {
          "output_type": "execute_result",
          "data": {
            "text/html": [
              "<div>\n",
              "<style scoped>\n",
              "    .dataframe tbody tr th:only-of-type {\n",
              "        vertical-align: middle;\n",
              "    }\n",
              "\n",
              "    .dataframe tbody tr th {\n",
              "        vertical-align: top;\n",
              "    }\n",
              "\n",
              "    .dataframe thead th {\n",
              "        text-align: right;\n",
              "    }\n",
              "</style>\n",
              "<table border=\"1\" class=\"dataframe\">\n",
              "  <thead>\n",
              "    <tr style=\"text-align: right;\">\n",
              "      <th></th>\n",
              "      <th>Description</th>\n",
              "      <th>Commenting</th>\n",
              "      <th>Staring</th>\n",
              "      <th>Touching</th>\n",
              "    </tr>\n",
              "  </thead>\n",
              "  <tbody>\n",
              "    <tr>\n",
              "      <th>0</th>\n",
              "      <td>walking along crowded street holding mums hand...</td>\n",
              "      <td>0</td>\n",
              "      <td>0</td>\n",
              "      <td>1</td>\n",
              "    </tr>\n",
              "    <tr>\n",
              "      <th>1</th>\n",
              "      <td>incident took place evening metro two guys sta...</td>\n",
              "      <td>0</td>\n",
              "      <td>1</td>\n",
              "      <td>0</td>\n",
              "    </tr>\n",
              "    <tr>\n",
              "      <th>2</th>\n",
              "      <td>waiting bus man came bike offering liftvto you...</td>\n",
              "      <td>1</td>\n",
              "      <td>0</td>\n",
              "      <td>0</td>\n",
              "    </tr>\n",
              "    <tr>\n",
              "      <th>3</th>\n",
              "      <td>incident happened inside train</td>\n",
              "      <td>0</td>\n",
              "      <td>0</td>\n",
              "      <td>0</td>\n",
              "    </tr>\n",
              "    <tr>\n",
              "      <th>4</th>\n",
              "      <td>witnessed incident chain brutally snatched eld...</td>\n",
              "      <td>0</td>\n",
              "      <td>0</td>\n",
              "      <td>0</td>\n",
              "    </tr>\n",
              "    <tr>\n",
              "      <th>...</th>\n",
              "      <td>...</td>\n",
              "      <td>...</td>\n",
              "      <td>...</td>\n",
              "      <td>...</td>\n",
              "    </tr>\n",
              "    <tr>\n",
              "      <th>7196</th>\n",
              "      <td>person near construction site probably laborer...</td>\n",
              "      <td>0</td>\n",
              "      <td>1</td>\n",
              "      <td>0</td>\n",
              "    </tr>\n",
              "    <tr>\n",
              "      <th>7197</th>\n",
              "      <td>threatened making inappropriate conversation t...</td>\n",
              "      <td>1</td>\n",
              "      <td>0</td>\n",
              "      <td>0</td>\n",
              "    </tr>\n",
              "    <tr>\n",
              "      <th>7198</th>\n",
              "      <td>happened morning university metro station guys...</td>\n",
              "      <td>1</td>\n",
              "      <td>0</td>\n",
              "      <td>0</td>\n",
              "    </tr>\n",
              "    <tr>\n",
              "      <th>7199</th>\n",
              "      <td>one day aunt returniec frm office shaunt e fou...</td>\n",
              "      <td>0</td>\n",
              "      <td>0</td>\n",
              "      <td>0</td>\n",
              "    </tr>\n",
              "    <tr>\n",
              "      <th>7200</th>\n",
              "      <td>victim sxual assault rape</td>\n",
              "      <td>0</td>\n",
              "      <td>0</td>\n",
              "      <td>0</td>\n",
              "    </tr>\n",
              "  </tbody>\n",
              "</table>\n",
              "<p>7201 rows × 4 columns</p>\n",
              "</div>"
            ],
            "text/plain": [
              "                                            Description  ...  Touching\n",
              "0     walking along crowded street holding mums hand...  ...         1\n",
              "1     incident took place evening metro two guys sta...  ...         0\n",
              "2     waiting bus man came bike offering liftvto you...  ...         0\n",
              "3                        incident happened inside train  ...         0\n",
              "4     witnessed incident chain brutally snatched eld...  ...         0\n",
              "...                                                 ...  ...       ...\n",
              "7196  person near construction site probably laborer...  ...         0\n",
              "7197  threatened making inappropriate conversation t...  ...         0\n",
              "7198  happened morning university metro station guys...  ...         0\n",
              "7199  one day aunt returniec frm office shaunt e fou...  ...         0\n",
              "7200                          victim sxual assault rape  ...         0\n",
              "\n",
              "[7201 rows x 4 columns]"
            ]
          },
          "metadata": {
            "tags": []
          },
          "execution_count": 9
        }
      ]
    },
    {
      "cell_type": "code",
      "metadata": {
        "colab": {
          "base_uri": "https://localhost:8080/"
        },
        "id": "GeFeaBTVPPHc",
        "outputId": "5d707edf-98d6-4918-a18a-25da9a34aa69"
      },
      "source": [
        "preprocessed_text = []\n",
        "# tqdm is for printing the status bar\n",
        "for sentance in tqdm(dev_df['Description'].values):\n",
        "    sentance = re.sub(r\"http\\S+\", \"\", sentance)\n",
        "    sentance = BeautifulSoup(sentance, 'lxml').get_text()\n",
        "    sentance = decontracted(sentance)\n",
        "    sentance = re.sub(\"\\S*\\d\\S*\", \"\", sentance).strip()\n",
        "    sentance = re.sub('[^A-Za-z]+', ' ', sentance)\n",
        "    sentance = ' '.join(e.lower() for e in sentance.split() if e.lower() not in stopwords)\n",
        "    preprocessed_text.append(sentance.strip())"
      ],
      "execution_count": 173,
      "outputs": [
        {
          "output_type": "stream",
          "text": [
            "100%|██████████| 990/990 [00:00<00:00, 4327.37it/s]\n"
          ],
          "name": "stderr"
        }
      ]
    },
    {
      "cell_type": "code",
      "metadata": {
        "id": "hM0EYgmuPcNH"
      },
      "source": [
        "dev_df['Description']=preprocessed_text\n"
      ],
      "execution_count": 174,
      "outputs": []
    },
    {
      "cell_type": "code",
      "metadata": {
        "colab": {
          "base_uri": "https://localhost:8080/",
          "height": 419
        },
        "id": "bZbavejsPk-i",
        "outputId": "0555b775-ec5d-44ef-df38-c852289d558f"
      },
      "source": [
        "dev_df"
      ],
      "execution_count": 175,
      "outputs": [
        {
          "output_type": "execute_result",
          "data": {
            "text/html": [
              "<div>\n",
              "<style scoped>\n",
              "    .dataframe tbody tr th:only-of-type {\n",
              "        vertical-align: middle;\n",
              "    }\n",
              "\n",
              "    .dataframe tbody tr th {\n",
              "        vertical-align: top;\n",
              "    }\n",
              "\n",
              "    .dataframe thead th {\n",
              "        text-align: right;\n",
              "    }\n",
              "</style>\n",
              "<table border=\"1\" class=\"dataframe\">\n",
              "  <thead>\n",
              "    <tr style=\"text-align: right;\">\n",
              "      <th></th>\n",
              "      <th>Description</th>\n",
              "      <th>Commenting</th>\n",
              "      <th>Staring</th>\n",
              "      <th>Touching</th>\n",
              "    </tr>\n",
              "  </thead>\n",
              "  <tbody>\n",
              "    <tr>\n",
              "      <th>0</th>\n",
              "      <td>buses approaching place highly unsafe</td>\n",
              "      <td>1</td>\n",
              "      <td>0</td>\n",
              "      <td>1</td>\n",
              "    </tr>\n",
              "    <tr>\n",
              "      <th>1</th>\n",
              "      <td>man commenting</td>\n",
              "      <td>1</td>\n",
              "      <td>0</td>\n",
              "      <td>0</td>\n",
              "    </tr>\n",
              "    <tr>\n",
              "      <th>2</th>\n",
              "      <td>share auto</td>\n",
              "      <td>0</td>\n",
              "      <td>0</td>\n",
              "      <td>1</td>\n",
              "    </tr>\n",
              "    <tr>\n",
              "      <th>3</th>\n",
              "      <td>coming club night friends guys came stopped us...</td>\n",
              "      <td>1</td>\n",
              "      <td>0</td>\n",
              "      <td>0</td>\n",
              "    </tr>\n",
              "    <tr>\n",
              "      <th>4</th>\n",
              "      <td>one friends molested crowd happened no bridge ...</td>\n",
              "      <td>0</td>\n",
              "      <td>0</td>\n",
              "      <td>1</td>\n",
              "    </tr>\n",
              "    <tr>\n",
              "      <th>...</th>\n",
              "      <td>...</td>\n",
              "      <td>...</td>\n",
              "      <td>...</td>\n",
              "      <td>...</td>\n",
              "    </tr>\n",
              "    <tr>\n",
              "      <th>985</th>\n",
              "      <td>returning home riding bicycle almost near home...</td>\n",
              "      <td>1</td>\n",
              "      <td>0</td>\n",
              "      <td>0</td>\n",
              "    </tr>\n",
              "    <tr>\n",
              "      <th>986</th>\n",
              "      <td>two boys bike commented abused friend leaving ...</td>\n",
              "      <td>1</td>\n",
              "      <td>0</td>\n",
              "      <td>0</td>\n",
              "    </tr>\n",
              "    <tr>\n",
              "      <th>987</th>\n",
              "      <td>evening guy showed middle finger called slut l...</td>\n",
              "      <td>1</td>\n",
              "      <td>0</td>\n",
              "      <td>0</td>\n",
              "    </tr>\n",
              "    <tr>\n",
              "      <th>988</th>\n",
              "      <td>evening time two young boys riding bike roamin...</td>\n",
              "      <td>0</td>\n",
              "      <td>0</td>\n",
              "      <td>0</td>\n",
              "    </tr>\n",
              "    <tr>\n",
              "      <th>989</th>\n",
              "      <td>tried touch breast elbow hand</td>\n",
              "      <td>0</td>\n",
              "      <td>0</td>\n",
              "      <td>1</td>\n",
              "    </tr>\n",
              "  </tbody>\n",
              "</table>\n",
              "<p>990 rows × 4 columns</p>\n",
              "</div>"
            ],
            "text/plain": [
              "                                           Description  ...  Touching\n",
              "0                buses approaching place highly unsafe  ...         1\n",
              "1                                       man commenting  ...         0\n",
              "2                                           share auto  ...         1\n",
              "3    coming club night friends guys came stopped us...  ...         0\n",
              "4    one friends molested crowd happened no bridge ...  ...         1\n",
              "..                                                 ...  ...       ...\n",
              "985  returning home riding bicycle almost near home...  ...         0\n",
              "986  two boys bike commented abused friend leaving ...  ...         0\n",
              "987  evening guy showed middle finger called slut l...  ...         0\n",
              "988  evening time two young boys riding bike roamin...  ...         0\n",
              "989                      tried touch breast elbow hand  ...         1\n",
              "\n",
              "[990 rows x 4 columns]"
            ]
          },
          "metadata": {
            "tags": []
          },
          "execution_count": 175
        }
      ]
    },
    {
      "cell_type": "code",
      "metadata": {
        "colab": {
          "base_uri": "https://localhost:8080/"
        },
        "id": "HCPQ78o5PmpY",
        "outputId": "727200a6-7d2f-4f65-9a4c-0c9b9cfe0787"
      },
      "source": [
        "from tensorflow.keras.preprocessing.text import Tokenizer\n",
        "from tensorflow.keras.preprocessing.sequence import pad_sequences\n",
        "import tensorflow as tf\n",
        "\n",
        "vocab_size = 10000\n",
        "embedding_dim = 64\n",
        "max_length = 200\n",
        "trunc_type = 'post'\n",
        "padding_type = 'post'\n",
        "oov_tok = '<OOV>'\n",
        "training_portion = .8\n",
        "\n",
        "tokenizer = Tokenizer(num_words = vocab_size, oov_token=oov_tok)\n",
        "tokenizer.fit_on_texts(train_df['Description'])\n",
        "word_index = tokenizer.word_index\n",
        "dict(list(word_index.items())[0:10])"
      ],
      "execution_count": 176,
      "outputs": [
        {
          "output_type": "execute_result",
          "data": {
            "text/plain": [
              "{'<OOV>': 1,\n",
              " 'a': 6,\n",
              " 'and': 2,\n",
              " 'i': 4,\n",
              " 'in': 8,\n",
              " 'me': 10,\n",
              " 'my': 9,\n",
              " 'the': 3,\n",
              " 'to': 7,\n",
              " 'was': 5}"
            ]
          },
          "metadata": {
            "tags": []
          },
          "execution_count": 176
        }
      ]
    },
    {
      "cell_type": "code",
      "metadata": {
        "colab": {
          "base_uri": "https://localhost:8080/"
        },
        "id": "uIWqxUvPP7mU",
        "outputId": "fa1fc2e2-3490-43f2-cc94-04541732ea46"
      },
      "source": [
        "train_sequences = tokenizer.texts_to_sequences(train_df['Description'])\n",
        "print(train_sequences[10])"
      ],
      "execution_count": 177,
      "outputs": [
        {
          "output_type": "stream",
          "text": [
            "[202, 2, 81, 59, 18, 77, 11, 3, 4361, 337, 3, 374, 157, 13, 3, 2521, 1670, 425, 10, 2, 9, 35, 225, 17, 40, 3105, 22, 3, 3106, 2, 692, 4362, 13, 3, 1670, 349, 295, 189, 57, 214]\n"
          ],
          "name": "stdout"
        }
      ]
    },
    {
      "cell_type": "code",
      "metadata": {
        "colab": {
          "base_uri": "https://localhost:8080/"
        },
        "id": "UQKlxnLpQL6u",
        "outputId": "de1a6d5b-f7ca-487b-c8bd-15a2580db413"
      },
      "source": [
        "train_padded = pad_sequences(train_sequences, maxlen=max_length, padding=padding_type, truncating=trunc_type)\n",
        "print(train_padded[10])\n",
        "\n",
        "print(len(train_sequences))\n",
        "print(train_padded.shape)"
      ],
      "execution_count": 178,
      "outputs": [
        {
          "output_type": "stream",
          "text": [
            "[ 202    2   81   59   18   77   11    3 4361  337    3  374  157   13\n",
            "    3 2521 1670  425   10    2    9   35  225   17   40 3105   22    3\n",
            " 3106    2  692 4362   13    3 1670  349  295  189   57  214    0    0\n",
            "    0    0    0    0    0    0    0    0    0    0    0    0    0    0\n",
            "    0    0    0    0    0    0    0    0    0    0    0    0    0    0\n",
            "    0    0    0    0    0    0    0    0    0    0    0    0    0    0\n",
            "    0    0    0    0    0    0    0    0    0    0    0    0    0    0\n",
            "    0    0    0    0    0    0    0    0    0    0    0    0    0    0\n",
            "    0    0    0    0    0    0    0    0    0    0    0    0    0    0\n",
            "    0    0    0    0    0    0    0    0    0    0    0    0    0    0\n",
            "    0    0    0    0    0    0    0    0    0    0    0    0    0    0\n",
            "    0    0    0    0    0    0    0    0    0    0    0    0    0    0\n",
            "    0    0    0    0    0    0    0    0    0    0    0    0    0    0\n",
            "    0    0    0    0    0    0    0    0    0    0    0    0    0    0\n",
            "    0    0    0    0]\n",
            "7201\n",
            "(7201, 200)\n"
          ],
          "name": "stdout"
        }
      ]
    },
    {
      "cell_type": "code",
      "metadata": {
        "colab": {
          "base_uri": "https://localhost:8080/"
        },
        "id": "XWULRa1GQR5f",
        "outputId": "0aa83ea6-16fc-4bc2-ed14-488c748ef61b"
      },
      "source": [
        "validation_sequences = tokenizer.texts_to_sequences(dev_df['Description'])\n",
        "validation_padded = pad_sequences(validation_sequences, maxlen=max_length, padding=padding_type, truncating=trunc_type)\n",
        "\n",
        "print(len(validation_sequences))\n",
        "print(validation_padded.shape)"
      ],
      "execution_count": 179,
      "outputs": [
        {
          "output_type": "stream",
          "text": [
            "990\n",
            "(990, 200)\n"
          ],
          "name": "stdout"
        }
      ]
    },
    {
      "cell_type": "code",
      "metadata": {
        "id": "1X9Tw75XQej4"
      },
      "source": [
        "\n",
        "training_label_seq = train_df['Commenting']\n",
        "validation_label_seq = dev_df['Commenting']\n",
        "\n"
      ],
      "execution_count": 180,
      "outputs": []
    },
    {
      "cell_type": "code",
      "metadata": {
        "id": "dRLW7soZQtwx"
      },
      "source": [
        "  from tensorflow.keras.layers import Embedding,LSTM,Dense,GlobalAvgPool1D,Flatten,Bidirectional,Dropout\n",
        "from tensorflow.keras import Sequential\n",
        "from tensorflow.keras.losses import binary_crossentropy\n",
        "from tensorflow.keras.regularizers import L2,L1\n"
      ],
      "execution_count": 181,
      "outputs": []
    },
    {
      "cell_type": "code",
      "metadata": {
        "colab": {
          "base_uri": "https://localhost:8080/"
        },
        "id": "P3xneYk0RC1m",
        "outputId": "c239ed3b-585a-44c7-96b1-2eb7586aa16b"
      },
      "source": [
        "model = tf.keras.Sequential([\n",
        "    Embedding(input_dim=vocab_size,input_length=200, output_dim=128),\n",
        "    Bidirectional( LSTM(128,recurrent_dropout=0.8,return_sequences=True,)),\n",
        "    Bidirectional( LSTM(64,recurrent_dropout=0.8,return_sequences=True,)),\n",
        "    #LSTM(32),\n",
        "    Flatten(),\n",
        "    tf.keras.layers.Dense(512, activation='relu',kernel_regularizer=L2(0.0001),kernel_initializer='glorot_uniform'),\n",
        "    Dropout(0.8),\n",
        "\n",
        "    #tf.keras.layers.Dense(128, activation='relu',kernel_regularizer=L2(0.0001),kernel_initializer='glorot_uniform'),\n",
        "        #Dropout(0.5),\n",
        "\n",
        "    tf.keras.layers.Dense(64, activation='relu',kernel_regularizer=L2(0.0001),kernel_initializer='glorot_uniform'),\n",
        "\n",
        "    #Dropout(0.5),\n",
        "    tf.keras.layers.Dense(1, activation='sigmoid',kernel_regularizer=L2(0.0001),kernel_initializer='glorot_uniform')\n",
        "])\n",
        "model.summary()"
      ],
      "execution_count": 192,
      "outputs": [
        {
          "output_type": "stream",
          "text": [
            "WARNING:tensorflow:Layer lstm_72 will not use cuDNN kernel since it doesn't meet the cuDNN kernel criteria. It will use generic GPU kernel as fallback when running on GPU\n",
            "WARNING:tensorflow:Layer lstm_72 will not use cuDNN kernel since it doesn't meet the cuDNN kernel criteria. It will use generic GPU kernel as fallback when running on GPU\n",
            "WARNING:tensorflow:Layer lstm_72 will not use cuDNN kernel since it doesn't meet the cuDNN kernel criteria. It will use generic GPU kernel as fallback when running on GPU\n",
            "WARNING:tensorflow:Layer lstm_73 will not use cuDNN kernel since it doesn't meet the cuDNN kernel criteria. It will use generic GPU kernel as fallback when running on GPU\n",
            "WARNING:tensorflow:Layer lstm_73 will not use cuDNN kernel since it doesn't meet the cuDNN kernel criteria. It will use generic GPU kernel as fallback when running on GPU\n",
            "WARNING:tensorflow:Layer lstm_73 will not use cuDNN kernel since it doesn't meet the cuDNN kernel criteria. It will use generic GPU kernel as fallback when running on GPU\n",
            "Model: \"sequential_43\"\n",
            "_________________________________________________________________\n",
            "Layer (type)                 Output Shape              Param #   \n",
            "=================================================================\n",
            "embedding_32 (Embedding)     (None, 200, 128)          1280000   \n",
            "_________________________________________________________________\n",
            "bidirectional_16 (Bidirectio (None, 200, 256)          263168    \n",
            "_________________________________________________________________\n",
            "bidirectional_17 (Bidirectio (None, 200, 128)          164352    \n",
            "_________________________________________________________________\n",
            "flatten_44 (Flatten)         (None, 25600)             0         \n",
            "_________________________________________________________________\n",
            "dense_123 (Dense)            (None, 512)               13107712  \n",
            "_________________________________________________________________\n",
            "dropout_37 (Dropout)         (None, 512)               0         \n",
            "_________________________________________________________________\n",
            "dense_124 (Dense)            (None, 64)                32832     \n",
            "_________________________________________________________________\n",
            "dense_125 (Dense)            (None, 1)                 65        \n",
            "=================================================================\n",
            "Total params: 14,848,129\n",
            "Trainable params: 14,848,129\n",
            "Non-trainable params: 0\n",
            "_________________________________________________________________\n"
          ],
          "name": "stdout"
        }
      ]
    },
    {
      "cell_type": "code",
      "metadata": {
        "colab": {
          "base_uri": "https://localhost:8080/"
        },
        "id": "J6FviTv-EyUA",
        "outputId": "dc9882a1-b24c-4922-89a1-a9d83463062c"
      },
      "source": [
        "num_words = len(tokenizer.word_index) + 1\n",
        "num_words"
      ],
      "execution_count": 36,
      "outputs": [
        {
          "output_type": "execute_result",
          "data": {
            "text/plain": [
              "8206"
            ]
          },
          "metadata": {
            "tags": []
          },
          "execution_count": 36
        }
      ]
    },
    {
      "cell_type": "code",
      "metadata": {
        "colab": {
          "base_uri": "https://localhost:8080/"
        },
        "id": "_6SPOHtirOOB",
        "outputId": "7c80c5eb-59b3-48cf-e25d-6c19f80568ba"
      },
      "source": [
        "train_padded.shape\n",
        "print(type(training_label_seq))"
      ],
      "execution_count": 81,
      "outputs": [
        {
          "output_type": "stream",
          "text": [
            "<class 'pandas.core.series.Series'>\n"
          ],
          "name": "stdout"
        }
      ]
    },
    {
      "cell_type": "code",
      "metadata": {
        "id": "hcS2tsVJqvZL"
      },
      "source": [
        "train_padded=  train_padded.reshape(7201 ,200)\n",
        "validation_padded=validation_padded.reshape(1701,200)\n"
      ],
      "execution_count": 106,
      "outputs": []
    },
    {
      "cell_type": "code",
      "metadata": {
        "id": "X8b5ROsBH3yy"
      },
      "source": [
        "my_callbacks1 = [\n",
        "    tf.keras.callbacks.EarlyStopping(patience=5)\n",
        "]"
      ],
      "execution_count": 190,
      "outputs": []
    },
    {
      "cell_type": "code",
      "metadata": {
        "colab": {
          "base_uri": "https://localhost:8080/"
        },
        "id": "qs0LG4SRRMZ9",
        "outputId": "4f3f8d89-d8d8-4295-8e78-9141df8fe968"
      },
      "source": [
        "model.compile(loss='binary_crossentropy', optimizer='adam', metrics=['accuracy'])\n",
        "num_epochs = 100\n",
        "history = model.fit(train_padded, training_label_seq, epochs=num_epochs, \n",
        "                    validation_data=(validation_padded, validation_label_seq),batch_size=16,callbacks=my_callbacks1, steps_per_epoch=20,\n",
        "                    validation_steps=10)"
      ],
      "execution_count": 193,
      "outputs": [
        {
          "output_type": "stream",
          "text": [
            "Epoch 1/100\n",
            "20/20 [==============================] - 57s 2s/step - loss: 0.8295 - accuracy: 0.5718 - val_loss: 0.7953 - val_accuracy: 0.6500\n",
            "Epoch 2/100\n",
            "20/20 [==============================] - 48s 2s/step - loss: 0.8271 - accuracy: 0.5889 - val_loss: 0.8535 - val_accuracy: 0.3500\n",
            "Epoch 3/100\n",
            "20/20 [==============================] - 48s 2s/step - loss: 0.9015 - accuracy: 0.5648 - val_loss: 0.8002 - val_accuracy: 0.6500\n",
            "Epoch 4/100\n",
            "20/20 [==============================] - 49s 2s/step - loss: 0.8002 - accuracy: 0.6236 - val_loss: 0.8576 - val_accuracy: 0.3938\n",
            "Epoch 5/100\n",
            "20/20 [==============================] - 49s 2s/step - loss: 0.8041 - accuracy: 0.6396 - val_loss: 0.7500 - val_accuracy: 0.6938\n",
            "Epoch 6/100\n",
            "20/20 [==============================] - 48s 2s/step - loss: 0.7331 - accuracy: 0.7139 - val_loss: 0.8181 - val_accuracy: 0.5813\n",
            "Epoch 7/100\n",
            "20/20 [==============================] - 49s 2s/step - loss: 0.7912 - accuracy: 0.6798 - val_loss: 0.7783 - val_accuracy: 0.6750\n",
            "Epoch 8/100\n",
            "20/20 [==============================] - 49s 2s/step - loss: 0.7610 - accuracy: 0.6674 - val_loss: 0.7464 - val_accuracy: 0.7250\n",
            "Epoch 9/100\n",
            "20/20 [==============================] - 49s 2s/step - loss: 0.7292 - accuracy: 0.7233 - val_loss: 0.7323 - val_accuracy: 0.7312\n",
            "Epoch 10/100\n",
            "20/20 [==============================] - 49s 2s/step - loss: 0.8799 - accuracy: 0.7174 - val_loss: 0.7349 - val_accuracy: 0.7188\n",
            "Epoch 11/100\n",
            "20/20 [==============================] - 48s 2s/step - loss: 0.7713 - accuracy: 0.6623 - val_loss: 0.7091 - val_accuracy: 0.7312\n",
            "Epoch 12/100\n",
            "20/20 [==============================] - 48s 2s/step - loss: 0.7000 - accuracy: 0.7420 - val_loss: 0.7290 - val_accuracy: 0.7750\n",
            "Epoch 13/100\n",
            "20/20 [==============================] - 48s 2s/step - loss: 0.6892 - accuracy: 0.7756 - val_loss: 0.7077 - val_accuracy: 0.7688\n",
            "Epoch 14/100\n",
            "20/20 [==============================] - 47s 2s/step - loss: 0.6836 - accuracy: 0.7843 - val_loss: 0.7110 - val_accuracy: 0.7688\n",
            "Epoch 15/100\n",
            "20/20 [==============================] - 48s 2s/step - loss: 0.7000 - accuracy: 0.7443 - val_loss: 0.7189 - val_accuracy: 0.7688\n",
            "Epoch 16/100\n",
            "20/20 [==============================] - 49s 2s/step - loss: 0.6528 - accuracy: 0.7832 - val_loss: 0.6842 - val_accuracy: 0.7688\n",
            "Epoch 17/100\n",
            "20/20 [==============================] - 47s 2s/step - loss: 0.6977 - accuracy: 0.7457 - val_loss: 0.6833 - val_accuracy: 0.7563\n",
            "Epoch 18/100\n",
            "20/20 [==============================] - 47s 2s/step - loss: 0.7024 - accuracy: 0.7697 - val_loss: 0.6657 - val_accuracy: 0.7875\n",
            "Epoch 19/100\n",
            "20/20 [==============================] - 46s 2s/step - loss: 0.6333 - accuracy: 0.7617 - val_loss: 0.6622 - val_accuracy: 0.7750\n",
            "Epoch 20/100\n",
            "20/20 [==============================] - 46s 2s/step - loss: 0.6309 - accuracy: 0.7819 - val_loss: 0.6668 - val_accuracy: 0.7625\n",
            "Epoch 21/100\n",
            "20/20 [==============================] - 47s 2s/step - loss: 0.5991 - accuracy: 0.7666 - val_loss: 0.6515 - val_accuracy: 0.7750\n",
            "Epoch 22/100\n",
            "20/20 [==============================] - 47s 2s/step - loss: 0.6034 - accuracy: 0.7848 - val_loss: 0.6288 - val_accuracy: 0.7688\n",
            "Epoch 23/100\n",
            "20/20 [==============================] - 47s 2s/step - loss: 0.4767 - accuracy: 0.8817 - val_loss: 0.6951 - val_accuracy: 0.7688\n",
            "Epoch 24/100\n",
            "20/20 [==============================] - 47s 2s/step - loss: 0.5374 - accuracy: 0.8463 - val_loss: 0.6757 - val_accuracy: 0.7625\n",
            "Epoch 25/100\n",
            "20/20 [==============================] - 48s 2s/step - loss: 0.5317 - accuracy: 0.8404 - val_loss: 0.6661 - val_accuracy: 0.7625\n",
            "Epoch 26/100\n",
            "20/20 [==============================] - 47s 2s/step - loss: 0.4973 - accuracy: 0.8682 - val_loss: 0.6648 - val_accuracy: 0.7688\n",
            "Epoch 27/100\n",
            "20/20 [==============================] - 48s 2s/step - loss: 0.5637 - accuracy: 0.8027 - val_loss: 0.6444 - val_accuracy: 0.7625\n"
          ],
          "name": "stdout"
        }
      ]
    },
    {
      "cell_type": "code",
      "metadata": {
        "colab": {
          "base_uri": "https://localhost:8080/",
          "height": 280
        },
        "id": "sdgJlICWRcc9",
        "outputId": "f6d6b18a-b077-47e6-8813-c502ba2a4c0c"
      },
      "source": [
        "plot_graphs(history, \"accuracy\")"
      ],
      "execution_count": 194,
      "outputs": [
        {
          "output_type": "display_data",
          "data": {
            "image/png": "[encoded data removed]",
            "text/plain": [
              "<Figure size 432x288 with 1 Axes>"
            ]
          },
          "metadata": {
            "tags": [],
            "needs_background": "light"
          }
        }
      ]
    },
    {
      "cell_type": "code",
      "metadata": {
        "colab": {
          "base_uri": "https://localhost:8080/",
          "height": 282
        },
        "id": "mNPaif7VTSqj",
        "outputId": "4641e5a6-3a87-4caa-aba9-36bebb2799fc"
      },
      "source": [
        "plot_graphs(history, \"loss\")"
      ],
      "execution_count": 195,
      "outputs": [
        {
          "output_type": "display_data",
          "data": {
            "image/png": "[encoded data removed]",
            "text/plain": [
              "<Figure size 432x288 with 1 Axes>"
            ]
          },
          "metadata": {
            "tags": [],
            "needs_background": "light"
          }
        }
      ]
    },
    {
      "cell_type": "markdown",
      "metadata": {
        "id": "uu-l-_yL52Mp"
      },
      "source": [
        "# Preparing Test Data to evaluate"
      ]
    },
    {
      "cell_type": "code",
      "metadata": {
        "colab": {
          "base_uri": "https://localhost:8080/"
        },
        "id": "P331bFofTXGq",
        "outputId": "ad248bd0-099c-40ff-d85d-0ad90e264027"
      },
      "source": [
        "test_sequences = tokenizer.texts_to_sequences(test_df['Description'])\n",
        "test_padded = pad_sequences(test_sequences, maxlen=max_length, padding=padding_type, truncating=trunc_type)\n",
        "\n",
        "print(len(test_sequences))\n",
        "print(test_padded.shape)"
      ],
      "execution_count": 197,
      "outputs": [
        {
          "output_type": "stream",
          "text": [
            "1701\n",
            "(1701, 200)\n"
          ],
          "name": "stdout"
        }
      ]
    },
    {
      "cell_type": "code",
      "metadata": {
        "id": "MQkKF0Ng6Lph"
      },
      "source": [
        "test_label_seq = test_df['Commenting']\n"
      ],
      "execution_count": 198,
      "outputs": []
    },
    {
      "cell_type": "code",
      "metadata": {
        "colab": {
          "base_uri": "https://localhost:8080/"
        },
        "id": "NjXPabGmCP5q",
        "outputId": "6c6b4910-0fee-4a3c-d049-e49b656846e4"
      },
      "source": [
        "model.evaluate(test_padded,test_label_seq)"
      ],
      "execution_count": 199,
      "outputs": [
        {
          "output_type": "stream",
          "text": [
            "54/54 [==============================] - 11s 195ms/step - loss: 0.5764 - accuracy: 0.8001\n"
          ],
          "name": "stdout"
        },
        {
          "output_type": "execute_result",
          "data": {
            "text/plain": [
              "[0.576447606086731, 0.800117552280426]"
            ]
          },
          "metadata": {
            "tags": []
          },
          "execution_count": 199
        }
      ]
    },
    {
      "cell_type": "code",
      "metadata": {
        "id": "p6vXus5oCZn_"
      },
      "source": [
        ""
      ],
      "execution_count": null,
      "outputs": []
    }
  ]
}