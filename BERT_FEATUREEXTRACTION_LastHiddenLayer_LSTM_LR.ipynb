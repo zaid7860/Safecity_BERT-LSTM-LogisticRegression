{
  "nbformat": 4,
  "nbformat_minor": 0,
  "metadata": {
    "colab": {
      "name": "BERT-FEATUREEXTRACTION-LastHiddenLayer-LSTM-LR.ipynb",
      "provenance": [],
      "collapsed_sections": []
    },
    "kernelspec": {
      "name": "python3",
      "display_name": "Python 3"
    },
    "accelerator": "GPU"
  },
  "cells": [
    {
      "cell_type": "code",
      "metadata": {
        "colab": {
          "base_uri": "https://localhost:8080/"
        },
        "id": "ztKzP6MWTQzT",
        "outputId": "c0e2df4d-0d3e-4f1b-aba9-f04aa6d7b17c"
      },
      "source": [
        "pip install transformers"
      ],
      "execution_count": 1,
      "outputs": [
        {
          "output_type": "stream",
          "text": [
            "Collecting transformers\n",
            "\u001b[?25l  Downloading https://files.pythonhosted.org/packages/2c/d8/5144b0712f7f82229a8da5983a8fbb8d30cec5fbd5f8d12ffe1854dcea67/transformers-4.4.1-py3-none-any.whl (2.1MB)\n",
            "\r\u001b[K     |▏                               | 10kB 25.6MB/s eta 0:00:01\r\u001b[K     |▎                               | 20kB 31.9MB/s eta 0:00:01\r\u001b[K     |▌                               | 30kB 21.5MB/s eta 0:00:01\r\u001b[K     |▋                               | 40kB 18.5MB/s eta 0:00:01\r\u001b[K     |▉                               | 51kB 15.2MB/s eta 0:00:01\r\u001b[K     |█                               | 61kB 15.1MB/s eta 0:00:01\r\u001b[K     |█▏                              | 71kB 14.5MB/s eta 0:00:01\r\u001b[K     |█▎                              | 81kB 15.6MB/s eta 0:00:01\r\u001b[K     |█▍                              | 92kB 15.0MB/s eta 0:00:01\r\u001b[K     |█▋                              | 102kB 14.7MB/s eta 0:00:01\r\u001b[K     |█▊                              | 112kB 14.7MB/s eta 0:00:01\r\u001b[K     |██                              | 122kB 14.7MB/s eta 0:00:01\r\u001b[K     |██                              | 133kB 14.7MB/s eta 0:00:01\r\u001b[K     |██▎                             | 143kB 14.7MB/s eta 0:00:01\r\u001b[K     |██▍                             | 153kB 14.7MB/s eta 0:00:01\r\u001b[K     |██▌                             | 163kB 14.7MB/s eta 0:00:01\r\u001b[K     |██▊                             | 174kB 14.7MB/s eta 0:00:01\r\u001b[K     |██▉                             | 184kB 14.7MB/s eta 0:00:01\r\u001b[K     |███                             | 194kB 14.7MB/s eta 0:00:01\r\u001b[K     |███▏                            | 204kB 14.7MB/s eta 0:00:01\r\u001b[K     |███▍                            | 215kB 14.7MB/s eta 0:00:01\r\u001b[K     |███▌                            | 225kB 14.7MB/s eta 0:00:01\r\u001b[K     |███▋                            | 235kB 14.7MB/s eta 0:00:01\r\u001b[K     |███▉                            | 245kB 14.7MB/s eta 0:00:01\r\u001b[K     |████                            | 256kB 14.7MB/s eta 0:00:01\r\u001b[K     |████▏                           | 266kB 14.7MB/s eta 0:00:01\r\u001b[K     |████▎                           | 276kB 14.7MB/s eta 0:00:01\r\u001b[K     |████▌                           | 286kB 14.7MB/s eta 0:00:01\r\u001b[K     |████▋                           | 296kB 14.7MB/s eta 0:00:01\r\u001b[K     |████▊                           | 307kB 14.7MB/s eta 0:00:01\r\u001b[K     |█████                           | 317kB 14.7MB/s eta 0:00:01\r\u001b[K     |█████                           | 327kB 14.7MB/s eta 0:00:01\r\u001b[K     |█████▎                          | 337kB 14.7MB/s eta 0:00:01\r\u001b[K     |█████▍                          | 348kB 14.7MB/s eta 0:00:01\r\u001b[K     |█████▋                          | 358kB 14.7MB/s eta 0:00:01\r\u001b[K     |█████▊                          | 368kB 14.7MB/s eta 0:00:01\r\u001b[K     |██████                          | 378kB 14.7MB/s eta 0:00:01\r\u001b[K     |██████                          | 389kB 14.7MB/s eta 0:00:01\r\u001b[K     |██████▏                         | 399kB 14.7MB/s eta 0:00:01\r\u001b[K     |██████▍                         | 409kB 14.7MB/s eta 0:00:01\r\u001b[K     |██████▌                         | 419kB 14.7MB/s eta 0:00:01\r\u001b[K     |██████▊                         | 430kB 14.7MB/s eta 0:00:01\r\u001b[K     |██████▉                         | 440kB 14.7MB/s eta 0:00:01\r\u001b[K     |███████                         | 450kB 14.7MB/s eta 0:00:01\r\u001b[K     |███████▏                        | 460kB 14.7MB/s eta 0:00:01\r\u001b[K     |███████▎                        | 471kB 14.7MB/s eta 0:00:01\r\u001b[K     |███████▌                        | 481kB 14.7MB/s eta 0:00:01\r\u001b[K     |███████▋                        | 491kB 14.7MB/s eta 0:00:01\r\u001b[K     |███████▉                        | 501kB 14.7MB/s eta 0:00:01\r\u001b[K     |████████                        | 512kB 14.7MB/s eta 0:00:01\r\u001b[K     |████████▏                       | 522kB 14.7MB/s eta 0:00:01\r\u001b[K     |████████▎                       | 532kB 14.7MB/s eta 0:00:01\r\u001b[K     |████████▍                       | 542kB 14.7MB/s eta 0:00:01\r\u001b[K     |████████▋                       | 552kB 14.7MB/s eta 0:00:01\r\u001b[K     |████████▊                       | 563kB 14.7MB/s eta 0:00:01\r\u001b[K     |█████████                       | 573kB 14.7MB/s eta 0:00:01\r\u001b[K     |█████████                       | 583kB 14.7MB/s eta 0:00:01\r\u001b[K     |█████████▎                      | 593kB 14.7MB/s eta 0:00:01\r\u001b[K     |█████████▍                      | 604kB 14.7MB/s eta 0:00:01\r\u001b[K     |█████████▌                      | 614kB 14.7MB/s eta 0:00:01\r\u001b[K     |█████████▊                      | 624kB 14.7MB/s eta 0:00:01\r\u001b[K     |█████████▉                      | 634kB 14.7MB/s eta 0:00:01\r\u001b[K     |██████████                      | 645kB 14.7MB/s eta 0:00:01\r\u001b[K     |██████████▏                     | 655kB 14.7MB/s eta 0:00:01\r\u001b[K     |██████████▍                     | 665kB 14.7MB/s eta 0:00:01\r\u001b[K     |██████████▌                     | 675kB 14.7MB/s eta 0:00:01\r\u001b[K     |██████████▊                     | 686kB 14.7MB/s eta 0:00:01\r\u001b[K     |██████████▉                     | 696kB 14.7MB/s eta 0:00:01\r\u001b[K     |███████████                     | 706kB 14.7MB/s eta 0:00:01\r\u001b[K     |███████████▏                    | 716kB 14.7MB/s eta 0:00:01\r\u001b[K     |███████████▎                    | 727kB 14.7MB/s eta 0:00:01\r\u001b[K     |███████████▌                    | 737kB 14.7MB/s eta 0:00:01\r\u001b[K     |███████████▋                    | 747kB 14.7MB/s eta 0:00:01\r\u001b[K     |███████████▉                    | 757kB 14.7MB/s eta 0:00:01\r\u001b[K     |████████████                    | 768kB 14.7MB/s eta 0:00:01\r\u001b[K     |████████████                    | 778kB 14.7MB/s eta 0:00:01\r\u001b[K     |████████████▎                   | 788kB 14.7MB/s eta 0:00:01\r\u001b[K     |████████████▍                   | 798kB 14.7MB/s eta 0:00:01\r\u001b[K     |████████████▋                   | 808kB 14.7MB/s eta 0:00:01\r\u001b[K     |████████████▊                   | 819kB 14.7MB/s eta 0:00:01\r\u001b[K     |█████████████                   | 829kB 14.7MB/s eta 0:00:01\r\u001b[K     |█████████████                   | 839kB 14.7MB/s eta 0:00:01\r\u001b[K     |█████████████▏                  | 849kB 14.7MB/s eta 0:00:01\r\u001b[K     |█████████████▍                  | 860kB 14.7MB/s eta 0:00:01\r\u001b[K     |█████████████▌                  | 870kB 14.7MB/s eta 0:00:01\r\u001b[K     |█████████████▊                  | 880kB 14.7MB/s eta 0:00:01\r\u001b[K     |█████████████▉                  | 890kB 14.7MB/s eta 0:00:01\r\u001b[K     |██████████████                  | 901kB 14.7MB/s eta 0:00:01\r\u001b[K     |██████████████▏                 | 911kB 14.7MB/s eta 0:00:01\r\u001b[K     |██████████████▎                 | 921kB 14.7MB/s eta 0:00:01\r\u001b[K     |██████████████▌                 | 931kB 14.7MB/s eta 0:00:01\r\u001b[K     |██████████████▋                 | 942kB 14.7MB/s eta 0:00:01\r\u001b[K     |██████████████▉                 | 952kB 14.7MB/s eta 0:00:01\r\u001b[K     |███████████████                 | 962kB 14.7MB/s eta 0:00:01\r\u001b[K     |███████████████▏                | 972kB 14.7MB/s eta 0:00:01\r\u001b[K     |███████████████▎                | 983kB 14.7MB/s eta 0:00:01\r\u001b[K     |███████████████▍                | 993kB 14.7MB/s eta 0:00:01\r\u001b[K     |███████████████▋                | 1.0MB 14.7MB/s eta 0:00:01\r\u001b[K     |███████████████▊                | 1.0MB 14.7MB/s eta 0:00:01\r\u001b[K     |████████████████                | 1.0MB 14.7MB/s eta 0:00:01\r\u001b[K     |████████████████                | 1.0MB 14.7MB/s eta 0:00:01\r\u001b[K     |████████████████▎               | 1.0MB 14.7MB/s eta 0:00:01\r\u001b[K     |████████████████▍               | 1.1MB 14.7MB/s eta 0:00:01\r\u001b[K     |████████████████▋               | 1.1MB 14.7MB/s eta 0:00:01\r\u001b[K     |████████████████▊               | 1.1MB 14.7MB/s eta 0:00:01\r\u001b[K     |████████████████▉               | 1.1MB 14.7MB/s eta 0:00:01\r\u001b[K     |█████████████████               | 1.1MB 14.7MB/s eta 0:00:01\r\u001b[K     |█████████████████▏              | 1.1MB 14.7MB/s eta 0:00:01\r\u001b[K     |█████████████████▍              | 1.1MB 14.7MB/s eta 0:00:01\r\u001b[K     |█████████████████▌              | 1.1MB 14.7MB/s eta 0:00:01\r\u001b[K     |█████████████████▊              | 1.1MB 14.7MB/s eta 0:00:01\r\u001b[K     |█████████████████▉              | 1.1MB 14.7MB/s eta 0:00:01\r\u001b[K     |██████████████████              | 1.2MB 14.7MB/s eta 0:00:01\r\u001b[K     |██████████████████▏             | 1.2MB 14.7MB/s eta 0:00:01\r\u001b[K     |██████████████████▎             | 1.2MB 14.7MB/s eta 0:00:01\r\u001b[K     |██████████████████▌             | 1.2MB 14.7MB/s eta 0:00:01\r\u001b[K     |██████████████████▋             | 1.2MB 14.7MB/s eta 0:00:01\r\u001b[K     |██████████████████▉             | 1.2MB 14.7MB/s eta 0:00:01\r\u001b[K     |███████████████████             | 1.2MB 14.7MB/s eta 0:00:01\r\u001b[K     |███████████████████             | 1.2MB 14.7MB/s eta 0:00:01\r\u001b[K     |███████████████████▎            | 1.2MB 14.7MB/s eta 0:00:01\r\u001b[K     |███████████████████▍            | 1.2MB 14.7MB/s eta 0:00:01\r\u001b[K     |███████████████████▋            | 1.3MB 14.7MB/s eta 0:00:01\r\u001b[K     |███████████████████▊            | 1.3MB 14.7MB/s eta 0:00:01\r\u001b[K     |████████████████████            | 1.3MB 14.7MB/s eta 0:00:01\r\u001b[K     |████████████████████            | 1.3MB 14.7MB/s eta 0:00:01\r\u001b[K     |████████████████████▏           | 1.3MB 14.7MB/s eta 0:00:01\r\u001b[K     |████████████████████▍           | 1.3MB 14.7MB/s eta 0:00:01\r\u001b[K     |████████████████████▌           | 1.3MB 14.7MB/s eta 0:00:01\r\u001b[K     |████████████████████▊           | 1.3MB 14.7MB/s eta 0:00:01\r\u001b[K     |████████████████████▉           | 1.3MB 14.7MB/s eta 0:00:01\r\u001b[K     |█████████████████████           | 1.4MB 14.7MB/s eta 0:00:01\r\u001b[K     |█████████████████████▏          | 1.4MB 14.7MB/s eta 0:00:01\r\u001b[K     |█████████████████████▍          | 1.4MB 14.7MB/s eta 0:00:01\r\u001b[K     |█████████████████████▌          | 1.4MB 14.7MB/s eta 0:00:01\r\u001b[K     |█████████████████████▋          | 1.4MB 14.7MB/s eta 0:00:01\r\u001b[K     |█████████████████████▉          | 1.4MB 14.7MB/s eta 0:00:01\r\u001b[K     |██████████████████████          | 1.4MB 14.7MB/s eta 0:00:01\r\u001b[K     |██████████████████████▏         | 1.4MB 14.7MB/s eta 0:00:01\r\u001b[K     |██████████████████████▎         | 1.4MB 14.7MB/s eta 0:00:01\r\u001b[K     |██████████████████████▌         | 1.4MB 14.7MB/s eta 0:00:01\r\u001b[K     |██████████████████████▋         | 1.5MB 14.7MB/s eta 0:00:01\r\u001b[K     |██████████████████████▊         | 1.5MB 14.7MB/s eta 0:00:01\r\u001b[K     |███████████████████████         | 1.5MB 14.7MB/s eta 0:00:01\r\u001b[K     |███████████████████████         | 1.5MB 14.7MB/s eta 0:00:01\r\u001b[K     |███████████████████████▎        | 1.5MB 14.7MB/s eta 0:00:01\r\u001b[K     |███████████████████████▍        | 1.5MB 14.7MB/s eta 0:00:01\r\u001b[K     |███████████████████████▋        | 1.5MB 14.7MB/s eta 0:00:01\r\u001b[K     |███████████████████████▊        | 1.5MB 14.7MB/s eta 0:00:01\r\u001b[K     |███████████████████████▉        | 1.5MB 14.7MB/s eta 0:00:01\r\u001b[K     |████████████████████████        | 1.5MB 14.7MB/s eta 0:00:01\r\u001b[K     |████████████████████████▏       | 1.6MB 14.7MB/s eta 0:00:01\r\u001b[K     |████████████████████████▍       | 1.6MB 14.7MB/s eta 0:00:01\r\u001b[K     |████████████████████████▌       | 1.6MB 14.7MB/s eta 0:00:01\r\u001b[K     |████████████████████████▊       | 1.6MB 14.7MB/s eta 0:00:01\r\u001b[K     |████████████████████████▉       | 1.6MB 14.7MB/s eta 0:00:01\r\u001b[K     |█████████████████████████       | 1.6MB 14.7MB/s eta 0:00:01\r\u001b[K     |█████████████████████████▏      | 1.6MB 14.7MB/s eta 0:00:01\r\u001b[K     |█████████████████████████▎      | 1.6MB 14.7MB/s eta 0:00:01\r\u001b[K     |█████████████████████████▌      | 1.6MB 14.7MB/s eta 0:00:01\r\u001b[K     |█████████████████████████▋      | 1.6MB 14.7MB/s eta 0:00:01\r\u001b[K     |█████████████████████████▉      | 1.7MB 14.7MB/s eta 0:00:01\r\u001b[K     |██████████████████████████      | 1.7MB 14.7MB/s eta 0:00:01\r\u001b[K     |██████████████████████████      | 1.7MB 14.7MB/s eta 0:00:01\r\u001b[K     |██████████████████████████▎     | 1.7MB 14.7MB/s eta 0:00:01\r\u001b[K     |██████████████████████████▍     | 1.7MB 14.7MB/s eta 0:00:01\r\u001b[K     |██████████████████████████▋     | 1.7MB 14.7MB/s eta 0:00:01\r\u001b[K     |██████████████████████████▊     | 1.7MB 14.7MB/s eta 0:00:01\r\u001b[K     |███████████████████████████     | 1.7MB 14.7MB/s eta 0:00:01\r\u001b[K     |███████████████████████████     | 1.7MB 14.7MB/s eta 0:00:01\r\u001b[K     |███████████████████████████▎    | 1.8MB 14.7MB/s eta 0:00:01\r\u001b[K     |███████████████████████████▍    | 1.8MB 14.7MB/s eta 0:00:01\r\u001b[K     |███████████████████████████▌    | 1.8MB 14.7MB/s eta 0:00:01\r\u001b[K     |███████████████████████████▊    | 1.8MB 14.7MB/s eta 0:00:01\r\u001b[K     |███████████████████████████▉    | 1.8MB 14.7MB/s eta 0:00:01\r\u001b[K     |████████████████████████████    | 1.8MB 14.7MB/s eta 0:00:01\r\u001b[K     |████████████████████████████▏   | 1.8MB 14.7MB/s eta 0:00:01\r\u001b[K     |████████████████████████████▍   | 1.8MB 14.7MB/s eta 0:00:01\r\u001b[K     |████████████████████████████▌   | 1.8MB 14.7MB/s eta 0:00:01\r\u001b[K     |████████████████████████████▋   | 1.8MB 14.7MB/s eta 0:00:01\r\u001b[K     |████████████████████████████▉   | 1.9MB 14.7MB/s eta 0:00:01\r\u001b[K     |█████████████████████████████   | 1.9MB 14.7MB/s eta 0:00:01\r\u001b[K     |█████████████████████████████▏  | 1.9MB 14.7MB/s eta 0:00:01\r\u001b[K     |█████████████████████████████▎  | 1.9MB 14.7MB/s eta 0:00:01\r\u001b[K     |█████████████████████████████▌  | 1.9MB 14.7MB/s eta 0:00:01\r\u001b[K     |█████████████████████████████▋  | 1.9MB 14.7MB/s eta 0:00:01\r\u001b[K     |█████████████████████████████▊  | 1.9MB 14.7MB/s eta 0:00:01\r\u001b[K     |██████████████████████████████  | 1.9MB 14.7MB/s eta 0:00:01\r\u001b[K     |██████████████████████████████  | 1.9MB 14.7MB/s eta 0:00:01\r\u001b[K     |██████████████████████████████▎ | 1.9MB 14.7MB/s eta 0:00:01\r\u001b[K     |██████████████████████████████▍ | 2.0MB 14.7MB/s eta 0:00:01\r\u001b[K     |██████████████████████████████▋ | 2.0MB 14.7MB/s eta 0:00:01\r\u001b[K     |██████████████████████████████▊ | 2.0MB 14.7MB/s eta 0:00:01\r\u001b[K     |██████████████████████████████▉ | 2.0MB 14.7MB/s eta 0:00:01\r\u001b[K     |███████████████████████████████ | 2.0MB 14.7MB/s eta 0:00:01\r\u001b[K     |███████████████████████████████▏| 2.0MB 14.7MB/s eta 0:00:01\r\u001b[K     |███████████████████████████████▍| 2.0MB 14.7MB/s eta 0:00:01\r\u001b[K     |███████████████████████████████▌| 2.0MB 14.7MB/s eta 0:00:01\r\u001b[K     |███████████████████████████████▊| 2.0MB 14.7MB/s eta 0:00:01\r\u001b[K     |███████████████████████████████▉| 2.0MB 14.7MB/s eta 0:00:01\r\u001b[K     |████████████████████████████████| 2.1MB 14.7MB/s \n",
            "\u001b[?25hRequirement already satisfied: requests in /usr/local/lib/python3.7/dist-packages (from transformers) (2.23.0)\n",
            "Collecting tokenizers<0.11,>=0.10.1\n",
            "\u001b[?25l  Downloading https://files.pythonhosted.org/packages/71/23/2ddc317b2121117bf34dd00f5b0de194158f2a44ee2bf5e47c7166878a97/tokenizers-0.10.1-cp37-cp37m-manylinux2010_x86_64.whl (3.2MB)\n",
            "\u001b[K     |████████████████████████████████| 3.2MB 38.2MB/s \n",
            "\u001b[?25hRequirement already satisfied: tqdm>=4.27 in /usr/local/lib/python3.7/dist-packages (from transformers) (4.41.1)\n",
            "Requirement already satisfied: regex!=2019.12.17 in /usr/local/lib/python3.7/dist-packages (from transformers) (2019.12.20)\n",
            "Requirement already satisfied: filelock in /usr/local/lib/python3.7/dist-packages (from transformers) (3.0.12)\n",
            "Requirement already satisfied: packaging in /usr/local/lib/python3.7/dist-packages (from transformers) (20.9)\n",
            "Collecting sacremoses\n",
            "\u001b[?25l  Downloading https://files.pythonhosted.org/packages/7d/34/09d19aff26edcc8eb2a01bed8e98f13a1537005d31e95233fd48216eed10/sacremoses-0.0.43.tar.gz (883kB)\n",
            "\u001b[K     |████████████████████████████████| 890kB 53.8MB/s \n",
            "\u001b[?25hRequirement already satisfied: importlib-metadata; python_version < \"3.8\" in /usr/local/lib/python3.7/dist-packages (from transformers) (3.7.2)\n",
            "Requirement already satisfied: numpy>=1.17 in /usr/local/lib/python3.7/dist-packages (from transformers) (1.19.5)\n",
            "Requirement already satisfied: idna<3,>=2.5 in /usr/local/lib/python3.7/dist-packages (from requests->transformers) (2.10)\n",
            "Requirement already satisfied: certifi>=2017.4.17 in /usr/local/lib/python3.7/dist-packages (from requests->transformers) (2020.12.5)\n",
            "Requirement already satisfied: urllib3!=1.25.0,!=1.25.1,<1.26,>=1.21.1 in /usr/local/lib/python3.7/dist-packages (from requests->transformers) (1.24.3)\n",
            "Requirement already satisfied: chardet<4,>=3.0.2 in /usr/local/lib/python3.7/dist-packages (from requests->transformers) (3.0.4)\n",
            "Requirement already satisfied: pyparsing>=2.0.2 in /usr/local/lib/python3.7/dist-packages (from packaging->transformers) (2.4.7)\n",
            "Requirement already satisfied: six in /usr/local/lib/python3.7/dist-packages (from sacremoses->transformers) (1.15.0)\n",
            "Requirement already satisfied: click in /usr/local/lib/python3.7/dist-packages (from sacremoses->transformers) (7.1.2)\n",
            "Requirement already satisfied: joblib in /usr/local/lib/python3.7/dist-packages (from sacremoses->transformers) (1.0.1)\n",
            "Requirement already satisfied: typing-extensions>=3.6.4; python_version < \"3.8\" in /usr/local/lib/python3.7/dist-packages (from importlib-metadata; python_version < \"3.8\"->transformers) (3.7.4.3)\n",
            "Requirement already satisfied: zipp>=0.5 in /usr/local/lib/python3.7/dist-packages (from importlib-metadata; python_version < \"3.8\"->transformers) (3.4.1)\n",
            "Building wheels for collected packages: sacremoses\n",
            "  Building wheel for sacremoses (setup.py) ... \u001b[?25l\u001b[?25hdone\n",
            "  Created wheel for sacremoses: filename=sacremoses-0.0.43-cp37-none-any.whl size=893262 sha256=8abf928a40351e6963f5e0f1dae5708db6ac81cd02db229191c78751d1c7d1ea\n",
            "  Stored in directory: /root/.cache/pip/wheels/29/3c/fd/7ce5c3f0666dab31a50123635e6fb5e19ceb42ce38d4e58f45\n",
            "Successfully built sacremoses\n",
            "Installing collected packages: tokenizers, sacremoses, transformers\n",
            "Successfully installed sacremoses-0.0.43 tokenizers-0.10.1 transformers-4.4.1\n"
          ],
          "name": "stdout"
        }
      ]
    },
    {
      "cell_type": "markdown",
      "metadata": {
        "id": "u0vd1JzNulmb"
      },
      "source": [
        "# Importing Transformers pipeline"
      ]
    },
    {
      "cell_type": "code",
      "metadata": {
        "id": "-n7wGCvlFZhy"
      },
      "source": [
        "import pandas as pd\n",
        "\n",
        "from transformers import pipeline"
      ],
      "execution_count": 2,
      "outputs": []
    },
    {
      "cell_type": "markdown",
      "metadata": {
        "id": "kkioFnRIurLY"
      },
      "source": [
        "# Loading Date"
      ]
    },
    {
      "cell_type": "code",
      "metadata": {
        "id": "xVmTiPqsFnCx"
      },
      "source": [
        "train_df =  pd.read_csv('/content/drive/MyDrive/data/train 2.csv',names=['Description','Commenting','Staring','Touching'],skiprows=1)\n",
        "test_df=pd.read_csv('/content/drive/MyDrive/data/test 2.csv',names=['Description','Commenting','Staring','Touching'],skiprows=1)\n",
        "\n",
        "dev_df=pd.read_csv('/content/drive/MyDrive/data/dev.csv',names=['Description','Commenting','Staring','Touching'],skiprows=1)"
      ],
      "execution_count": 3,
      "outputs": []
    },
    {
      "cell_type": "code",
      "metadata": {
        "colab": {
          "base_uri": "https://localhost:8080/",
          "height": 419
        },
        "id": "DOgQxubxFqXo",
        "outputId": "24f4e9cd-02e5-487c-c252-bddace992855"
      },
      "source": [
        "train_df"
      ],
      "execution_count": null,
      "outputs": [
        {
          "output_type": "execute_result",
          "data": {
            "text/html": [
              "<div>\n",
              "<style scoped>\n",
              "    .dataframe tbody tr th:only-of-type {\n",
              "        vertical-align: middle;\n",
              "    }\n",
              "\n",
              "    .dataframe tbody tr th {\n",
              "        vertical-align: top;\n",
              "    }\n",
              "\n",
              "    .dataframe thead th {\n",
              "        text-align: right;\n",
              "    }\n",
              "</style>\n",
              "<table border=\"1\" class=\"dataframe\">\n",
              "  <thead>\n",
              "    <tr style=\"text-align: right;\">\n",
              "      <th></th>\n",
              "      <th>Description</th>\n",
              "      <th>Commenting</th>\n",
              "      <th>Staring</th>\n",
              "      <th>Touching</th>\n",
              "    </tr>\n",
              "  </thead>\n",
              "  <tbody>\n",
              "    <tr>\n",
              "      <th>0</th>\n",
              "      <td>Was walking along crowded street, holding mums...</td>\n",
              "      <td>0</td>\n",
              "      <td>0</td>\n",
              "      <td>1</td>\n",
              "    </tr>\n",
              "    <tr>\n",
              "      <th>1</th>\n",
              "      <td>This incident took place in the evening.I was ...</td>\n",
              "      <td>0</td>\n",
              "      <td>1</td>\n",
              "      <td>0</td>\n",
              "    </tr>\n",
              "    <tr>\n",
              "      <th>2</th>\n",
              "      <td>I WAS WAITING FOR THE BUS. A MAN CAME ON A BIK...</td>\n",
              "      <td>1</td>\n",
              "      <td>0</td>\n",
              "      <td>0</td>\n",
              "    </tr>\n",
              "    <tr>\n",
              "      <th>3</th>\n",
              "      <td>Incident happened inside the train</td>\n",
              "      <td>0</td>\n",
              "      <td>0</td>\n",
              "      <td>0</td>\n",
              "    </tr>\n",
              "    <tr>\n",
              "      <th>4</th>\n",
              "      <td>I witnessed an incident when a chain was bruta...</td>\n",
              "      <td>0</td>\n",
              "      <td>0</td>\n",
              "      <td>0</td>\n",
              "    </tr>\n",
              "    <tr>\n",
              "      <th>...</th>\n",
              "      <td>...</td>\n",
              "      <td>...</td>\n",
              "      <td>...</td>\n",
              "      <td>...</td>\n",
              "    </tr>\n",
              "    <tr>\n",
              "      <th>7196</th>\n",
              "      <td>There was this person near a construction site...</td>\n",
              "      <td>0</td>\n",
              "      <td>1</td>\n",
              "      <td>0</td>\n",
              "    </tr>\n",
              "    <tr>\n",
              "      <th>7197</th>\n",
              "      <td>He threatened me by making inappropriate conve...</td>\n",
              "      <td>1</td>\n",
              "      <td>0</td>\n",
              "      <td>0</td>\n",
              "    </tr>\n",
              "    <tr>\n",
              "      <th>7198</th>\n",
              "      <td>happened during morning at university metro st...</td>\n",
              "      <td>1</td>\n",
              "      <td>0</td>\n",
              "      <td>0</td>\n",
              "    </tr>\n",
              "    <tr>\n",
              "      <th>7199</th>\n",
              "      <td>one day my aunt was returniec frm office .. sh...</td>\n",
              "      <td>0</td>\n",
              "      <td>0</td>\n",
              "      <td>0</td>\n",
              "    </tr>\n",
              "    <tr>\n",
              "      <th>7200</th>\n",
              "      <td>was victim of sxual assault RAPE</td>\n",
              "      <td>0</td>\n",
              "      <td>0</td>\n",
              "      <td>0</td>\n",
              "    </tr>\n",
              "  </tbody>\n",
              "</table>\n",
              "<p>7201 rows × 4 columns</p>\n",
              "</div>"
            ],
            "text/plain": [
              "                                            Description  ...  Touching\n",
              "0     Was walking along crowded street, holding mums...  ...         1\n",
              "1     This incident took place in the evening.I was ...  ...         0\n",
              "2     I WAS WAITING FOR THE BUS. A MAN CAME ON A BIK...  ...         0\n",
              "3                    Incident happened inside the train  ...         0\n",
              "4     I witnessed an incident when a chain was bruta...  ...         0\n",
              "...                                                 ...  ...       ...\n",
              "7196  There was this person near a construction site...  ...         0\n",
              "7197  He threatened me by making inappropriate conve...  ...         0\n",
              "7198  happened during morning at university metro st...  ...         0\n",
              "7199  one day my aunt was returniec frm office .. sh...  ...         0\n",
              "7200                   was victim of sxual assault RAPE  ...         0\n",
              "\n",
              "[7201 rows x 4 columns]"
            ]
          },
          "metadata": {
            "tags": []
          },
          "execution_count": 5
        }
      ]
    },
    {
      "cell_type": "code",
      "metadata": {
        "colab": {
          "base_uri": "https://localhost:8080/",
          "height": 54
        },
        "id": "y86WShBwMeFf",
        "outputId": "2690cb23-ca01-4390-d87c-5824e845b06c"
      },
      "source": [
        "train_df['Description'][0]"
      ],
      "execution_count": null,
      "outputs": [
        {
          "output_type": "execute_result",
          "data": {
            "application/vnd.google.colaboratory.intrinsic+json": {
              "type": "string"
            },
            "text/plain": [
              "'Was walking along crowded street, holding mums hand, when an elderly man groped butt, I turned to look at h7m and he looked away, and did it again after a while.I was 12 yrs old then.'"
            ]
          },
          "metadata": {
            "tags": []
          },
          "execution_count": 7
        }
      ]
    },
    {
      "cell_type": "markdown",
      "metadata": {
        "id": "L_F70ehnuuen"
      },
      "source": [
        "# Code to tokenize and extract features from bert  ,\n",
        "##  output we need is only from [CLS] , which exracts the whole sentence and base bert output will be *768dim vec* which we are converting into np.array for ease of operation"
      ]
    },
    {
      "cell_type": "code",
      "metadata": {
        "colab": {
          "base_uri": "https://localhost:8080/"
        },
        "id": "H-3oZo97Ivh7",
        "outputId": "11e08448-4591-44b8-90b7-fe4f37126f46"
      },
      "source": [
        "import numpy as np\n",
        "from transformers import DistilBertTokenizer, TFDistilBertModel\n",
        "import tensorflow as tf\n",
        "\n",
        "\n",
        "import numpy as np\n",
        "tokeniz = DistilBertTokenizer.from_pretrained('distilbert-base-uncased')\n",
        "modelb = TFDistilBertModel.from_pretrained('distilbert-base-uncased',config = bertconfig)\n",
        "bertconfig = DistilBertConfig.from_pretrained('distilbert-base-uncased', output_hidden_states=True)\n",
        "\n",
        "\n",
        "\n",
        "def convertion(string):\n",
        "    inputs = tokeniz(string, return_tensors=\"tf\")\n",
        "    outputs = modelb(inputs)\n",
        "    outputs = np.concatenate((outputs[1][6][0,0,:],outputs[1][5][0,0,:],outputs[1][4][0,0,:],outputs[1][3][0,0,:]),axis=0)\n",
        "\n",
        "    return np.array(outputs)"
      ],
      "execution_count": 141,
      "outputs": [
        {
          "output_type": "stream",
          "text": [
            "Some layers from the model checkpoint at distilbert-base-uncased were not used when initializing TFDistilBertModel: ['vocab_transform', 'vocab_layer_norm', 'vocab_projector', 'activation_13']\n",
            "- This IS expected if you are initializing TFDistilBertModel from the checkpoint of a model trained on another task or with another architecture (e.g. initializing a BertForSequenceClassification model from a BertForPreTraining model).\n",
            "- This IS NOT expected if you are initializing TFDistilBertModel from the checkpoint of a model that you expect to be exactly identical (initializing a BertForSequenceClassification model from a BertForSequenceClassification model).\n",
            "All the layers of TFDistilBertModel were initialized from the model checkpoint at distilbert-base-uncased.\n",
            "If your task is similar to the task the model of the checkpoint was trained on, you can already use TFDistilBertModel for predictions without further training.\n"
          ],
          "name": "stderr"
        }
      ]
    },
    {
      "cell_type": "code",
      "metadata": {
        "colab": {
          "base_uri": "https://localhost:8080/"
        },
        "id": "VHsqtwrVoae-",
        "outputId": "62aa2546-c53a-4899-9339-1c6484b73e18"
      },
      "source": [
        "type(outputs)\n"
      ],
      "execution_count": 58,
      "outputs": [
        {
          "output_type": "execute_result",
          "data": {
            "text/plain": [
              "transformers.modeling_tf_outputs.TFBaseModelOutput"
            ]
          },
          "metadata": {
            "tags": []
          },
          "execution_count": 58
        }
      ]
    },
    {
      "cell_type": "code",
      "metadata": {
        "id": "EVRk5DzDpMgV"
      },
      "source": [
        "inputs = convertion(\"Hello, my dog is cute\")\n",
        "\n"
      ],
      "execution_count": 74,
      "outputs": []
    },
    {
      "cell_type": "code",
      "metadata": {
        "colab": {
          "base_uri": "https://localhost:8080/"
        },
        "id": "7LhOekeN1QjR",
        "outputId": "e8609a5f-dd8a-40b1-d30b-20fc3a52efaf"
      },
      "source": [
        "inputs.shape"
      ],
      "execution_count": 76,
      "outputs": [
        {
          "output_type": "execute_result",
          "data": {
            "text/plain": [
              "(3072,)"
            ]
          },
          "metadata": {
            "tags": []
          },
          "execution_count": 76
        }
      ]
    },
    {
      "cell_type": "markdown",
      "metadata": {
        "id": "7jJ4G9YGvXho"
      },
      "source": [
        "# Loop to iterate in data and saving output vector corresponding to sentence in train_vec"
      ]
    },
    {
      "cell_type": "code",
      "metadata": {
        "colab": {
          "base_uri": "https://localhost:8080/"
        },
        "id": "akbZsUFrJUpe",
        "outputId": "b908cb9d-370d-488a-8d6d-4a46a9cf5aab"
      },
      "source": [
        "from tqdm import tqdm\n",
        "sent =[]\n",
        "train_vec=[]\n",
        "for i in tqdm((train_df['Description'].values)):\n",
        "    text = i[:512]\n",
        "    train_vec.append(convertion(text))\n"
      ],
      "execution_count": 77,
      "outputs": [
        {
          "output_type": "stream",
          "text": [
            "100%|██████████| 7201/7201 [07:22<00:00, 16.28it/s]\n"
          ],
          "name": "stderr"
        }
      ]
    },
    {
      "cell_type": "code",
      "metadata": {
        "colab": {
          "base_uri": "https://localhost:8080/"
        },
        "id": "U-IcVmJvc-mb",
        "outputId": "4ac29529-16a2-4888-8253-ec13d4e1b3c0"
      },
      "source": [
        "train_vec=np.array(train_vec)\n",
        "\n",
        "train_vec.shape"
      ],
      "execution_count": 78,
      "outputs": [
        {
          "output_type": "execute_result",
          "data": {
            "text/plain": [
              "(7201, 3072)"
            ]
          },
          "metadata": {
            "tags": []
          },
          "execution_count": 78
        }
      ]
    },
    {
      "cell_type": "markdown",
      "metadata": {
        "id": "0NWpy2TSvjsB"
      },
      "source": [
        "## Same for DEV data"
      ]
    },
    {
      "cell_type": "code",
      "metadata": {
        "colab": {
          "base_uri": "https://localhost:8080/"
        },
        "id": "RF08G6zmPSMV",
        "outputId": "37d44a9a-c52f-423d-843c-77addbd11c09"
      },
      "source": [
        "from tqdm import tqdm\n",
        "\n",
        "test_vec=[]\n",
        "for i in tqdm(dev_df['Description']):\n",
        "    text = i[:512]\n",
        "    test_vec.append(convertion(text))"
      ],
      "execution_count": 79,
      "outputs": [
        {
          "output_type": "stream",
          "text": [
            "100%|██████████| 990/990 [01:01<00:00, 16.07it/s]\n"
          ],
          "name": "stderr"
        }
      ]
    },
    {
      "cell_type": "code",
      "metadata": {
        "colab": {
          "base_uri": "https://localhost:8080/"
        },
        "id": "uZM_8v_gPZqk",
        "outputId": "cb6627f2-a7f4-4c37-a5aa-63132e2e5ea0"
      },
      "source": [
        "test_vec=np.array(test_vec)\n",
        "\n",
        "test_vec.shape"
      ],
      "execution_count": 80,
      "outputs": [
        {
          "output_type": "execute_result",
          "data": {
            "text/plain": [
              "(990, 3072)"
            ]
          },
          "metadata": {
            "tags": []
          },
          "execution_count": 80
        }
      ]
    },
    {
      "cell_type": "markdown",
      "metadata": {
        "id": "aGjPsZDlEwmf"
      },
      "source": [
        "# Preparing data for evaluation of model"
      ]
    },
    {
      "cell_type": "code",
      "metadata": {
        "colab": {
          "base_uri": "https://localhost:8080/"
        },
        "id": "10bhPHVxEwDr",
        "outputId": "a08770cd-c871-4f76-8cbf-92f2192a17ae"
      },
      "source": [
        "eval_vec=[]\n",
        "for i in tqdm(test_df['Description']):\n",
        "    text = i[:512]\n",
        "    eval_vec.append(convertion(text))"
      ],
      "execution_count": 81,
      "outputs": [
        {
          "output_type": "stream",
          "text": [
            "100%|██████████| 1701/1701 [01:44<00:00, 16.34it/s]\n"
          ],
          "name": "stderr"
        }
      ]
    },
    {
      "cell_type": "code",
      "metadata": {
        "colab": {
          "base_uri": "https://localhost:8080/"
        },
        "id": "XcOJpj92Evnr",
        "outputId": "779d22c8-9553-4d1b-b368-bc4f8b44c9e3"
      },
      "source": [
        "eval_vec=np.array(eval_vec)\n",
        "\n",
        "eval_vec.shape"
      ],
      "execution_count": 82,
      "outputs": [
        {
          "output_type": "execute_result",
          "data": {
            "text/plain": [
              "(1701, 3072)"
            ]
          },
          "metadata": {
            "tags": []
          },
          "execution_count": 82
        }
      ]
    },
    {
      "cell_type": "markdown",
      "metadata": {
        "id": "Zl8rOqLLvnpp"
      },
      "source": [
        "# Logestic Regression "
      ]
    },
    {
      "cell_type": "code",
      "metadata": {
        "id": "9uNXFD2tYbw9"
      },
      "source": [
        "from sklearn.linear_model import LogisticRegression\n"
      ],
      "execution_count": 83,
      "outputs": []
    },
    {
      "cell_type": "code",
      "metadata": {
        "id": "x9o0HcjAnsZj"
      },
      "source": [
        "\n",
        "y_train=train_df['Commenting']\n",
        "\n",
        "\n",
        "y_test=dev_df['Commenting']\n",
        "\n",
        "y_eval=test_df['Commenting']"
      ],
      "execution_count": 84,
      "outputs": []
    },
    {
      "cell_type": "code",
      "metadata": {
        "colab": {
          "base_uri": "https://localhost:8080/"
        },
        "id": "RM7Z0bflraN2",
        "outputId": "1a7f6828-9430-4eff-d75a-e4595fdf4d53"
      },
      "source": [
        "y_test.shape"
      ],
      "execution_count": 85,
      "outputs": [
        {
          "output_type": "execute_result",
          "data": {
            "text/plain": [
              "(990,)"
            ]
          },
          "metadata": {
            "tags": []
          },
          "execution_count": 85
        }
      ]
    },
    {
      "cell_type": "code",
      "metadata": {
        "id": "d_SCCPGFo5Ax"
      },
      "source": [
        "features=train_vec"
      ],
      "execution_count": 86,
      "outputs": []
    },
    {
      "cell_type": "code",
      "metadata": {
        "colab": {
          "base_uri": "https://localhost:8080/"
        },
        "id": "lPaA8PXWbopx",
        "outputId": "fab2a3f6-06aa-4586-8cdf-1409f60df569"
      },
      "source": [
        "lr_clf = LogisticRegression()\n",
        "lr_clf.fit(features, y_train)"
      ],
      "execution_count": 87,
      "outputs": [
        {
          "output_type": "stream",
          "text": [
            "/usr/local/lib/python3.7/dist-packages/sklearn/linear_model/_logistic.py:940: ConvergenceWarning: lbfgs failed to converge (status=1):\n",
            "STOP: TOTAL NO. of ITERATIONS REACHED LIMIT.\n",
            "\n",
            "Increase the number of iterations (max_iter) or scale the data as shown in:\n",
            "    https://scikit-learn.org/stable/modules/preprocessing.html\n",
            "Please also refer to the documentation for alternative solver options:\n",
            "    https://scikit-learn.org/stable/modules/linear_model.html#logistic-regression\n",
            "  extra_warning_msg=_LOGISTIC_SOLVER_CONVERGENCE_MSG)\n"
          ],
          "name": "stderr"
        },
        {
          "output_type": "execute_result",
          "data": {
            "text/plain": [
              "LogisticRegression(C=1.0, class_weight=None, dual=False, fit_intercept=True,\n",
              "                   intercept_scaling=1, l1_ratio=None, max_iter=100,\n",
              "                   multi_class='auto', n_jobs=None, penalty='l2',\n",
              "                   random_state=None, solver='lbfgs', tol=0.0001, verbose=0,\n",
              "                   warm_start=False)"
            ]
          },
          "metadata": {
            "tags": []
          },
          "execution_count": 87
        }
      ]
    },
    {
      "cell_type": "code",
      "metadata": {
        "colab": {
          "base_uri": "https://localhost:8080/"
        },
        "id": "8iparZlWbqbX",
        "outputId": "bef61f26-0785-48c3-d073-4a7685ce0b30"
      },
      "source": [
        "y_pred0 = lr_clf.predict(test_vec)\n",
        "print('Accuracy of logistic regression classifier on test set: {:.2f}'.format(lr_clf.score(test_vec,y_test )))"
      ],
      "execution_count": 88,
      "outputs": [
        {
          "output_type": "stream",
          "text": [
            "Accuracy of logistic regression classifier on test set: 0.78\n"
          ],
          "name": "stdout"
        }
      ]
    },
    {
      "cell_type": "code",
      "metadata": {
        "colab": {
          "base_uri": "https://localhost:8080/"
        },
        "id": "ZO8aWzBRipHp",
        "outputId": "6beb88f4-a7e7-45ce-80cd-458ece4c018c"
      },
      "source": [
        "from sklearn.metrics import accuracy_score\n",
        "accuracy_score(y_test, y_pred0)"
      ],
      "execution_count": 89,
      "outputs": [
        {
          "output_type": "execute_result",
          "data": {
            "text/plain": [
              "0.7838383838383839"
            ]
          },
          "metadata": {
            "tags": []
          },
          "execution_count": 89
        }
      ]
    },
    {
      "cell_type": "code",
      "metadata": {
        "colab": {
          "base_uri": "https://localhost:8080/",
          "height": 286
        },
        "id": "a49yMcvHiDoh",
        "outputId": "fad01da5-4b14-4f52-a2cd-d4b20b4c49b3"
      },
      "source": [
        "from sklearn.metrics import confusion_matrix\n",
        "from seaborn import heatmap\n",
        "cm=confusion_matrix = confusion_matrix(y_test, y_pred0)\n",
        "\n",
        "print(heatmap(cm,annot=True))\n"
      ],
      "execution_count": 90,
      "outputs": [
        {
          "output_type": "stream",
          "text": [
            "AxesSubplot(0.125,0.125;0.62x0.755)\n"
          ],
          "name": "stdout"
        },
        {
          "output_type": "display_data",
          "data": {
            "image/png": "[encoded data removed]",
            "text/plain": [
              "<Figure size 432x288 with 2 Axes>"
            ]
          },
          "metadata": {
            "tags": [],
            "needs_background": "light"
          }
        }
      ]
    },
    {
      "cell_type": "code",
      "metadata": {
        "colab": {
          "base_uri": "https://localhost:8080/"
        },
        "id": "psmTMaeIGH2X",
        "outputId": "ca03f8d9-aeeb-4b81-8911-da2c2fb08a54"
      },
      "source": [
        "lr_clf.score(eval_vec,y_eval)"
      ],
      "execution_count": 91,
      "outputs": [
        {
          "output_type": "execute_result",
          "data": {
            "text/plain": [
              "0.7901234567901234"
            ]
          },
          "metadata": {
            "tags": []
          },
          "execution_count": 91
        }
      ]
    },
    {
      "cell_type": "markdown",
      "metadata": {
        "id": "yYzTp6KRoFFk"
      },
      "source": [
        "# How Good is this model as compared to that of Random Model"
      ]
    },
    {
      "cell_type": "code",
      "metadata": {
        "colab": {
          "base_uri": "https://localhost:8080/"
        },
        "id": "Ej5Rv2VCGcYf",
        "outputId": "dc9f5f02-024d-4eb4-ec58-1ca4bfb873c8"
      },
      "source": [
        "from sklearn.dummy import DummyClassifier\n",
        "from sklearn.model_selection import cross_val_score\n",
        "\n",
        "clf = DummyClassifier()\n",
        "\n",
        "scores = cross_val_score(clf, eval_vec, y_eval)\n",
        "print(\"Dummy classifier score: %0.3f (+/- %0.2f)\" % (scores.mean(), scores.std() * 2))"
      ],
      "execution_count": 92,
      "outputs": [
        {
          "output_type": "stream",
          "text": [
            "Dummy classifier score: 0.538 (+/- 0.06)\n"
          ],
          "name": "stdout"
        },
        {
          "output_type": "stream",
          "text": [
            "/usr/local/lib/python3.7/dist-packages/sklearn/dummy.py:132: FutureWarning: The default value of strategy will change from stratified to prior in 0.24.\n",
            "  \"stratified to prior in 0.24.\", FutureWarning)\n"
          ],
          "name": "stderr"
        }
      ]
    },
    {
      "cell_type": "markdown",
      "metadata": {
        "id": "nEp3S3euXH8z"
      },
      "source": [
        "# **Lets Try SVM for the same task.**\n",
        "\n",
        "\n",
        "\n"
      ]
    },
    {
      "cell_type": "code",
      "metadata": {
        "id": "ir7UB3nDXEWb"
      },
      "source": [
        "from sklearn import svm\n"
      ],
      "execution_count": 93,
      "outputs": []
    },
    {
      "cell_type": "code",
      "metadata": {
        "colab": {
          "base_uri": "https://localhost:8080/"
        },
        "id": "evjVE0cvXmd0",
        "outputId": "5c92eb57-ea14-433c-d39f-98035c2a8002"
      },
      "source": [
        "clf = svm.SVC()\n",
        "clf.fit(features, y_train)\n"
      ],
      "execution_count": 94,
      "outputs": [
        {
          "output_type": "execute_result",
          "data": {
            "text/plain": [
              "SVC(C=1.0, break_ties=False, cache_size=200, class_weight=None, coef0=0.0,\n",
              "    decision_function_shape='ovr', degree=3, gamma='scale', kernel='rbf',\n",
              "    max_iter=-1, probability=False, random_state=None, shrinking=True,\n",
              "    tol=0.001, verbose=False)"
            ]
          },
          "metadata": {
            "tags": []
          },
          "execution_count": 94
        }
      ]
    },
    {
      "cell_type": "code",
      "metadata": {
        "colab": {
          "base_uri": "https://localhost:8080/"
        },
        "id": "P43JuLY5XwZL",
        "outputId": "b5525b85-41db-45e0-8ab3-44c7b33b41d8"
      },
      "source": [
        "y_pred1 = clf.predict(test_vec)\n",
        "accuracy_score(y_test, y_pred1)"
      ],
      "execution_count": 95,
      "outputs": [
        {
          "output_type": "execute_result",
          "data": {
            "text/plain": [
              "0.7676767676767676"
            ]
          },
          "metadata": {
            "tags": []
          },
          "execution_count": 95
        }
      ]
    },
    {
      "cell_type": "code",
      "metadata": {
        "colab": {
          "base_uri": "https://localhost:8080/",
          "height": 282
        },
        "id": "y2Hc4fdCkgwG",
        "outputId": "1c079a74-3f7b-46dd-b861-a28e9b6afc6c"
      },
      "source": [
        "from sklearn.metrics import confusion_matrix\n",
        "cm=confusion_matrix = confusion_matrix(y_test, y_pred1)\n",
        "\n",
        "print(heatmap(cm,annot=True))"
      ],
      "execution_count": 96,
      "outputs": [
        {
          "output_type": "stream",
          "text": [
            "AxesSubplot(0.125,0.125;0.62x0.755)\n"
          ],
          "name": "stdout"
        },
        {
          "output_type": "display_data",
          "data": {
            "image/png": "[encoded data removed]",
            "text/plain": [
              "<Figure size 432x288 with 2 Axes>"
            ]
          },
          "metadata": {
            "tags": [],
            "needs_background": "light"
          }
        }
      ]
    },
    {
      "cell_type": "code",
      "metadata": {
        "colab": {
          "base_uri": "https://localhost:8080/"
        },
        "id": "5LKUMo5yHPJT",
        "outputId": "8c62552e-187a-4963-c38d-66cf9ca22881"
      },
      "source": [
        "clf.score(eval_vec,y_eval)"
      ],
      "execution_count": 97,
      "outputs": [
        {
          "output_type": "execute_result",
          "data": {
            "text/plain": [
              "0.781305114638448"
            ]
          },
          "metadata": {
            "tags": []
          },
          "execution_count": 97
        }
      ]
    },
    {
      "cell_type": "markdown",
      "metadata": {
        "id": "kT8fvEaKv1nI"
      },
      "source": [
        "# XGBOOST"
      ]
    },
    {
      "cell_type": "code",
      "metadata": {
        "id": "rpd8WWXUZLe1"
      },
      "source": [
        "from xgboost import XGBClassifier\n"
      ],
      "execution_count": 98,
      "outputs": []
    },
    {
      "cell_type": "code",
      "metadata": {
        "colab": {
          "base_uri": "https://localhost:8080/"
        },
        "id": "lZmr5A6_Zojj",
        "outputId": "cb8dccf9-575c-4aeb-bf2d-4dc24d0498c5"
      },
      "source": [
        "\n",
        "# fit model  training data\n",
        "xgb = XGBClassifier()\n",
        "xgb.fit(features, y_train)"
      ],
      "execution_count": 99,
      "outputs": [
        {
          "output_type": "execute_result",
          "data": {
            "text/plain": [
              "XGBClassifier(base_score=0.5, booster='gbtree', colsample_bylevel=1,\n",
              "              colsample_bynode=1, colsample_bytree=1, gamma=0,\n",
              "              learning_rate=0.1, max_delta_step=0, max_depth=3,\n",
              "              min_child_weight=1, missing=None, n_estimators=100, n_jobs=1,\n",
              "              nthread=None, objective='binary:logistic', random_state=0,\n",
              "              reg_alpha=0, reg_lambda=1, scale_pos_weight=1, seed=None,\n",
              "              silent=None, subsample=1, verbosity=1)"
            ]
          },
          "metadata": {
            "tags": []
          },
          "execution_count": 99
        }
      ]
    },
    {
      "cell_type": "code",
      "metadata": {
        "colab": {
          "base_uri": "https://localhost:8080/"
        },
        "id": "YPi8mJy7aWzy",
        "outputId": "f5a5872f-7c84-48f5-868c-638d0cda545f"
      },
      "source": [
        "\n",
        "# make predictions for test data\n",
        "y_pred2 = xgb.predict(test_vec)\n",
        "accuracy_score(y_test, y_pred2)"
      ],
      "execution_count": 100,
      "outputs": [
        {
          "output_type": "execute_result",
          "data": {
            "text/plain": [
              "0.7585858585858586"
            ]
          },
          "metadata": {
            "tags": []
          },
          "execution_count": 100
        }
      ]
    },
    {
      "cell_type": "code",
      "metadata": {
        "colab": {
          "base_uri": "https://localhost:8080/"
        },
        "id": "kkM4Z1osHiJg",
        "outputId": "81f70697-5153-4364-b772-fbe9a4799a9a"
      },
      "source": [
        "xgb.score(eval_vec,y_eval\n",
        "          )"
      ],
      "execution_count": 101,
      "outputs": [
        {
          "output_type": "execute_result",
          "data": {
            "text/plain": [
              "0.7795414462081128"
            ]
          },
          "metadata": {
            "tags": []
          },
          "execution_count": 101
        }
      ]
    },
    {
      "cell_type": "markdown",
      "metadata": {
        "id": "cbs27MSmv7JH"
      },
      "source": [
        "# Much waited --- *DEEP LEARNING*\n",
        "\n",
        "\n"
      ]
    },
    {
      "cell_type": "code",
      "metadata": {
        "id": "GWMDpToZacJ6",
        "colab": {
          "base_uri": "https://localhost:8080/"
        },
        "outputId": "e246a75c-2d9e-47f8-faf8-f60d3d4322cc"
      },
      "source": [
        "import tensorflow as tf\n",
        "from tensorflow.keras.layers import Bidirectional,LSTM,Flatten,GlobalAveragePooling1D,Embedding\n",
        "from tensorflow.keras.regularizers import L2\n",
        "from keras.layers import TimeDistributed\n",
        "\n",
        "\n",
        "model1 = tf.keras.Sequential([\n",
        "    Bidirectional(LSTM(512,input_shape=(None,None,3072),return_sequences=True)),\n",
        "    Bidirectional( LSTM(256,recurrent_dropout=0.6,return_sequences=True,)),\n",
        "    LSTM(64),\n",
        "\n",
        "    Flatten(),\n",
        "    tf.keras.layers.Dense(1024, activation='relu',kernel_regularizer=L2(0.0001),kernel_initializer='glorot_uniform'),\n",
        "\n",
        "    tf.keras.layers.Dense(512, activation='relu',kernel_regularizer=L2(0.0001),kernel_initializer='glorot_uniform'),\n",
        "    tf.keras.layers.Dropout(0.5),\n",
        "    tf.keras.layers.Dense(128, activation='relu',kernel_regularizer=L2(0.0001),kernel_initializer='glorot_uniform'),\n",
        "    tf.keras.layers.Dropout(0.3),\n",
        "    tf.keras.layers.Dense(32, activation='relu',kernel_regularizer=L2(0.0001),kernel_initializer='glorot_uniform'),\n",
        "    tf.keras.layers.Dropout(0.5),\n",
        "    tf.keras.layers.Dense(16, activation='relu',kernel_regularizer=L2(0.001),kernel_initializer='glorot_uniform'),\n",
        "    tf.keras.layers.Dense(1, activation='sigmoid',kernel_regularizer=L2(0.0001),kernel_initializer='glorot_uniform')\n",
        "])\n",
        "\n",
        "#model1.summary()\n"
      ],
      "execution_count": 183,
      "outputs": [
        {
          "output_type": "stream",
          "text": [
            "WARNING:tensorflow:Layer lstm_24 will not use cuDNN kernel since it doesn't meet the cuDNN kernel criteria. It will use generic GPU kernel as fallback when running on GPU\n",
            "WARNING:tensorflow:Layer lstm_24 will not use cuDNN kernel since it doesn't meet the cuDNN kernel criteria. It will use generic GPU kernel as fallback when running on GPU\n",
            "WARNING:tensorflow:Layer lstm_24 will not use cuDNN kernel since it doesn't meet the cuDNN kernel criteria. It will use generic GPU kernel as fallback when running on GPU\n"
          ],
          "name": "stdout"
        }
      ]
    },
    {
      "cell_type": "code",
      "metadata": {
        "id": "Oz2LrI7-lSsc"
      },
      "source": [
        "model1.compile(optimizer='adam',\n",
        "              loss= 'binary_crossentropy',\n",
        "              metrics=['accuracy'])\n",
        "\n"
      ],
      "execution_count": 184,
      "outputs": []
    },
    {
      "cell_type": "markdown",
      "metadata": {
        "id": "S4i2q5wDmETt"
      },
      "source": [
        "**Our TrainX and Train is in shape(7201,768) and (1701,768) \n",
        "but LSTM accepts 3D tensor SO lets convert....**"
      ]
    },
    {
      "cell_type": "code",
      "metadata": {
        "colab": {
          "base_uri": "https://localhost:8080/"
        },
        "id": "QnIJXYy5mDuJ",
        "outputId": "0e33b616-e3cc-4d3f-cc2f-0e1c1c8bda76"
      },
      "source": [
        "#print(train_vec.shape)\n",
        "train_vec1 = train_vec.reshape(7201 ,1,3072)\n",
        "print(train_vec1.shape)\n",
        "\n",
        "test_vec1 = test_vec.reshape(990,1,3072)\n",
        "print(test_vec1.shape)\n",
        "\n",
        "\n"
      ],
      "execution_count": 121,
      "outputs": [
        {
          "output_type": "stream",
          "text": [
            "(7201, 1, 3072)\n",
            "(990, 1, 3072)\n"
          ],
          "name": "stdout"
        }
      ]
    },
    {
      "cell_type": "code",
      "metadata": {
        "id": "mAcHTZtywbCo"
      },
      "source": [
        "my_callbacks = [\n",
        "    tf.keras.callbacks.EarlyStopping(patience=10)\n",
        "]"
      ],
      "execution_count": 185,
      "outputs": []
    },
    {
      "cell_type": "code",
      "metadata": {
        "colab": {
          "base_uri": "https://localhost:8080/"
        },
        "id": "wotIZ0GQl7W7",
        "outputId": "32290db8-447d-43ef-bffa-9f5674b3e781"
      },
      "source": [
        "history1=model1.fit(train_vec1, y_train, epochs=500,batch_size=32,validation_data=(test_vec1\n",
        "                                                                                  ,  y_test),steps_per_epoch=100,validation_steps=30\n",
        "                    ,callbacks=my_callbacks)"
      ],
      "execution_count": 186,
      "outputs": [
        {
          "output_type": "stream",
          "text": [
            "Epoch 1/500\n",
            "100/100 [==============================] - 12s 41ms/step - loss: 0.7691 - accuracy: 0.5629 - val_loss: 0.7009 - val_accuracy: 0.5865\n",
            "Epoch 2/500\n",
            "100/100 [==============================] - 2s 24ms/step - loss: 0.6784 - accuracy: 0.6003 - val_loss: 0.6185 - val_accuracy: 0.7115\n",
            "Epoch 3/500\n",
            "100/100 [==============================] - 2s 24ms/step - loss: 0.6455 - accuracy: 0.6469 - val_loss: 0.5828 - val_accuracy: 0.7333\n",
            "Epoch 4/500\n",
            "100/100 [==============================] - 2s 24ms/step - loss: 0.5977 - accuracy: 0.7262 - val_loss: 0.5689 - val_accuracy: 0.7458\n",
            "Epoch 5/500\n",
            "100/100 [==============================] - 2s 24ms/step - loss: 0.5905 - accuracy: 0.7231 - val_loss: 0.5426 - val_accuracy: 0.7552\n",
            "Epoch 6/500\n",
            "100/100 [==============================] - 2s 24ms/step - loss: 0.5503 - accuracy: 0.7605 - val_loss: 0.5571 - val_accuracy: 0.7385\n",
            "Epoch 7/500\n",
            "100/100 [==============================] - 2s 24ms/step - loss: 0.5643 - accuracy: 0.7331 - val_loss: 0.5308 - val_accuracy: 0.7604\n",
            "Epoch 8/500\n",
            "100/100 [==============================] - 2s 24ms/step - loss: 0.5405 - accuracy: 0.7676 - val_loss: 0.5554 - val_accuracy: 0.7646\n",
            "Epoch 9/500\n",
            "100/100 [==============================] - 2s 24ms/step - loss: 0.5317 - accuracy: 0.7549 - val_loss: 0.5078 - val_accuracy: 0.7667\n",
            "Epoch 10/500\n",
            "100/100 [==============================] - 2s 25ms/step - loss: 0.6024 - accuracy: 0.7139 - val_loss: 0.5431 - val_accuracy: 0.7719\n",
            "Epoch 11/500\n",
            "100/100 [==============================] - 2s 24ms/step - loss: 0.5312 - accuracy: 0.7701 - val_loss: 0.5292 - val_accuracy: 0.7552\n",
            "Epoch 12/500\n",
            "100/100 [==============================] - 2s 24ms/step - loss: 0.5709 - accuracy: 0.7249 - val_loss: 0.5512 - val_accuracy: 0.7083\n",
            "Epoch 13/500\n",
            "100/100 [==============================] - 2s 24ms/step - loss: 0.5277 - accuracy: 0.7662 - val_loss: 0.5100 - val_accuracy: 0.7646\n",
            "Epoch 14/500\n",
            "100/100 [==============================] - 2s 24ms/step - loss: 0.5151 - accuracy: 0.7712 - val_loss: 0.5351 - val_accuracy: 0.7104\n",
            "Epoch 15/500\n",
            "100/100 [==============================] - 2s 24ms/step - loss: 0.5406 - accuracy: 0.7548 - val_loss: 0.4994 - val_accuracy: 0.7656\n",
            "Epoch 16/500\n",
            "100/100 [==============================] - 2s 24ms/step - loss: 0.5169 - accuracy: 0.7626 - val_loss: 0.5084 - val_accuracy: 0.7802\n",
            "Epoch 17/500\n",
            "100/100 [==============================] - 2s 24ms/step - loss: 0.5035 - accuracy: 0.7797 - val_loss: 0.5455 - val_accuracy: 0.7625\n",
            "Epoch 18/500\n",
            "100/100 [==============================] - 2s 23ms/step - loss: 0.5026 - accuracy: 0.7758 - val_loss: 0.5088 - val_accuracy: 0.7781\n",
            "Epoch 19/500\n",
            "100/100 [==============================] - 2s 24ms/step - loss: 0.4964 - accuracy: 0.7765 - val_loss: 0.5312 - val_accuracy: 0.7677\n",
            "Epoch 20/500\n",
            "100/100 [==============================] - 2s 23ms/step - loss: 0.5088 - accuracy: 0.7776 - val_loss: 0.5129 - val_accuracy: 0.7688\n",
            "Epoch 21/500\n",
            "100/100 [==============================] - 2s 23ms/step - loss: 0.5014 - accuracy: 0.7754 - val_loss: 0.5247 - val_accuracy: 0.7260\n",
            "Epoch 22/500\n",
            "100/100 [==============================] - 2s 25ms/step - loss: 0.4938 - accuracy: 0.7872 - val_loss: 0.4879 - val_accuracy: 0.7729\n",
            "Epoch 23/500\n",
            "100/100 [==============================] - 2s 24ms/step - loss: 0.4732 - accuracy: 0.7886 - val_loss: 0.5134 - val_accuracy: 0.7312\n",
            "Epoch 24/500\n",
            "100/100 [==============================] - 2s 23ms/step - loss: 0.4748 - accuracy: 0.7935 - val_loss: 0.4949 - val_accuracy: 0.7875\n",
            "Epoch 25/500\n",
            "100/100 [==============================] - 2s 23ms/step - loss: 0.4880 - accuracy: 0.7904 - val_loss: 0.4850 - val_accuracy: 0.7844\n",
            "Epoch 26/500\n",
            "100/100 [==============================] - 2s 24ms/step - loss: 0.4860 - accuracy: 0.7968 - val_loss: 0.5108 - val_accuracy: 0.7823\n",
            "Epoch 27/500\n",
            "100/100 [==============================] - 2s 24ms/step - loss: 0.4858 - accuracy: 0.7821 - val_loss: 0.5181 - val_accuracy: 0.7823\n",
            "Epoch 28/500\n",
            "100/100 [==============================] - 2s 24ms/step - loss: 0.4641 - accuracy: 0.8083 - val_loss: 0.5058 - val_accuracy: 0.7594\n",
            "Epoch 29/500\n",
            "100/100 [==============================] - 2s 24ms/step - loss: 0.4504 - accuracy: 0.8121 - val_loss: 0.4837 - val_accuracy: 0.7698\n",
            "Epoch 30/500\n",
            "100/100 [==============================] - 2s 24ms/step - loss: 0.4567 - accuracy: 0.8036 - val_loss: 0.4876 - val_accuracy: 0.7740\n",
            "Epoch 31/500\n",
            "100/100 [==============================] - 2s 24ms/step - loss: 0.4794 - accuracy: 0.7946 - val_loss: 0.5898 - val_accuracy: 0.7406\n",
            "Epoch 32/500\n",
            "100/100 [==============================] - 2s 24ms/step - loss: 0.4660 - accuracy: 0.7932 - val_loss: 0.5175 - val_accuracy: 0.7844\n",
            "Epoch 33/500\n",
            "100/100 [==============================] - 2s 24ms/step - loss: 0.4733 - accuracy: 0.7911 - val_loss: 0.4851 - val_accuracy: 0.7854\n",
            "Epoch 34/500\n",
            "100/100 [==============================] - 2s 24ms/step - loss: 0.4467 - accuracy: 0.8108 - val_loss: 0.5638 - val_accuracy: 0.7573\n",
            "Epoch 35/500\n",
            "100/100 [==============================] - 2s 24ms/step - loss: 0.4382 - accuracy: 0.8088 - val_loss: 0.5118 - val_accuracy: 0.7771\n",
            "Epoch 36/500\n",
            "100/100 [==============================] - 2s 23ms/step - loss: 0.4350 - accuracy: 0.8172 - val_loss: 0.5326 - val_accuracy: 0.7646\n",
            "Epoch 37/500\n",
            "100/100 [==============================] - 2s 24ms/step - loss: 0.4494 - accuracy: 0.8086 - val_loss: 0.5180 - val_accuracy: 0.7740\n",
            "Epoch 38/500\n",
            "100/100 [==============================] - 2s 23ms/step - loss: 0.4666 - accuracy: 0.7812 - val_loss: 0.4881 - val_accuracy: 0.7750\n",
            "Epoch 39/500\n",
            "100/100 [==============================] - 2s 24ms/step - loss: 0.4454 - accuracy: 0.8049 - val_loss: 0.4916 - val_accuracy: 0.7875\n"
          ],
          "name": "stdout"
        }
      ]
    },
    {
      "cell_type": "code",
      "metadata": {
        "colab": {
          "base_uri": "https://localhost:8080/"
        },
        "id": "3N2UBGt3NUeg",
        "outputId": "9c0a3b26-b363-43be-e40d-e499d25bbb70"
      },
      "source": [
        "eval_vec=eval_vec.reshape(1701,1,3072)\n",
        "model1.evaluate(eval_vec,y_eval)\n",
        "\n"
      ],
      "execution_count": 187,
      "outputs": [
        {
          "output_type": "stream",
          "text": [
            "54/54 [==============================] - 0s 6ms/step - loss: 0.4790 - accuracy: 0.7872\n"
          ],
          "name": "stdout"
        },
        {
          "output_type": "execute_result",
          "data": {
            "text/plain": [
              "[0.47903501987457275, 0.7871840000152588]"
            ]
          },
          "metadata": {
            "tags": []
          },
          "execution_count": 187
        }
      ]
    },
    {
      "cell_type": "code",
      "metadata": {
        "id": "3hZCHtDC0j4z"
      },
      "source": [
        "\n",
        "import matplotlib.pyplot  as plt\n",
        "def plot_graphs(history, string):\n",
        "  plt.plot(history.history[string])\n",
        "  plt.plot(history.history['val_'+string])\n",
        "  plt.xlabel(\"Epochs\")\n",
        "  plt.ylabel(string)\n",
        "  plt.legend([string, 'val_'+string])\n",
        "  plt.show()\n"
      ],
      "execution_count": 110,
      "outputs": []
    },
    {
      "cell_type": "code",
      "metadata": {
        "colab": {
          "base_uri": "https://localhost:8080/",
          "height": 279
        },
        "id": "_WkxO_Fa3Ppb",
        "outputId": "48bba59f-ca29-4d24-c0c3-85cdc83ada60"
      },
      "source": [
        "plot_graphs(history1, \"accuracy\")\n"
      ],
      "execution_count": 188,
      "outputs": [
        {
          "output_type": "display_data",
          "data": {
            "image/png": "[encoded data removed]",
            "text/plain": [
              "<Figure size 432x288 with 1 Axes>"
            ]
          },
          "metadata": {
            "tags": [],
            "needs_background": "light"
          }
        }
      ]
    },
    {
      "cell_type": "code",
      "metadata": {
        "colab": {
          "base_uri": "https://localhost:8080/",
          "height": 281
        },
        "id": "P5u09dcXmFTE",
        "outputId": "33570543-df03-403b-92d5-05976c725cb8"
      },
      "source": [
        "plot_graphs(history1, \"loss\")\n",
        "\n"
      ],
      "execution_count": 189,
      "outputs": [
        {
          "output_type": "display_data",
          "data": {
            "image/png": "[encoded data removed]",
            "text/plain": [
              "<Figure size 432x288 with 1 Axes>"
            ]
          },
          "metadata": {
            "tags": [],
            "needs_background": "light"
          }
        }
      ]
    },
    {
      "cell_type": "markdown",
      "metadata": {
        "id": "EcFsNZdkOfzx"
      },
      "source": [
        "# **LSTM**"
      ]
    },
    {
      "cell_type": "markdown",
      "metadata": {
        "id": "teoGgESbOuNm"
      },
      "source": [
        "**Text Preprocessing**"
      ]
    },
    {
      "cell_type": "code",
      "metadata": {
        "id": "sUG4HMNAuWX-"
      },
      "source": [
        "from nltk.stem.porter import PorterStemmer\n",
        "\n",
        "import re\n",
        "import string\n",
        "from nltk.corpus import stopwords\n",
        "from nltk.stem import PorterStemmer\n",
        "from nltk.stem.wordnet import WordNetLemmatizer\n",
        "from bs4 import BeautifulSoup"
      ],
      "execution_count": null,
      "outputs": []
    },
    {
      "cell_type": "code",
      "metadata": {
        "id": "hoPmk4gzOzpN"
      },
      "source": [
        "import re\n",
        "\n",
        "def decontracted(phrase):\n",
        "    # specific\n",
        "    phrase = re.sub(r\"won't\", \"will not\", phrase)\n",
        "    phrase = re.sub(r\"can\\'t\", \"can not\", phrase)\n",
        "\n",
        "    # general\n",
        "    phrase = re.sub(r\"n\\'t\", \" not\", phrase)\n",
        "    phrase = re.sub(r\"\\'re\", \" are\", phrase)\n",
        "    phrase = re.sub(r\"\\'s\", \" is\", phrase)\n",
        "    phrase = re.sub(r\"\\'d\", \" would\", phrase)\n",
        "    phrase = re.sub(r\"\\'ll\", \" will\", phrase)\n",
        "    phrase = re.sub(r\"\\'t\", \" not\", phrase)\n",
        "    phrase = re.sub(r\"\\'ve\", \" have\", phrase)\n",
        "    phrase = re.sub(r\"\\'m\", \" am\", phrase)\n",
        "    return phrase"
      ],
      "execution_count": null,
      "outputs": []
    },
    {
      "cell_type": "code",
      "metadata": {
        "id": "u1nWXubMO19F"
      },
      "source": [
        "stopwords= set(['br', 'the', 'i', 'me', 'my', 'myself', 'we', 'our', 'ours', 'ourselves', 'you', \"you're\", \"you've\",\\\n",
        "            \"you'll\", \"you'd\", 'your', 'yours', 'yourself', 'yourselves', 'he', 'him', 'his', 'himself', \\\n",
        "            'she', \"she's\", 'her', 'hers', 'herself', 'it', \"it's\", 'its', 'itself', 'they', 'them', 'their',\\\n",
        "            'theirs', 'themselves', 'what', 'which', 'who', 'whom', 'this', 'that', \"that'll\", 'these', 'those', \\\n",
        "            'am', 'is', 'are', 'was', 'were', 'be', 'been', 'being', 'have', 'has', 'had', 'having', 'do', 'does', \\\n",
        "            'did', 'doing', 'a', 'an', 'the', 'and', 'but', 'if', 'or', 'because', 'as', 'until', 'while', 'of', \\\n",
        "            'at', 'by', 'for', 'with', 'about', 'against', 'between', 'into', 'through', 'during', 'before', 'after',\\\n",
        "            'above', 'below', 'to', 'from', 'up', 'down', 'in', 'out', 'on', 'off', 'over', 'under', 'again', 'further',\\\n",
        "            'then', 'once', 'here', 'there', 'when', 'where', 'why', 'how', 'all', 'any', 'both', 'each', 'few', 'more',\\\n",
        "            'most', 'other', 'some', 'such', 'only', 'own', 'same', 'so', 'than', 'too', 'very', \\\n",
        "            's', 't', 'can', 'will', 'just', 'don', \"don't\", 'should', \"should've\", 'now', 'd', 'll', 'm', 'o', 're', \\\n",
        "            've', 'y', 'ain', 'aren', \"aren't\", 'couldn', \"couldn't\", 'didn', \"didn't\", 'doesn', \"doesn't\", 'hadn',\\\n",
        "            \"hadn't\", 'hasn', \"hasn't\", 'haven', \"haven't\", 'isn', \"isn't\", 'ma', 'mightn', \"mightn't\", 'mustn',\\\n",
        "            \"mustn't\", 'needn', \"needn't\", 'shan', \"shan't\", 'shouldn', \"shouldn't\", 'wasn', \"wasn't\", 'weren', \"weren't\", \\\n",
        "            'won', \"won't\", 'wouldn', \"wouldn't\"])"
      ],
      "execution_count": null,
      "outputs": []
    },
    {
      "cell_type": "code",
      "metadata": {
        "colab": {
          "base_uri": "https://localhost:8080/"
        },
        "id": "iAQm62NuO5KE",
        "outputId": "6092cbff-aadd-41f8-d42e-e259c6779a64"
      },
      "source": [
        "from tqdm import tqdm\n",
        "preprocessed_text = []\n",
        "# tqdm is for printing the status bar\n",
        "for sentance in tqdm(train_df['Description'].values):\n",
        "    sentance = re.sub(r\"http\\S+\", \"\", sentance)\n",
        "    sentance = BeautifulSoup(sentance, 'lxml').get_text()\n",
        "    sentance = decontracted(sentance)\n",
        "    sentance = re.sub(\"\\S*\\d\\S*\", \"\", sentance).strip()\n",
        "    sentance = re.sub('[^A-Za-z]+', ' ', sentance)\n",
        "    sentance = ' '.join(e.lower() for e in sentance.split() if e.lower() not in stopwords)\n",
        "    preprocessed_text.append(sentance.strip())"
      ],
      "execution_count": null,
      "outputs": [
        {
          "output_type": "stream",
          "text": [
            " 46%|████▌     | 3284/7201 [00:00<00:00, 4729.18it/s]/usr/local/lib/python3.7/dist-packages/bs4/__init__.py:273: UserWarning: \"b'..'\" looks like a filename, not markup. You should probably open this file and pass the filehandle into Beautiful Soup.\n",
            "  ' Beautiful Soup.' % markup)\n",
            "100%|██████████| 7201/7201 [00:01<00:00, 4695.65it/s]\n"
          ],
          "name": "stderr"
        }
      ]
    },
    {
      "cell_type": "code",
      "metadata": {
        "id": "pCV9QxZ1PEU2"
      },
      "source": [
        "train_df['Description']=preprocessed_text"
      ],
      "execution_count": null,
      "outputs": []
    },
    {
      "cell_type": "code",
      "metadata": {
        "colab": {
          "base_uri": "https://localhost:8080/",
          "height": 419
        },
        "id": "z1B1yLV6PNKs",
        "outputId": "1f312058-bb5e-4596-9a1a-034550c57faa"
      },
      "source": [
        "train_df"
      ],
      "execution_count": null,
      "outputs": [
        {
          "output_type": "execute_result",
          "data": {
            "text/html": [
              "<div>\n",
              "<style scoped>\n",
              "    .dataframe tbody tr th:only-of-type {\n",
              "        vertical-align: middle;\n",
              "    }\n",
              "\n",
              "    .dataframe tbody tr th {\n",
              "        vertical-align: top;\n",
              "    }\n",
              "\n",
              "    .dataframe thead th {\n",
              "        text-align: right;\n",
              "    }\n",
              "</style>\n",
              "<table border=\"1\" class=\"dataframe\">\n",
              "  <thead>\n",
              "    <tr style=\"text-align: right;\">\n",
              "      <th></th>\n",
              "      <th>Description</th>\n",
              "      <th>Commenting</th>\n",
              "      <th>Staring</th>\n",
              "      <th>Touching</th>\n",
              "    </tr>\n",
              "  </thead>\n",
              "  <tbody>\n",
              "    <tr>\n",
              "      <th>0</th>\n",
              "      <td>walking along crowded street holding mums hand...</td>\n",
              "      <td>0</td>\n",
              "      <td>0</td>\n",
              "      <td>1</td>\n",
              "    </tr>\n",
              "    <tr>\n",
              "      <th>1</th>\n",
              "      <td>incident took place evening metro two guys sta...</td>\n",
              "      <td>0</td>\n",
              "      <td>1</td>\n",
              "      <td>0</td>\n",
              "    </tr>\n",
              "    <tr>\n",
              "      <th>2</th>\n",
              "      <td>waiting bus man came bike offering liftvto you...</td>\n",
              "      <td>1</td>\n",
              "      <td>0</td>\n",
              "      <td>0</td>\n",
              "    </tr>\n",
              "    <tr>\n",
              "      <th>3</th>\n",
              "      <td>incident happened inside train</td>\n",
              "      <td>0</td>\n",
              "      <td>0</td>\n",
              "      <td>0</td>\n",
              "    </tr>\n",
              "    <tr>\n",
              "      <th>4</th>\n",
              "      <td>witnessed incident chain brutally snatched eld...</td>\n",
              "      <td>0</td>\n",
              "      <td>0</td>\n",
              "      <td>0</td>\n",
              "    </tr>\n",
              "    <tr>\n",
              "      <th>...</th>\n",
              "      <td>...</td>\n",
              "      <td>...</td>\n",
              "      <td>...</td>\n",
              "      <td>...</td>\n",
              "    </tr>\n",
              "    <tr>\n",
              "      <th>7196</th>\n",
              "      <td>person near construction site probably laborer...</td>\n",
              "      <td>0</td>\n",
              "      <td>1</td>\n",
              "      <td>0</td>\n",
              "    </tr>\n",
              "    <tr>\n",
              "      <th>7197</th>\n",
              "      <td>threatened making inappropriate conversation t...</td>\n",
              "      <td>1</td>\n",
              "      <td>0</td>\n",
              "      <td>0</td>\n",
              "    </tr>\n",
              "    <tr>\n",
              "      <th>7198</th>\n",
              "      <td>happened morning university metro station guys...</td>\n",
              "      <td>1</td>\n",
              "      <td>0</td>\n",
              "      <td>0</td>\n",
              "    </tr>\n",
              "    <tr>\n",
              "      <th>7199</th>\n",
              "      <td>one day aunt returniec frm office shaunt e fou...</td>\n",
              "      <td>0</td>\n",
              "      <td>0</td>\n",
              "      <td>0</td>\n",
              "    </tr>\n",
              "    <tr>\n",
              "      <th>7200</th>\n",
              "      <td>victim sxual assault rape</td>\n",
              "      <td>0</td>\n",
              "      <td>0</td>\n",
              "      <td>0</td>\n",
              "    </tr>\n",
              "  </tbody>\n",
              "</table>\n",
              "<p>7201 rows × 4 columns</p>\n",
              "</div>"
            ],
            "text/plain": [
              "                                            Description  ...  Touching\n",
              "0     walking along crowded street holding mums hand...  ...         1\n",
              "1     incident took place evening metro two guys sta...  ...         0\n",
              "2     waiting bus man came bike offering liftvto you...  ...         0\n",
              "3                        incident happened inside train  ...         0\n",
              "4     witnessed incident chain brutally snatched eld...  ...         0\n",
              "...                                                 ...  ...       ...\n",
              "7196  person near construction site probably laborer...  ...         0\n",
              "7197  threatened making inappropriate conversation t...  ...         0\n",
              "7198  happened morning university metro station guys...  ...         0\n",
              "7199  one day aunt returniec frm office shaunt e fou...  ...         0\n",
              "7200                          victim sxual assault rape  ...         0\n",
              "\n",
              "[7201 rows x 4 columns]"
            ]
          },
          "metadata": {
            "tags": []
          },
          "execution_count": 9
        }
      ]
    },
    {
      "cell_type": "code",
      "metadata": {
        "colab": {
          "base_uri": "https://localhost:8080/"
        },
        "id": "GeFeaBTVPPHc",
        "outputId": "5d707edf-98d6-4918-a18a-25da9a34aa69"
      },
      "source": [
        "preprocessed_text = []\n",
        "# tqdm is for printing the status bar\n",
        "for sentance in tqdm(dev_df['Description'].values):\n",
        "    sentance = re.sub(r\"http\\S+\", \"\", sentance)\n",
        "    sentance = BeautifulSoup(sentance, 'lxml').get_text()\n",
        "    sentance = decontracted(sentance)\n",
        "    sentance = re.sub(\"\\S*\\d\\S*\", \"\", sentance).strip()\n",
        "    sentance = re.sub('[^A-Za-z]+', ' ', sentance)\n",
        "    sentance = ' '.join(e.lower() for e in sentance.split() if e.lower() not in stopwords)\n",
        "    preprocessed_text.append(sentance.strip())"
      ],
      "execution_count": null,
      "outputs": [
        {
          "output_type": "stream",
          "text": [
            "100%|██████████| 990/990 [00:00<00:00, 4327.37it/s]\n"
          ],
          "name": "stderr"
        }
      ]
    },
    {
      "cell_type": "code",
      "metadata": {
        "id": "hM0EYgmuPcNH"
      },
      "source": [
        "dev_df['Description']=preprocessed_text\n"
      ],
      "execution_count": null,
      "outputs": []
    },
    {
      "cell_type": "code",
      "metadata": {
        "colab": {
          "base_uri": "https://localhost:8080/",
          "height": 419
        },
        "id": "bZbavejsPk-i",
        "outputId": "0555b775-ec5d-44ef-df38-c852289d558f"
      },
      "source": [
        "dev_df"
      ],
      "execution_count": null,
      "outputs": [
        {
          "output_type": "execute_result",
          "data": {
            "text/html": [
              "<div>\n",
              "<style scoped>\n",
              "    .dataframe tbody tr th:only-of-type {\n",
              "        vertical-align: middle;\n",
              "    }\n",
              "\n",
              "    .dataframe tbody tr th {\n",
              "        vertical-align: top;\n",
              "    }\n",
              "\n",
              "    .dataframe thead th {\n",
              "        text-align: right;\n",
              "    }\n",
              "</style>\n",
              "<table border=\"1\" class=\"dataframe\">\n",
              "  <thead>\n",
              "    <tr style=\"text-align: right;\">\n",
              "      <th></th>\n",
              "      <th>Description</th>\n",
              "      <th>Commenting</th>\n",
              "      <th>Staring</th>\n",
              "      <th>Touching</th>\n",
              "    </tr>\n",
              "  </thead>\n",
              "  <tbody>\n",
              "    <tr>\n",
              "      <th>0</th>\n",
              "      <td>buses approaching place highly unsafe</td>\n",
              "      <td>1</td>\n",
              "      <td>0</td>\n",
              "      <td>1</td>\n",
              "    </tr>\n",
              "    <tr>\n",
              "      <th>1</th>\n",
              "      <td>man commenting</td>\n",
              "      <td>1</td>\n",
              "      <td>0</td>\n",
              "      <td>0</td>\n",
              "    </tr>\n",
              "    <tr>\n",
              "      <th>2</th>\n",
              "      <td>share auto</td>\n",
              "      <td>0</td>\n",
              "      <td>0</td>\n",
              "      <td>1</td>\n",
              "    </tr>\n",
              "    <tr>\n",
              "      <th>3</th>\n",
              "      <td>coming club night friends guys came stopped us...</td>\n",
              "      <td>1</td>\n",
              "      <td>0</td>\n",
              "      <td>0</td>\n",
              "    </tr>\n",
              "    <tr>\n",
              "      <th>4</th>\n",
              "      <td>one friends molested crowd happened no bridge ...</td>\n",
              "      <td>0</td>\n",
              "      <td>0</td>\n",
              "      <td>1</td>\n",
              "    </tr>\n",
              "    <tr>\n",
              "      <th>...</th>\n",
              "      <td>...</td>\n",
              "      <td>...</td>\n",
              "      <td>...</td>\n",
              "      <td>...</td>\n",
              "    </tr>\n",
              "    <tr>\n",
              "      <th>985</th>\n",
              "      <td>returning home riding bicycle almost near home...</td>\n",
              "      <td>1</td>\n",
              "      <td>0</td>\n",
              "      <td>0</td>\n",
              "    </tr>\n",
              "    <tr>\n",
              "      <th>986</th>\n",
              "      <td>two boys bike commented abused friend leaving ...</td>\n",
              "      <td>1</td>\n",
              "      <td>0</td>\n",
              "      <td>0</td>\n",
              "    </tr>\n",
              "    <tr>\n",
              "      <th>987</th>\n",
              "      <td>evening guy showed middle finger called slut l...</td>\n",
              "      <td>1</td>\n",
              "      <td>0</td>\n",
              "      <td>0</td>\n",
              "    </tr>\n",
              "    <tr>\n",
              "      <th>988</th>\n",
              "      <td>evening time two young boys riding bike roamin...</td>\n",
              "      <td>0</td>\n",
              "      <td>0</td>\n",
              "      <td>0</td>\n",
              "    </tr>\n",
              "    <tr>\n",
              "      <th>989</th>\n",
              "      <td>tried touch breast elbow hand</td>\n",
              "      <td>0</td>\n",
              "      <td>0</td>\n",
              "      <td>1</td>\n",
              "    </tr>\n",
              "  </tbody>\n",
              "</table>\n",
              "<p>990 rows × 4 columns</p>\n",
              "</div>"
            ],
            "text/plain": [
              "                                           Description  ...  Touching\n",
              "0                buses approaching place highly unsafe  ...         1\n",
              "1                                       man commenting  ...         0\n",
              "2                                           share auto  ...         1\n",
              "3    coming club night friends guys came stopped us...  ...         0\n",
              "4    one friends molested crowd happened no bridge ...  ...         1\n",
              "..                                                 ...  ...       ...\n",
              "985  returning home riding bicycle almost near home...  ...         0\n",
              "986  two boys bike commented abused friend leaving ...  ...         0\n",
              "987  evening guy showed middle finger called slut l...  ...         0\n",
              "988  evening time two young boys riding bike roamin...  ...         0\n",
              "989                      tried touch breast elbow hand  ...         1\n",
              "\n",
              "[990 rows x 4 columns]"
            ]
          },
          "metadata": {
            "tags": []
          },
          "execution_count": 175
        }
      ]
    },
    {
      "cell_type": "code",
      "metadata": {
        "colab": {
          "base_uri": "https://localhost:8080/"
        },
        "id": "HCPQ78o5PmpY",
        "outputId": "727200a6-7d2f-4f65-9a4c-0c9b9cfe0787"
      },
      "source": [
        "from tensorflow.keras.preprocessing.text import Tokenizer\n",
        "from tensorflow.keras.preprocessing.sequence import pad_sequences\n",
        "import tensorflow as tf\n",
        "\n",
        "vocab_size = 10000\n",
        "embedding_dim = 64\n",
        "max_length = 200\n",
        "trunc_type = 'post'\n",
        "padding_type = 'post'\n",
        "oov_tok = '<OOV>'\n",
        "training_portion = .8\n",
        "\n",
        "tokenizer = Tokenizer(num_words = vocab_size, oov_token=oov_tok)\n",
        "tokenizer.fit_on_texts(train_df['Description'])\n",
        "word_index = tokenizer.word_index\n",
        "dict(list(word_index.items())[0:10])"
      ],
      "execution_count": null,
      "outputs": [
        {
          "output_type": "execute_result",
          "data": {
            "text/plain": [
              "{'<OOV>': 1,\n",
              " 'a': 6,\n",
              " 'and': 2,\n",
              " 'i': 4,\n",
              " 'in': 8,\n",
              " 'me': 10,\n",
              " 'my': 9,\n",
              " 'the': 3,\n",
              " 'to': 7,\n",
              " 'was': 5}"
            ]
          },
          "metadata": {
            "tags": []
          },
          "execution_count": 176
        }
      ]
    },
    {
      "cell_type": "code",
      "metadata": {
        "colab": {
          "base_uri": "https://localhost:8080/"
        },
        "id": "uIWqxUvPP7mU",
        "outputId": "fa1fc2e2-3490-43f2-cc94-04541732ea46"
      },
      "source": [
        "train_sequences = tokenizer.texts_to_sequences(train_df['Description'])\n",
        "print(train_sequences[10])"
      ],
      "execution_count": null,
      "outputs": [
        {
          "output_type": "stream",
          "text": [
            "[202, 2, 81, 59, 18, 77, 11, 3, 4361, 337, 3, 374, 157, 13, 3, 2521, 1670, 425, 10, 2, 9, 35, 225, 17, 40, 3105, 22, 3, 3106, 2, 692, 4362, 13, 3, 1670, 349, 295, 189, 57, 214]\n"
          ],
          "name": "stdout"
        }
      ]
    },
    {
      "cell_type": "code",
      "metadata": {
        "colab": {
          "base_uri": "https://localhost:8080/"
        },
        "id": "UQKlxnLpQL6u",
        "outputId": "de1a6d5b-f7ca-487b-c8bd-15a2580db413"
      },
      "source": [
        "train_padded = pad_sequences(train_sequences, maxlen=max_length, padding=padding_type, truncating=trunc_type)\n",
        "print(train_padded[10])\n",
        "\n",
        "print(len(train_sequences))\n",
        "print(train_padded.shape)"
      ],
      "execution_count": null,
      "outputs": [
        {
          "output_type": "stream",
          "text": [
            "[ 202    2   81   59   18   77   11    3 4361  337    3  374  157   13\n",
            "    3 2521 1670  425   10    2    9   35  225   17   40 3105   22    3\n",
            " 3106    2  692 4362   13    3 1670  349  295  189   57  214    0    0\n",
            "    0    0    0    0    0    0    0    0    0    0    0    0    0    0\n",
            "    0    0    0    0    0    0    0    0    0    0    0    0    0    0\n",
            "    0    0    0    0    0    0    0    0    0    0    0    0    0    0\n",
            "    0    0    0    0    0    0    0    0    0    0    0    0    0    0\n",
            "    0    0    0    0    0    0    0    0    0    0    0    0    0    0\n",
            "    0    0    0    0    0    0    0    0    0    0    0    0    0    0\n",
            "    0    0    0    0    0    0    0    0    0    0    0    0    0    0\n",
            "    0    0    0    0    0    0    0    0    0    0    0    0    0    0\n",
            "    0    0    0    0    0    0    0    0    0    0    0    0    0    0\n",
            "    0    0    0    0    0    0    0    0    0    0    0    0    0    0\n",
            "    0    0    0    0    0    0    0    0    0    0    0    0    0    0\n",
            "    0    0    0    0]\n",
            "7201\n",
            "(7201, 200)\n"
          ],
          "name": "stdout"
        }
      ]
    },
    {
      "cell_type": "code",
      "metadata": {
        "colab": {
          "base_uri": "https://localhost:8080/"
        },
        "id": "XWULRa1GQR5f",
        "outputId": "0aa83ea6-16fc-4bc2-ed14-488c748ef61b"
      },
      "source": [
        "validation_sequences = tokenizer.texts_to_sequences(dev_df['Description'])\n",
        "validation_padded = pad_sequences(validation_sequences, maxlen=max_length, padding=padding_type, truncating=trunc_type)\n",
        "\n",
        "print(len(validation_sequences))\n",
        "print(validation_padded.shape)"
      ],
      "execution_count": null,
      "outputs": [
        {
          "output_type": "stream",
          "text": [
            "990\n",
            "(990, 200)\n"
          ],
          "name": "stdout"
        }
      ]
    },
    {
      "cell_type": "code",
      "metadata": {
        "id": "1X9Tw75XQej4"
      },
      "source": [
        "\n",
        "training_label_seq = train_df['Commenting']\n",
        "validation_label_seq = dev_df['Commenting']\n",
        "\n"
      ],
      "execution_count": null,
      "outputs": []
    },
    {
      "cell_type": "code",
      "metadata": {
        "id": "dRLW7soZQtwx"
      },
      "source": [
        "  from tensorflow.keras.layers import Embedding,LSTM,Dense,GlobalAvgPool1D,Flatten,Bidirectional,Dropout\n",
        "from tensorflow.keras import Sequential\n",
        "from tensorflow.keras.losses import binary_crossentropy\n",
        "from tensorflow.keras.regularizers import L2,L1\n"
      ],
      "execution_count": null,
      "outputs": []
    },
    {
      "cell_type": "code",
      "metadata": {
        "colab": {
          "base_uri": "https://localhost:8080/"
        },
        "id": "P3xneYk0RC1m",
        "outputId": "c239ed3b-585a-44c7-96b1-2eb7586aa16b"
      },
      "source": [
        "model = tf.keras.Sequential([\n",
        "    Embedding(input_dim=vocab_size,input_length=200, output_dim=128),\n",
        "    Bidirectional( LSTM(128,recurrent_dropout=0.8,return_sequences=True,)),\n",
        "    Bidirectional( LSTM(64,recurrent_dropout=0.8,return_sequences=True,)),\n",
        "    #LSTM(32),\n",
        "    Flatten(),\n",
        "    tf.keras.layers.Dense(512, activation='relu',kernel_regularizer=L2(0.0001),kernel_initializer='glorot_uniform'),\n",
        "    Dropout(0.8),\n",
        "\n",
        "    #tf.keras.layers.Dense(128, activation='relu',kernel_regularizer=L2(0.0001),kernel_initializer='glorot_uniform'),\n",
        "        #Dropout(0.5),\n",
        "\n",
        "    tf.keras.layers.Dense(64, activation='relu',kernel_regularizer=L2(0.0001),kernel_initializer='glorot_uniform'),\n",
        "\n",
        "    #Dropout(0.5),\n",
        "    tf.keras.layers.Dense(1, activation='sigmoid',kernel_regularizer=L2(0.0001),kernel_initializer='glorot_uniform')\n",
        "])\n",
        "model.summary()"
      ],
      "execution_count": null,
      "outputs": [
        {
          "output_type": "stream",
          "text": [
            "WARNING:tensorflow:Layer lstm_72 will not use cuDNN kernel since it doesn't meet the cuDNN kernel criteria. It will use generic GPU kernel as fallback when running on GPU\n",
            "WARNING:tensorflow:Layer lstm_72 will not use cuDNN kernel since it doesn't meet the cuDNN kernel criteria. It will use generic GPU kernel as fallback when running on GPU\n",
            "WARNING:tensorflow:Layer lstm_72 will not use cuDNN kernel since it doesn't meet the cuDNN kernel criteria. It will use generic GPU kernel as fallback when running on GPU\n",
            "WARNING:tensorflow:Layer lstm_73 will not use cuDNN kernel since it doesn't meet the cuDNN kernel criteria. It will use generic GPU kernel as fallback when running on GPU\n",
            "WARNING:tensorflow:Layer lstm_73 will not use cuDNN kernel since it doesn't meet the cuDNN kernel criteria. It will use generic GPU kernel as fallback when running on GPU\n",
            "WARNING:tensorflow:Layer lstm_73 will not use cuDNN kernel since it doesn't meet the cuDNN kernel criteria. It will use generic GPU kernel as fallback when running on GPU\n",
            "Model: \"sequential_43\"\n",
            "_________________________________________________________________\n",
            "Layer (type)                 Output Shape              Param #   \n",
            "=================================================================\n",
            "embedding_32 (Embedding)     (None, 200, 128)          1280000   \n",
            "_________________________________________________________________\n",
            "bidirectional_16 (Bidirectio (None, 200, 256)          263168    \n",
            "_________________________________________________________________\n",
            "bidirectional_17 (Bidirectio (None, 200, 128)          164352    \n",
            "_________________________________________________________________\n",
            "flatten_44 (Flatten)         (None, 25600)             0         \n",
            "_________________________________________________________________\n",
            "dense_123 (Dense)            (None, 512)               13107712  \n",
            "_________________________________________________________________\n",
            "dropout_37 (Dropout)         (None, 512)               0         \n",
            "_________________________________________________________________\n",
            "dense_124 (Dense)            (None, 64)                32832     \n",
            "_________________________________________________________________\n",
            "dense_125 (Dense)            (None, 1)                 65        \n",
            "=================================================================\n",
            "Total params: 14,848,129\n",
            "Trainable params: 14,848,129\n",
            "Non-trainable params: 0\n",
            "_________________________________________________________________\n"
          ],
          "name": "stdout"
        }
      ]
    },
    {
      "cell_type": "code",
      "metadata": {
        "colab": {
          "base_uri": "https://localhost:8080/"
        },
        "id": "J6FviTv-EyUA",
        "outputId": "dc9882a1-b24c-4922-89a1-a9d83463062c"
      },
      "source": [
        "num_words = len(tokenizer.word_index) + 1\n",
        "num_words"
      ],
      "execution_count": null,
      "outputs": [
        {
          "output_type": "execute_result",
          "data": {
            "text/plain": [
              "8206"
            ]
          },
          "metadata": {
            "tags": []
          },
          "execution_count": 36
        }
      ]
    },
    {
      "cell_type": "code",
      "metadata": {
        "colab": {
          "base_uri": "https://localhost:8080/"
        },
        "id": "_6SPOHtirOOB",
        "outputId": "7c80c5eb-59b3-48cf-e25d-6c19f80568ba"
      },
      "source": [
        "train_padded.shape\n",
        "print(type(training_label_seq))"
      ],
      "execution_count": null,
      "outputs": [
        {
          "output_type": "stream",
          "text": [
            "<class 'pandas.core.series.Series'>\n"
          ],
          "name": "stdout"
        }
      ]
    },
    {
      "cell_type": "code",
      "metadata": {
        "id": "hcS2tsVJqvZL"
      },
      "source": [
        "train_padded=  train_padded.reshape(7201 ,200)\n",
        "validation_padded=validation_padded.reshape(1701,200)\n"
      ],
      "execution_count": null,
      "outputs": []
    },
    {
      "cell_type": "code",
      "metadata": {
        "id": "X8b5ROsBH3yy"
      },
      "source": [
        "my_callbacks1 = [\n",
        "    tf.keras.callbacks.EarlyStopping(patience=5)\n",
        "]"
      ],
      "execution_count": null,
      "outputs": []
    },
    {
      "cell_type": "code",
      "metadata": {
        "colab": {
          "base_uri": "https://localhost:8080/"
        },
        "id": "qs0LG4SRRMZ9",
        "outputId": "4f3f8d89-d8d8-4295-8e78-9141df8fe968"
      },
      "source": [
        "model.compile(loss='binary_crossentropy', optimizer='adam', metrics=['accuracy'])\n",
        "num_epochs = 100\n",
        "history = model.fit(train_padded, training_label_seq, epochs=num_epochs, \n",
        "                    validation_data=(validation_padded, validation_label_seq),batch_size=16,callbacks=my_callbacks1, steps_per_epoch=20,\n",
        "                    validation_steps=10)"
      ],
      "execution_count": null,
      "outputs": [
        {
          "output_type": "stream",
          "text": [
            "Epoch 1/100\n",
            "20/20 [==============================] - 57s 2s/step - loss: 0.8295 - accuracy: 0.5718 - val_loss: 0.7953 - val_accuracy: 0.6500\n",
            "Epoch 2/100\n",
            "20/20 [==============================] - 48s 2s/step - loss: 0.8271 - accuracy: 0.5889 - val_loss: 0.8535 - val_accuracy: 0.3500\n",
            "Epoch 3/100\n",
            "20/20 [==============================] - 48s 2s/step - loss: 0.9015 - accuracy: 0.5648 - val_loss: 0.8002 - val_accuracy: 0.6500\n",
            "Epoch 4/100\n",
            "20/20 [==============================] - 49s 2s/step - loss: 0.8002 - accuracy: 0.6236 - val_loss: 0.8576 - val_accuracy: 0.3938\n",
            "Epoch 5/100\n",
            "20/20 [==============================] - 49s 2s/step - loss: 0.8041 - accuracy: 0.6396 - val_loss: 0.7500 - val_accuracy: 0.6938\n",
            "Epoch 6/100\n",
            "20/20 [==============================] - 48s 2s/step - loss: 0.7331 - accuracy: 0.7139 - val_loss: 0.8181 - val_accuracy: 0.5813\n",
            "Epoch 7/100\n",
            "20/20 [==============================] - 49s 2s/step - loss: 0.7912 - accuracy: 0.6798 - val_loss: 0.7783 - val_accuracy: 0.6750\n",
            "Epoch 8/100\n",
            "20/20 [==============================] - 49s 2s/step - loss: 0.7610 - accuracy: 0.6674 - val_loss: 0.7464 - val_accuracy: 0.7250\n",
            "Epoch 9/100\n",
            "20/20 [==============================] - 49s 2s/step - loss: 0.7292 - accuracy: 0.7233 - val_loss: 0.7323 - val_accuracy: 0.7312\n",
            "Epoch 10/100\n",
            "20/20 [==============================] - 49s 2s/step - loss: 0.8799 - accuracy: 0.7174 - val_loss: 0.7349 - val_accuracy: 0.7188\n",
            "Epoch 11/100\n",
            "20/20 [==============================] - 48s 2s/step - loss: 0.7713 - accuracy: 0.6623 - val_loss: 0.7091 - val_accuracy: 0.7312\n",
            "Epoch 12/100\n",
            "20/20 [==============================] - 48s 2s/step - loss: 0.7000 - accuracy: 0.7420 - val_loss: 0.7290 - val_accuracy: 0.7750\n",
            "Epoch 13/100\n",
            "20/20 [==============================] - 48s 2s/step - loss: 0.6892 - accuracy: 0.7756 - val_loss: 0.7077 - val_accuracy: 0.7688\n",
            "Epoch 14/100\n",
            "20/20 [==============================] - 47s 2s/step - loss: 0.6836 - accuracy: 0.7843 - val_loss: 0.7110 - val_accuracy: 0.7688\n",
            "Epoch 15/100\n",
            "20/20 [==============================] - 48s 2s/step - loss: 0.7000 - accuracy: 0.7443 - val_loss: 0.7189 - val_accuracy: 0.7688\n",
            "Epoch 16/100\n",
            "20/20 [==============================] - 49s 2s/step - loss: 0.6528 - accuracy: 0.7832 - val_loss: 0.6842 - val_accuracy: 0.7688\n",
            "Epoch 17/100\n",
            "20/20 [==============================] - 47s 2s/step - loss: 0.6977 - accuracy: 0.7457 - val_loss: 0.6833 - val_accuracy: 0.7563\n",
            "Epoch 18/100\n",
            "20/20 [==============================] - 47s 2s/step - loss: 0.7024 - accuracy: 0.7697 - val_loss: 0.6657 - val_accuracy: 0.7875\n",
            "Epoch 19/100\n",
            "20/20 [==============================] - 46s 2s/step - loss: 0.6333 - accuracy: 0.7617 - val_loss: 0.6622 - val_accuracy: 0.7750\n",
            "Epoch 20/100\n",
            "20/20 [==============================] - 46s 2s/step - loss: 0.6309 - accuracy: 0.7819 - val_loss: 0.6668 - val_accuracy: 0.7625\n",
            "Epoch 21/100\n",
            "20/20 [==============================] - 47s 2s/step - loss: 0.5991 - accuracy: 0.7666 - val_loss: 0.6515 - val_accuracy: 0.7750\n",
            "Epoch 22/100\n",
            "20/20 [==============================] - 47s 2s/step - loss: 0.6034 - accuracy: 0.7848 - val_loss: 0.6288 - val_accuracy: 0.7688\n",
            "Epoch 23/100\n",
            "20/20 [==============================] - 47s 2s/step - loss: 0.4767 - accuracy: 0.8817 - val_loss: 0.6951 - val_accuracy: 0.7688\n",
            "Epoch 24/100\n",
            "20/20 [==============================] - 47s 2s/step - loss: 0.5374 - accuracy: 0.8463 - val_loss: 0.6757 - val_accuracy: 0.7625\n",
            "Epoch 25/100\n",
            "20/20 [==============================] - 48s 2s/step - loss: 0.5317 - accuracy: 0.8404 - val_loss: 0.6661 - val_accuracy: 0.7625\n",
            "Epoch 26/100\n",
            "20/20 [==============================] - 47s 2s/step - loss: 0.4973 - accuracy: 0.8682 - val_loss: 0.6648 - val_accuracy: 0.7688\n",
            "Epoch 27/100\n",
            "20/20 [==============================] - 48s 2s/step - loss: 0.5637 - accuracy: 0.8027 - val_loss: 0.6444 - val_accuracy: 0.7625\n"
          ],
          "name": "stdout"
        }
      ]
    },
    {
      "cell_type": "code",
      "metadata": {
        "colab": {
          "base_uri": "https://localhost:8080/",
          "height": 280
        },
        "id": "sdgJlICWRcc9",
        "outputId": "f6d6b18a-b077-47e6-8813-c502ba2a4c0c"
      },
      "source": [
        "plot_graphs(history, \"accuracy\")"
      ],
      "execution_count": null,
      "outputs": [
        {
          "output_type": "display_data",
          "data": {
            "image/png": "[encoded data removed]",
            "text/plain": [
              "<Figure size 432x288 with 1 Axes>"
            ]
          },
          "metadata": {
            "tags": [],
            "needs_background": "light"
          }
        }
      ]
    },
    {
      "cell_type": "code",
      "metadata": {
        "colab": {
          "base_uri": "https://localhost:8080/",
          "height": 282
        },
        "id": "mNPaif7VTSqj",
        "outputId": "4641e5a6-3a87-4caa-aba9-36bebb2799fc"
      },
      "source": [
        "plot_graphs(history, \"loss\")"
      ],
      "execution_count": null,
      "outputs": [
        {
          "output_type": "display_data",
          "data": {
            "image/png": "[encoded data removed]",
            "text/plain": [
              "<Figure size 432x288 with 1 Axes>"
            ]
          },
          "metadata": {
            "tags": [],
            "needs_background": "light"
          }
        }
      ]
    },
    {
      "cell_type": "markdown",
      "metadata": {
        "id": "uu-l-_yL52Mp"
      },
      "source": [
        "# Preparing Test Data to evaluate"
      ]
    },
    {
      "cell_type": "code",
      "metadata": {
        "colab": {
          "base_uri": "https://localhost:8080/"
        },
        "id": "P331bFofTXGq",
        "outputId": "ad248bd0-099c-40ff-d85d-0ad90e264027"
      },
      "source": [
        "test_sequences = tokenizer.texts_to_sequences(test_df['Description'])\n",
        "test_padded = pad_sequences(test_sequences, maxlen=max_length, padding=padding_type, truncating=trunc_type)\n",
        "\n",
        "print(len(test_sequences))\n",
        "print(test_padded.shape)"
      ],
      "execution_count": null,
      "outputs": [
        {
          "output_type": "stream",
          "text": [
            "1701\n",
            "(1701, 200)\n"
          ],
          "name": "stdout"
        }
      ]
    },
    {
      "cell_type": "code",
      "metadata": {
        "id": "MQkKF0Ng6Lph"
      },
      "source": [
        "test_label_seq = test_df['Commenting']\n"
      ],
      "execution_count": null,
      "outputs": []
    },
    {
      "cell_type": "code",
      "metadata": {
        "colab": {
          "base_uri": "https://localhost:8080/"
        },
        "id": "NjXPabGmCP5q",
        "outputId": "6c6b4910-0fee-4a3c-d049-e49b656846e4"
      },
      "source": [
        "model.evaluate(test_padded,test_label_seq)"
      ],
      "execution_count": null,
      "outputs": [
        {
          "output_type": "stream",
          "text": [
            "54/54 [==============================] - 11s 195ms/step - loss: 0.5764 - accuracy: 0.8001\n"
          ],
          "name": "stdout"
        },
        {
          "output_type": "execute_result",
          "data": {
            "text/plain": [
              "[0.576447606086731, 0.800117552280426]"
            ]
          },
          "metadata": {
            "tags": []
          },
          "execution_count": 199
        }
      ]
    },
    {
      "cell_type": "code",
      "metadata": {
        "id": "p6vXus5oCZn_"
      },
      "source": [
        ""
      ],
      "execution_count": null,
      "outputs": []
    }
  ]
}